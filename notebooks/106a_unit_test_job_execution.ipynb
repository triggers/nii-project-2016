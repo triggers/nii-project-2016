{
 "cells": [
  {
   "cell_type": "code",
   "execution_count": 1,
   "metadata": {
    "ExecuteTime": {
     "end_time": "2016-02-24T19:06:25.423367",
     "start_time": "2016-02-24T19:06:24.885014"
    },
    "collapsed": false,
    "deletable": false,
    "hide_input": true,
    "init_cell": true,
    "locked": true,
    "run_control": {
     "marked": false
    }
   },
   "outputs": [
    {
     "name": "stdout",
     "output_type": "stream",
     "text": [
      "Ready.\n",
      "Changing global mode to 'my-script'\n"
     ]
    }
   ],
   "source": [
    "source extend_bashkernel-2modes.source\n",
    "set-global-evaluation-mode \"my-script\""
   ]
  },
  {
   "cell_type": "code",
   "execution_count": null,
   "metadata": {
    "collapsed": false,
    "run_control": {
     "marked": false
    }
   },
   "outputs": [],
   "source": [
    "set-global-evaluation-mode \"my-script\""
   ]
  },
  {
   "cell_type": "markdown",
   "metadata": {
    "collapsed": true,
    "heading_collapsed": false,
    "level": 1,
    "run_control": {
     "marked": false
    }
   },
   "source": [
    "# Jenkins 単体テスト実行ジョブ\n",
    "\n",
    "# rbenv pluginのインストール\n",
    "\n",
    "[104_jenkins_github_operation.ipynb](./104_jenkins_github_operation.ipynb)を参考にしてrbenv pluginをインストールしてください。"
   ]
  },
  {
   "cell_type": "markdown",
   "metadata": {
    "heading_collapsed": false,
    "level": 1,
    "run_control": {
     "marked": false
    }
   },
   "source": [
    "# rbenvを使ってみる\n",
    "\n",
    "## ジョブを新規作成します\n",
    "\n",
    "![jenkins](https://cloud.githubusercontent.com/assets/76867/7628716/9b3d675a-fa61-11e4-8f68-947e70353a5e.png)\n",
    "\n",
    "## 左メニューから「新規ジョブ作成」\n",
    "\n",
    "![jenkins](https://cloud.githubusercontent.com/assets/76867/7628725/af3c7d90-fa61-11e4-83d5-ac98e10e9d82.png)\n",
    "\n",
    "## ジョブ名とプロジェクトの種類を選択\n",
    "\n",
    "![jenkins](https://cloud.githubusercontent.com/assets/76867/7628732/c8ce46d0-fa61-11e4-8e12-871e1aaec3f8.png)\n",
    "\n",
    "## ジョブ名入力と選択完了後、「OK」\n",
    "\n",
    "![jenkins](https://cloud.githubusercontent.com/assets/76867/7628738/d9adf66c-fa61-11e4-88bd-1be34374b9e1.png)\n",
    "\n",
    "## プロジェクトの設定画面が表示されます\n",
    "\n",
    "![test rbenv config jenkins](https://cloud.githubusercontent.com/assets/76867/7628757/0a7a4ebc-fa62-11e4-9cbf-738381ac1654.png)\n",
    "\n",
    "## 下へスクロールし、「rbenv build wrapper」をチェックします\n",
    "\n",
    "![test rbenv config jenkins](https://cloud.githubusercontent.com/assets/76867/7628773/23ecee9a-fa62-11e4-9732-88eafcccd787.png)\n",
    "\n",
    "## 「The Ruby version」と「Preinstall gem list」を入力します\n",
    "\n",
    "テスト対象となるRubyバージョンと、使用するGEMパッケージを定義します。\n",
    "\n",
    "`The Ruby version`: 2.0.0-p598\n",
    "\n",
    "`Preinstall gem list`: bundler,rake\n",
    "\n",
    "![test rbenv config jenkins](https://cloud.githubusercontent.com/assets/76867/7628794/592418a4-fa62-11e4-82c4-c7519a7e1009.png)\n",
    "\n",
    "## 「ビルド手順の追加」を開きます\n",
    "\n",
    "![test rbenv config jenkins](https://cloud.githubusercontent.com/assets/76867/7628805/815db97e-fa62-11e4-99ce-6328d8556eb7.png)\n",
    "\n",
    "## 「シェルの実行」を選択します\n",
    "\n",
    "![test rbenv config jenkins](https://cloud.githubusercontent.com/assets/76867/7628815/96711784-fa62-11e4-9fd4-b6cb82bc8921.png)\n",
    "\n",
    "## 「シェルスクリプト」を入力します\n",
    "\n",
    "インストールしたパッケージが利用可能かどうかを確認してみます。\n",
    "\n",
    "![test rbenv config jenkins](https://cloud.githubusercontent.com/assets/76867/7628829/afae865a-fa62-11e4-9df0-4b5fa1fe0f11.png)\n",
    "\n",
    "## 「保存」をクリック\n",
    "\n",
    "![test rbenv config jenkins](https://cloud.githubusercontent.com/assets/76867/7628830/c18efefe-fa62-11e4-8fec-c4687bb837a9.png)\n",
    "\n",
    "## プロジェクト画面が表示されます\n",
    "\n",
    "![test rbenv jenkins](https://cloud.githubusercontent.com/assets/76867/7628836/cfe58504-fa62-11e4-964b-0afd45121578.png)\n",
    "\n",
    "## 左メニューから「ビルド実行」をクリックします\n",
    "\n",
    "![test rbenv jenkins](https://cloud.githubusercontent.com/assets/76867/7628848/e208e1b8-fa62-11e4-8fa1-04ac20ea960b.png)\n",
    "\n",
    "## ビルドが開始した事を確認します\n",
    "\n",
    "![test rbenv jenkins](https://cloud.githubusercontent.com/assets/76867/7628867/fdc9509a-fa62-11e4-8638-2e013a9d344f.png)\n",
    "\n",
    "## ビルドの状態を確認してみます\n",
    "\n",
    "rbenvを使ってrubyバイナリをビルドしているので、ビルドが完了するまでに時間がかかります。\n",
    "\n",
    "![test rbenv jenkins](https://cloud.githubusercontent.com/assets/76867/7628886/1cf36cbc-fa63-11e4-9e82-a3e2944ada4c.png)\n",
    "![test rbenv 1 jenkins](https://cloud.githubusercontent.com/assets/76867/7628897/2cfc4e30-fa63-11e4-9437-d10dbad7655e.png)\n",
    "![test rbenv 1 jenkins](https://cloud.githubusercontent.com/assets/76867/7628908/3c47ae52-fa63-11e4-87e5-eecd58b9b46f.png)\n",
    "\n",
    "![test rbenv 1 console jenkins](https://cloud.githubusercontent.com/assets/76867/7628913/4d93625a-fa63-11e4-9b5c-d411db431a17.png)\n",
    "\n",
    "rubyをインストールしてる事が分かります。\n",
    "\n",
    "![test rbenv 1 console jenkins](https://cloud.githubusercontent.com/assets/76867/7629003/1995be8e-fa64-11e4-9db9-fc73604be32e.png)\n",
    "\n",
    "無事に完了し、bundlerとrakeが利用可能状態である事が分かります。\n"
   ]
  },
  {
   "cell_type": "code",
   "execution_count": null,
   "metadata": {
    "collapsed": true,
    "hide_input": true,
    "hide_output": true,
    "run_control": {
     "marked": true
    }
   },
   "outputs": [],
   "source": [
    "# Task: jenkins-setup-rbenv\n",
    "# Evaluation mode: provided-script\n",
    "\n",
    "ssh -qi /home/centos/mykeypair root@10.0.2.100 <<EOF\n",
    "\n",
    "# Installs the plugins\n",
    "java -jar jenkins-cli.jar -s http://localhost:8080 install-plugin rbenv\n",
    "\n",
    "service jenkins restart\n",
    "\n",
    "while ! curl -I -s http://localhost:8080/ | grep -q \"200 OK\" ; do\n",
    "    echo \"Waiting for Jenkins...\"\n",
    "    sleep 3\n",
    "done\n",
    "echo \"Jenkins is ready\"\n",
    "EOF"
   ]
  },
  {
   "cell_type": "markdown",
   "metadata": {
    "run_control": {
     "marked": false
    }
   },
   "source": [
    "## 確認\n",
    "\n",
    "次のセルを実行してrbenv pluginがインストールされていることを確認してください。"
   ]
  },
  {
   "cell_type": "code",
   "execution_count": null,
   "metadata": {
    "collapsed": false,
    "run_control": {
     "marked": false
    }
   },
   "outputs": [],
   "source": [
    "# Task: jenkins-setup-rbenv\n",
    "# Evaluation mode: check"
   ]
  }
 ],
 "metadata": {
  "kernelspec": {
   "display_name": "Bash",
   "language": "bash",
   "name": "bash"
  },
  "language_info": {
   "codemirror_mode": "shell",
   "file_extension": ".sh",
   "mimetype": "text/x-sh",
   "name": "bash"
  },
  "toc": {
   "toc_cell": false,
   "toc_number_sections": true,
   "toc_threshold": 6,
   "toc_window_display": false
  }
 },
 "nbformat": 4,
 "nbformat_minor": 0
}
