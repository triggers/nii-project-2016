{
 "cells": [
  {
   "cell_type": "code",
   "execution_count": null,
   "metadata": {
    "collapsed": false,
    "deletable": false,
    "hide_input": true,
    "init_cell": true,
    "locked": true,
    "run_control": {
     "marked": false
    }
   },
   "outputs": [
    {
     "name": "stdout",
     "output_type": "stream",
     "text": [
      "Ready.\n"
     ]
    }
   ],
   "source": [
    "source extend_bashkernel-2modes.source\n",
    "set-global-evaluation-mode \"my-script\""
   ]
  },
  {
   "cell_type": "code",
   "execution_count": null,
   "metadata": {
    "collapsed": true,
    "run_control": {
     "marked": false
    }
   },
   "outputs": [],
   "source": [
    "set-global-evaluation-mode \"my-script\""
   ]
  },
  {
   "cell_type": "markdown",
   "metadata": {
    "run_control": {
     "marked": false
    }
   },
   "source": [
    "# YUM リポジトリ"
   ]
  },
  {
   "cell_type": "markdown",
   "metadata": {
    "run_control": {
     "marked": false
    }
   },
   "source": [
    "## はじめに"
   ]
  },
  {
   "cell_type": "markdown",
   "metadata": {
    "run_control": {
     "marked": false
    }
   },
   "source": [
    "yumリポジトリ作成手順を学ぶには、最小構成のyumリポジトリを作ってみる事が一番の近道です。本章では、実際に最小構成yumリポジトリを作りながらyumリポジトリ構築の基礎を学んで行きます。"
   ]
  },
  {
   "cell_type": "markdown",
   "metadata": {
    "run_control": {
     "marked": false
    }
   },
   "source": [
    "## 前提条件"
   ]
  },
  {
   "cell_type": "markdown",
   "metadata": {
    "run_control": {
     "marked": false
    }
   },
   "source": [
    "本書は「RPM 生成方法」の続編とも言うべき内容で、example-0.1.0.rpmが生成済みである事を前提に説明して行きます。"
   ]
  },
  {
   "cell_type": "markdown",
   "metadata": {
    "run_control": {
     "marked": false
    }
   },
   "source": [
    "## 演習について"
   ]
  },
  {
   "cell_type": "markdown",
   "metadata": {
    "run_control": {
     "marked": false
    }
   },
   "source": [
    "* コマンドは全てsshを利用してJenkinsが稼働するマシンで実行します。\n",
    "* スクリプト例に記載されているコードは実際に実行できます。課題をどう解決したら良いか解らなくなったら参考にして下さい。"
   ]
  },
  {
   "cell_type": "markdown",
   "metadata": {
    "run_control": {
     "marked": false
    }
   },
   "source": [
    "## 何故Yumなのか?"
   ]
  },
  {
   "cell_type": "markdown",
   "metadata": {
    "run_control": {
     "marked": false
    }
   },
   "source": [
    "rpmファイルを効率良く管理するには、yumの力を借りる事です。それは何故でしょうか？主に3つの理由があります。\n",
    "\n",
    "1. 依存関係の解決\n",
    "2. rpmファイル配置場所の意識\n",
    "3. バージョンの解決\n",
    "\n",
    "それぞれの理由を少し掘り下げてみます。"
   ]
  },
  {
   "cell_type": "markdown",
   "metadata": {
    "run_control": {
     "marked": false
    }
   },
   "source": [
    "### 理由1: 依存関係の解決"
   ]
  },
  {
   "cell_type": "markdown",
   "metadata": {
    "run_control": {
     "marked": false
    }
   },
   "source": [
    "rpmspecファイルには依存関係を定義出来ますが、rpmコマンドで依存パッケージのインストールまでは面倒見てくれません。それに対し、yumコマンドは依存パッケージのインストールまで面倒見てくれます。"
   ]
  },
  {
   "cell_type": "markdown",
   "metadata": {
    "run_control": {
     "marked": false
    }
   },
   "source": [
    "### 理由2: rpmファイル配置場所の意識"
   ]
  },
  {
   "cell_type": "markdown",
   "metadata": {
    "run_control": {
     "marked": false
    }
   },
   "source": [
    "rpmコマンドでrpmファイルをインストールする場合、rpmファイルの場所を意識する必要があります。以下に例を示します。\n",
    "\n",
    "```\n",
    "$ sudo rpm -ivh /var/www/html/pub/example-0.1.0-1.el6.x86_64.rpm\n",
    "$ sudo rpm -ivh http://ftp.example.com/pub/example-0.1.0-1.el6.x86_64.rpm\n",
    "$ sudo rpm -ivh ftp://ftp.example.com/pub/example-0.1.0-1.el6.x86_64.rpm\n",
    "```\n",
    "\n",
    "yumコマンドの場合は、yumリポジトリを事前設定しておく事により、rpmファイルの場所を意識する事無くインストールが可能です。\n",
    "\n",
    "```\n",
    "$ sudo yum install -y example\n",
    "```\n",
    "\n",
    "パッケージ数が1つや2つ程度であれば大した問題にはなりませんが、数十から数百も扱う場合は、管理運用コストが高くなります。"
   ]
  },
  {
   "cell_type": "markdown",
   "metadata": {
    "run_control": {
     "marked": false
    }
   },
   "source": [
    "### 理由3: バージョン情報"
   ]
  },
  {
   "cell_type": "markdown",
   "metadata": {
    "run_control": {
     "marked": false
    }
   },
   "source": [
    "yumリポジトリ内に複数バージョンのパッケージが存在する場合も上手に扱ってくれます。仮に`example-0.1.0`と`example-0.2.0`が存在しているとします。バージョンを意識したインストールの場合は、`パッケージ名-バージョン`でインストール可能です。\n",
    "\n",
    "```\n",
    "$ sudo yum install -y example-0.1.0\n",
    "$ sudo yum install -y example-0.2.0\n",
    "```\n",
    "\n",
    "また、`パッケージ名`のみ指定する事も可能です。\n",
    "\n",
    "```\n",
    "$ sudo yum install -y example\n",
    "```\n",
    "\n",
    "さて、この場合、どのバージョンがインストールされるでしょうか？答えは、`example-0.2.0`です。yumはリポジトリ内にどのバージョンが最新であるかを判断してインストールを行います。この仕組みは、新しいパッケージを配布したい時に有効な手段です。同じインストールコマンドを使い、常に最新バージョンをインストール可能です。インストール手順を定義する際にも役立ちます。"
   ]
  },
  {
   "cell_type": "markdown",
   "metadata": {
    "run_control": {
     "marked": false
    }
   },
   "source": [
    "## ここまでのまとめ"
   ]
  },
  {
   "cell_type": "markdown",
   "metadata": {
    "run_control": {
     "marked": false
    }
   },
   "source": [
    "3つの理由を踏まえると、もはやyumを利用しない理由が見当たりません。"
   ]
  },
  {
   "cell_type": "markdown",
   "metadata": {
    "run_control": {
     "marked": false
    }
   },
   "source": [
    "# Yumリポジトリ公開に必要なもの"
   ]
  },
  {
   "cell_type": "markdown",
   "metadata": {
    "run_control": {
     "marked": false
    }
   },
   "source": [
    "Yumリポジトリを公開するには、3つの要素が必要です。\n",
    "\n",
    "1. 公開するrpmファイル\n",
    "2. Yumリポジトリ\n",
    "3. Yumリポジトリ用repoファイル"
   ]
  },
  {
   "cell_type": "markdown",
   "metadata": {
    "run_control": {
     "marked": false
    }
   },
   "source": [
    "# 環境構築"
   ]
  },
  {
   "cell_type": "markdown",
   "metadata": {
    "run_control": {
     "marked": false
    }
   },
   "source": [
    "## 演習 : 必要なパッケージをインストールする"
   ]
  },
  {
   "cell_type": "markdown",
   "metadata": {
    "run_control": {
     "marked": false
    }
   },
   "source": [
    "### 演習の内容"
   ]
  },
  {
   "cell_type": "markdown",
   "metadata": {
    "run_control": {
     "marked": false
    }
   },
   "source": [
    "Yumリポジトリを構築するには`createrepo`が必要です。また、YumリポジトリをHTTPで公開する為に、`httpd`をインストールします。yumはFTPもサポートしているのでFTPでも構いませんが、本書ではHTTPで公開する事を前提に進めます。\n",
    "```\n",
    "$ sudo yum install -y createrepo httpd\n",
    "```\n",
    "実行結果例：\n",
    "\n",
    "> ```\n",
    "> $ sudo yum install -y createrepo httpd\n",
    "> Loaded plugins: fastestmirror\n",
    "> Setting up Install Process\n",
    "> Determining fastest mirrors\n",
    ">  * base: ftp.riken.jp\n",
    ">  * extras: ftp.riken.jp\n",
    ">  * updates: ftp.riken.jp\n",
    "> ...(省略)...\n",
    "> Complete!\n",
    "> ```\n",
    "\n",
    "**次のセルでパッケージのインストールを実行して下さい。**"
   ]
  },
  {
   "cell_type": "code",
   "execution_count": null,
   "metadata": {
    "collapsed": true,
    "run_control": {
     "marked": false
    }
   },
   "outputs": [],
   "source": []
  },
  {
   "cell_type": "markdown",
   "metadata": {
    "run_control": {
     "marked": false
    }
   },
   "source": [
    "### スクリプト例"
   ]
  },
  {
   "cell_type": "code",
   "execution_count": null,
   "metadata": {
    "collapsed": false,
    "deletable": false,
    "locked": true,
    "run_control": {
     "marked": false
    }
   },
   "outputs": [],
   "source": [
    "# Task: yum-host-install-packages\n",
    "# Evaluation Mode: provided-script\n",
    "\n",
    "# Install packages\n",
    "\n",
    "ssh -qi ../mykeypair root@10.0.2.100 'sudo yum install -y createrepo httpd'"
   ]
  },
  {
   "cell_type": "markdown",
   "metadata": {
    "run_control": {
     "marked": false
    }
   },
   "source": [
    "### 確認\n",
    "次のセルを実行して、必要なパッケージのインストールが完了していることを確認して下さい。"
   ]
  },
  {
   "cell_type": "code",
   "execution_count": null,
   "metadata": {
    "collapsed": true,
    "deletable": false,
    "locked": true,
    "run_control": {
     "marked": false
    }
   },
   "outputs": [],
   "source": [
    "# Task: yum-host-install-packages\n",
    "# Evaluation Mode: check"
   ]
  },
  {
   "cell_type": "markdown",
   "metadata": {
    "run_control": {
     "marked": false
    }
   },
   "source": [
    "## 演習 : パッケージ公開用HTTPDをセットアップする"
   ]
  },
  {
   "cell_type": "markdown",
   "metadata": {
    "run_control": {
     "marked": false
    }
   },
   "source": [
    "### 演習の内容"
   ]
  },
  {
   "cell_type": "markdown",
   "metadata": {
    "run_control": {
     "marked": false
    }
   },
   "source": [
    "パッケージ公開用のhttpdを起動して、自動起動を有効化します。\n",
    "\n",
    "**httpdを起動する**\n",
    "\n",
    "yumコマンドによるhttpdパッケージのインストールでは、サービス起動ませんので、httpdサービスを起動します。\n",
    "```\n",
    "$ sudo service httpd start\n",
    "```\n",
    "\n",
    "実行結果例：\n",
    "> ```\n",
    "> $ sudo service httpd start\n",
    "> Starting httpd: httpd: apr_sockaddr_info_get() failed for vagrant-centos6\n",
    "> httpd: Could not reliably determine the server's fully qualified domain name, using 127.0.0.1 for ServerName\n",
    ">                                                            [  OK  ]\n",
    "> ```"
   ]
  },
  {
   "cell_type": "markdown",
   "metadata": {
    "run_control": {
     "marked": false
    }
   },
   "source": [
    "**自動起動の有効化**\n",
    "\n",
    "パッケージインストール直後の初期設定では、システム起動時の自動起動が無効化されています。今回の用途においては、システム起動時に自動起動して欲しいので、自動起動を有効化します。\n",
    "\n",
    "* 自動起動有効化前の内容確認\n",
    "\n",
    "  設定変更前の自動起動設定を確認してみます。\n",
    "```\n",
    "$ chkconfig --list httpd\n",
    "```\n",
    "\n",
    "  実行結果例：\n",
    "> ```\n",
    "> $ chkconfig --list httpd\n",
    "> httpd           0:off   1:off   2:off   3:off   4:off   5:off   6:off\n",
    "> ```\n",
    "\n",
    "  `3:off`となっており、自動起動が無効化されています。\n",
    "\n",
    "\n",
    "* 自動起動の有効化\n",
    "\n",
    "  自動起動を有効化します。\n",
    "```\n",
    "$ sudo chkconfig httpd on\n",
    "```\n",
    "\n",
    "  実行結果例：\n",
    "> ```\n",
    "> $ sudo chkconfig httpd on\n",
    "> ```\n",
    "\n",
    "* 自動起動有効化の確認\n",
    "\n",
    "  自動起動が有効化されてる事を確認します。\n",
    "```\n",
    "$ chkconfig --list httpd\n",
    "```\n",
    "\n",
    "  実行結果例：\n",
    "> ```\n",
    "> $ chkconfig --list httpd\n",
    "> httpd           0:off   1:off   2:on    3:on    4:on    5:on    6:off\n",
    "> ```\n",
    "\n",
    "  `3:on`となっており、自動起動が有効化されました。これで次回のシステム起動から、httpdが自動起動します。\n"
   ]
  },
  {
   "cell_type": "markdown",
   "metadata": {
    "run_control": {
     "marked": false
    }
   },
   "source": [
    "**次のセルで、httpdの起動と自動起動の設定を実行して下さい。**\n",
    "\n",
    "**[ヒント]** リモートで複数のコマンドを実行するには、ヒアドキュメントを利用します。"
   ]
  },
  {
   "cell_type": "code",
   "execution_count": null,
   "metadata": {
    "collapsed": true,
    "run_control": {
     "marked": false
    }
   },
   "outputs": [],
   "source": []
  },
  {
   "cell_type": "markdown",
   "metadata": {
    "collapsed": true,
    "run_control": {
     "marked": false
    }
   },
   "source": [
    "### スクリプト例"
   ]
  },
  {
   "cell_type": "code",
   "execution_count": null,
   "metadata": {
    "collapsed": false,
    "deletable": false,
    "locked": true,
    "run_control": {
     "marked": false
    }
   },
   "outputs": [],
   "source": [
    "# Task: yum-host-setup-httpd\n",
    "# Evaluation Mode: provided-script\n",
    "\n",
    "# Configure and confirm/reconfirm httpd status\n",
    "\n",
    "ssh -qi ../mykeypair root@10.0.2.100 <<'EOF'\n",
    "sudo service httpd start\n",
    "sudo chkconfig --list httpd\n",
    "sudo chkconfig httpd on\n",
    "sudo chkconfig --list httpd\n",
    "EOF"
   ]
  },
  {
   "cell_type": "markdown",
   "metadata": {
    "run_control": {
     "marked": false
    }
   },
   "source": [
    "### 確認\n",
    "次のセルを実行して、httpdのセットアップが完了していることを確認して下さい。"
   ]
  },
  {
   "cell_type": "code",
   "execution_count": null,
   "metadata": {
    "collapsed": true,
    "deletable": false,
    "locked": true,
    "run_control": {
     "marked": false
    }
   },
   "outputs": [],
   "source": [
    "# Task: yum-host-setup-httpd\n",
    "# Evaluation Mode: check"
   ]
  },
  {
   "cell_type": "markdown",
   "metadata": {
    "run_control": {
     "marked": false
    }
   },
   "source": [
    "# 独自Yumリポジトリの構築"
   ]
  },
  {
   "cell_type": "markdown",
   "metadata": {
    "run_control": {
     "marked": false
    }
   },
   "source": [
    "## 演習 : 公開用ディレクトリを準備する"
   ]
  },
  {
   "cell_type": "markdown",
   "metadata": {
    "run_control": {
     "marked": false
    }
   },
   "source": [
    "### 演習の内容"
   ]
  },
  {
   "cell_type": "markdown",
   "metadata": {
    "run_control": {
     "marked": false
    }
   },
   "source": [
    "Yumリポジトリ公開用ディレクトリを準備します。本書では`/pub/`を公開用ディレクトリとして使用します。\n",
    "\n",
    "```\n",
    "$ sudo mkdir -p /var/www/html/pub\n",
    "```\n",
    "\n",
    "実行結果例：\n",
    "> ```\n",
    "> $ sudo mkdir -p /var/www/html/pub\n",
    "> ```\n",
    "\n",
    "```\n",
    "$ ls -l /var/www/html/pub/\n",
    "```\n",
    "\n",
    "実行結果例：\n",
    "> ```\n",
    "> $ ls -l /var/www/html/pub/\n",
    "> total 0\n",
    "> ```\n",
    "\n",
    "**次のセルで、公開用ディレクトリの作成を実行して下さい。**"
   ]
  },
  {
   "cell_type": "code",
   "execution_count": null,
   "metadata": {
    "collapsed": true,
    "run_control": {
     "marked": false
    }
   },
   "outputs": [],
   "source": []
  },
  {
   "cell_type": "markdown",
   "metadata": {
    "run_control": {
     "marked": false
    }
   },
   "source": [
    "### スクリプト例"
   ]
  },
  {
   "cell_type": "code",
   "execution_count": null,
   "metadata": {
    "collapsed": false,
    "deletable": false,
    "locked": true,
    "run_control": {
     "marked": false
    }
   },
   "outputs": [],
   "source": [
    "# Task: yum-host-setup-publish-folder\n",
    "# Evaluation Mode: provided-script\n",
    "\n",
    "# Cretae the public folder httpd server and confirm\n",
    "\n",
    "ssh -qi ../mykeypair root@10.0.2.100 <<'EOF'\n",
    "sudo mkdir -p /var/www/html/pub\n",
    "sudo ls -la /var/www/html/pub\n",
    "EOF"
   ]
  },
  {
   "cell_type": "markdown",
   "metadata": {
    "run_control": {
     "marked": false
    }
   },
   "source": [
    "### 確認\n",
    "次のセルを実行して、公開用ディレクトリが作成されていることを確認して下さい。"
   ]
  },
  {
   "cell_type": "code",
   "execution_count": null,
   "metadata": {
    "collapsed": true,
    "deletable": false,
    "locked": true,
    "run_control": {
     "marked": false
    }
   },
   "outputs": [],
   "source": [
    "# Task: yum-host-setup-publish-folder\n",
    "# Evaluation Mode: check"
   ]
  },
  {
   "cell_type": "markdown",
   "metadata": {
    "run_control": {
     "marked": false
    }
   },
   "source": [
    "## 演習 : rpmファイルを確認する"
   ]
  },
  {
   "cell_type": "markdown",
   "metadata": {
    "run_control": {
     "marked": false
    }
   },
   "source": [
    "### 演習の内容"
   ]
  },
  {
   "cell_type": "markdown",
   "metadata": {
    "run_control": {
     "marked": false
    }
   },
   "source": [
    "事前にyumリポジトリに登録するrpmファイルを確認しておきます。「RPM 生成方法」で生成した`example-0.1.0-1.el6.x86_64.rpm`があるはずです。\n",
    "\n",
    "```\n",
    "$ ls -l ${HOME}/rpmbuild/RPMS/x86_64/example-0.1.0-1.el6.x86_64.rpm\n",
    "```\n",
    "\n",
    "> ```\n",
    "> $ ls -l ${HOME}/rpmbuild/RPMS/x86_64/example-0.1.0-1.el6.x86_64.rpm\n",
    "> -rw-r--r-- 1 vagrant vagrant 1767 Apr 15 19:20 /home/vagrant/rpmbuild/RPMS/x86_64/example-0.1.0-1.el6.x86_64.rpm\n",
    "> ```\n",
    "\n",
    "**次のセルで、rpmファイル存在確認を実行して下さい。**"
   ]
  },
  {
   "cell_type": "code",
   "execution_count": null,
   "metadata": {
    "collapsed": true,
    "run_control": {
     "marked": false
    }
   },
   "outputs": [],
   "source": []
  },
  {
   "cell_type": "markdown",
   "metadata": {
    "run_control": {
     "marked": false
    }
   },
   "source": [
    "### スクリプト例"
   ]
  },
  {
   "cell_type": "code",
   "execution_count": null,
   "metadata": {
    "collapsed": false,
    "deletable": false,
    "locked": true,
    "run_control": {
     "marked": false
    }
   },
   "outputs": [],
   "source": [
    "# Task: yum-host-confirm-rpm\n",
    "# Evaluation Mode: provided-script\n",
    "\n",
    "# Confirm that the rpm exists\n",
    "\n",
    "ssh -qi ../mykeypair root@10.0.2.100 ' ls -l ${HOME}/rpmbuild/RPMS/x86_64/example-0.1.0-1.el6.x86_64.rpm'"
   ]
  },
  {
   "cell_type": "markdown",
   "metadata": {
    "run_control": {
     "marked": false
    }
   },
   "source": [
    "### 確認\n",
    "次のセルを実行して、公開用ディレクトリ作成が完了していることを確認して下さい。"
   ]
  },
  {
   "cell_type": "code",
   "execution_count": null,
   "metadata": {
    "collapsed": true,
    "deletable": false,
    "locked": true,
    "run_control": {
     "marked": false
    }
   },
   "outputs": [],
   "source": [
    "# Task: yum-host-confirm-rpm\n",
    "# Evaluation Mode: check"
   ]
  },
  {
   "cell_type": "markdown",
   "metadata": {
    "run_control": {
     "marked": false
    }
   },
   "source": [
    "### 演習 : rpmファイルを配置する"
   ]
  },
  {
   "cell_type": "markdown",
   "metadata": {
    "run_control": {
     "marked": false
    }
   },
   "source": [
    "### 演習の内容"
   ]
  },
  {
   "cell_type": "markdown",
   "metadata": {
    "run_control": {
     "marked": false
    }
   },
   "source": [
    "**rpmファイルを公開用ディレクトリに配置します**\n",
    "\n",
    "配置作業はrsyncで行います。\n",
    "```\n",
    "$ cd ${HOME}/rpmbuild/RPMS/\n",
    "$ sudo rsync -avx . /var/www/html/pub/\n",
    "```\n",
    "\n",
    "実行結果例：\n",
    "> ```\n",
    "> $ sudo rsync -avx . /var/www/html/pub/\n",
    "> sending incremental file list\n",
    "> ./\n",
    "> x86_64/\n",
    "> x86_64/example-0.1.0-1.el6.x86_64.rpm\n",
    ">\n",
    "> sent 1925 bytes  received 38 bytes  3926.00 bytes/sec\n",
    "> total size is 1767  speedup is 0.90\n",
    "> ```\n"
   ]
  },
  {
   "cell_type": "markdown",
   "metadata": {
    "run_control": {
     "marked": false
    }
   },
   "source": [
    "**rpmファイルが配置された事を確認します**\n",
    "```\n",
    "$ ls -l /var/www/html/pub/x86_64/example-0.1.0-1.el6.x86_64.rpm\n",
    "```\n",
    "\n",
    "実行結果例：\n",
    "> ```\n",
    "> $ ls -l /var/www/html/pub/x86_64/example-0.1.0-1.el6.x86_64.rpm\n",
    "> -rw-r--r-- 1 vagrant vagrant 1767 Apr 15 19:20 /var/www/html/pub/x86_64/example-0.1.0-1.el6.x86_64.rpm\n",
    "> ```\n"
   ]
  },
  {
   "cell_type": "markdown",
   "metadata": {
    "run_control": {
     "marked": false
    }
   },
   "source": [
    "**次のセルで、上記のrpmファイルの配置手順を実行して下さい。**"
   ]
  },
  {
   "cell_type": "code",
   "execution_count": null,
   "metadata": {
    "collapsed": true,
    "run_control": {
     "marked": false
    }
   },
   "outputs": [],
   "source": []
  },
  {
   "cell_type": "markdown",
   "metadata": {
    "run_control": {
     "marked": false
    }
   },
   "source": [
    "### スクリプト例"
   ]
  },
  {
   "cell_type": "code",
   "execution_count": null,
   "metadata": {
    "collapsed": false,
    "deletable": false,
    "locked": true,
    "run_control": {
     "marked": false
    }
   },
   "outputs": [],
   "source": [
    "# Task: yum-host-publish-rpm\n",
    "# Evaluation Mode: provided-script\n",
    "\n",
    "# Copy the rpm to newly created published folder\n",
    "\n",
    "ssh -qi ../mykeypair root@10.0.2.100 <<'EOF'\n",
    "cd ${HOME}/rpmbuild/RPMS/\n",
    "sudo rsync -avx . /var/www/html/pub/\n",
    "ls -l /var/www/html/pub/x86_64/example-0.1.0-1.el6.x86_64.rpm\n",
    "EOF"
   ]
  },
  {
   "cell_type": "markdown",
   "metadata": {
    "run_control": {
     "marked": false
    }
   },
   "source": [
    "### 確認\n",
    "次のセルを実行して、rpmファイルの配置が完了していることを確認して下さい。"
   ]
  },
  {
   "cell_type": "code",
   "execution_count": null,
   "metadata": {
    "collapsed": true,
    "deletable": false,
    "locked": true,
    "run_control": {
     "marked": false
    }
   },
   "outputs": [],
   "source": [
    "# Task: yum-host-publish-rpm\n",
    "# Evaluation Mode: check"
   ]
  },
  {
   "cell_type": "markdown",
   "metadata": {
    "run_control": {
     "marked": false
    }
   },
   "source": [
    "## 演習 : yumリポジトリを構築する"
   ]
  },
  {
   "cell_type": "markdown",
   "metadata": {
    "run_control": {
     "marked": false
    }
   },
   "source": [
    "### 演習の内容"
   ]
  },
  {
   "cell_type": "markdown",
   "metadata": {
    "run_control": {
     "marked": false
    }
   },
   "source": [
    "**ディレクトリを移動します**\n",
    "\n",
    "`createrepo`コマンドを実行する前に、ディレクトリを移動しておく必要があります。\n",
    "```\n",
    "$ cd /var/www/html/pub\n",
    "```\n",
    "\n",
    "**`createrepo`コマンドを実行します**\n",
    "\n",
    "`createrepo`コマンドを実行します。\n",
    "```\n",
    "$ sudo createrepo .\n",
    "```\n",
    "\n",
    "実行結果例：\n",
    "> ```\n",
    "> $ sudo createrepo .\n",
    "> Spawning worker 0 with 1 pkgs\n",
    "> Workers Finished\n",
    "> Gathering worker results\n",
    ">\n",
    "> Saving Primary metadata\n",
    "> Saving file lists metadata\n",
    "> Saving other metadata\n",
    "> Generating sqlite DBs\n",
    "> Sqlite DBs complete\n",
    "> ```\n",
    "\n",
    "実行すると、`repodata`ディレクトリが生成されます。\n",
    "```\n",
    "$ ls -l repodata/\n",
    "```\n",
    "\n",
    "実行結果例：\n",
    "> ```\n",
    "> total 36\n",
    "> drwxr-xr-x 2 root    root    4096 Apr 27 15:44 .\n",
    "> drwxr-xr-x 4 vagrant vagrant 4096 Apr 27 15:44 ..\n",
    "> -rw-r--r-- 1 root    root     232 Apr 27 15:44 21f3ad602df029deeb143d8c75df67e18c0ce2036e76e9e94d42479f6d7302a5-other.xml.gz\n",
    "> -rw-r--r-- 1 root    root     268 Apr 27 15:44 2c14a8b954d727e5106e5646f99cf3ab65d1ceaff77173bc4038107fc3c791b1-filelists.xml.gz\n",
    "> -rw-r--r-- 1 root    root     748 Apr 27 15:44 711c22507ef9815a06e9f9bf888f3468c9b98f1fa1f65aed1ff78ae27e0d6c62-filelists.sqlite.bz2\n",
    "> -rw-r--r-- 1 root    root    1632 Apr 27 15:44 8754285698aa24ef37fb9d7e8b88d3f6ad4a8c267da420626b6e6d9ba4a8a2d0-primary.sqlite.bz2\n",
    "> -rw-r--r-- 1 root    root     577 Apr 27 15:44 8ec3972ca9194bc3b1e759900dc3d6e69334bd5b98281fd7d93ed7f1c97a6289-primary.xml.gz\n",
    "> -rw-r--r-- 1 root    root     650 Apr 27 15:44 d3c30d5e41a3e637ad5493488c5f1278f131e2d75cdc09ee480a969ed2ed9625-other.sqlite.bz2\n",
    "> -rw-r--r-- 1 root    root    2972 Apr 27 15:44 repomd.xml\n",
    "> ```\n",
    "\n",
    "Yumリポジトリが作成されました。\n",
    "\n",
    "**次のセルで、Yumリポジトリの作成を実行して下さい。**"
   ]
  },
  {
   "cell_type": "code",
   "execution_count": null,
   "metadata": {
    "collapsed": true,
    "run_control": {
     "marked": false
    }
   },
   "outputs": [],
   "source": []
  },
  {
   "cell_type": "markdown",
   "metadata": {
    "run_control": {
     "marked": false
    }
   },
   "source": [
    "### スクリプト例"
   ]
  },
  {
   "cell_type": "code",
   "execution_count": null,
   "metadata": {
    "collapsed": false,
    "deletable": false,
    "locked": true,
    "run_control": {
     "marked": false
    }
   },
   "outputs": [],
   "source": [
    "# Task: yum-host-publish-repo\n",
    "# Evaluation Mode: provided-script\n",
    "\n",
    "# Create the repo\n",
    "\n",
    "ssh -qi ../mykeypair root@10.0.2.100 <<'EOF'\n",
    "cd /var/www/html/pub\n",
    "sudo createrepo .\n",
    "ls -l repodata/\n",
    "EOF"
   ]
  },
  {
   "cell_type": "markdown",
   "metadata": {
    "run_control": {
     "marked": false
    }
   },
   "source": [
    "### 確認\n",
    "次のセルを実行して、Yumリポジトリの作成が完了していることを確認して下さい。"
   ]
  },
  {
   "cell_type": "code",
   "execution_count": null,
   "metadata": {
    "collapsed": true,
    "deletable": false,
    "locked": true,
    "run_control": {
     "marked": false
    }
   },
   "outputs": [],
   "source": [
    "# Task: yum-host-publish-repo\n",
    "# Evaluation Mode: check"
   ]
  },
  {
   "cell_type": "markdown",
   "metadata": {
    "run_control": {
     "marked": false
    }
   },
   "source": [
    "# repoファイルの作成"
   ]
  },
  {
   "cell_type": "markdown",
   "metadata": {
    "run_control": {
     "marked": false
    }
   },
   "source": [
    "## 演習 : repoファイルを配置する"
   ]
  },
  {
   "cell_type": "markdown",
   "metadata": {
    "run_control": {
     "marked": false
    }
   },
   "source": [
    "### 演習の内容"
   ]
  },
  {
   "cell_type": "markdown",
   "metadata": {
    "run_control": {
     "marked": false
    }
   },
   "source": [
    "次のrepoファイルを、/etc/yum.repos.d/example.repoに配置します。\n",
    "なお、`baseurl`の`127.0.0.1`は、環境に合わせて指定して下さい。\n",
    "\n",
    "```\n",
    "[example]\n",
    "name=example\n",
    "baseurl=http://127.0.0.1/pub/\n",
    "enabled=1\n",
    "gpgcheck=0\n",
    "```\n",
    "\n",
    "**次のセルで、repoファイルの配置を実行して下さい。**\n",
    "\n",
    "**[ヒント]** リモートでのファイル作成には、ヒアドキュメントを利用します。"
   ]
  },
  {
   "cell_type": "code",
   "execution_count": null,
   "metadata": {
    "collapsed": true,
    "run_control": {
     "marked": false
    }
   },
   "outputs": [],
   "source": []
  },
  {
   "cell_type": "markdown",
   "metadata": {
    "run_control": {
     "marked": false
    }
   },
   "source": [
    "### スクリプト例"
   ]
  },
  {
   "cell_type": "code",
   "execution_count": null,
   "metadata": {
    "collapsed": false,
    "deletable": false,
    "locked": true,
    "run_control": {
     "marked": false
    }
   },
   "outputs": [],
   "source": [
    "# Task: yum-host-add-repo\n",
    "# Evaluation Mode: provided-script\n",
    "\n",
    "# Add the repo to list\n",
    "\n",
    "ssh -qi ../mykeypair root@10.0.2.100 <<'EOS'\n",
    "cat <<EOF > /etc/yum.repos.d/example.repo\n",
    "[example]\n",
    "name=example\n",
    "baseurl=http://127.0.0.1/pub/\n",
    "enabled=1\n",
    "gpgcheck=0\n",
    "EOF\n",
    "EOS"
   ]
  },
  {
   "cell_type": "markdown",
   "metadata": {
    "run_control": {
     "marked": false
    }
   },
   "source": [
    "### 確認\n",
    "次のセルを実行して、repoファイルの配置が完了していることを確認して下さい。"
   ]
  },
  {
   "cell_type": "code",
   "execution_count": null,
   "metadata": {
    "collapsed": true,
    "deletable": false,
    "locked": true,
    "run_control": {
     "marked": false
    }
   },
   "outputs": [],
   "source": [
    "# Task: yum-host-add-repo\n",
    "# Evaluation Mode: check"
   ]
  },
  {
   "cell_type": "markdown",
   "metadata": {
    "run_control": {
     "marked": false
    }
   },
   "source": [
    "## 演習 : Yumリポジトリを使ってインストールする"
   ]
  },
  {
   "cell_type": "markdown",
   "metadata": {
    "run_control": {
     "marked": false
    }
   },
   "source": [
    "### 演習の内容"
   ]
  },
  {
   "cell_type": "markdown",
   "metadata": {
    "run_control": {
     "marked": false
    }
   },
   "source": [
    "**リポジトリが有効かどうかを確認します**\n",
    "\n",
    "リポジトリが利用可能かどうかを確認します。\n",
    "\n",
    "```\n",
    "$ sudo yum makecache --disablerepo='*' --enablerepo='example'\n",
    "```\n",
    "\n",
    "実行結果例：\n",
    "\n",
    "> ```\n",
    "> $ sudo yum makecache --disablerepo='*' --enablerepo='example'\n",
    "> Loaded plugins: fastestmirror\n",
    "> Loading mirror speeds from cached hostfile\n",
    "> example                                                  | 2.9 kB     00:00\n",
    "> example/filelists_db                                     |  748 B     00:00\n",
    "> example/other_db                                         |  650 B     00:00\n",
    "> Metadata Cache Created\n",
    "> ```\n",
    "\n",
    "`example`が有効である事が分かります。"
   ]
  },
  {
   "cell_type": "markdown",
   "metadata": {
    "run_control": {
     "marked": false
    }
   },
   "source": [
    "**`example`パッケージ情報を取得します**\n",
    "\n",
    "Yumリポジトリが利用可能になったので、`example`パッケージ情報を取得できるはずです。\n",
    "```\n",
    "$ yum info example\n",
    "```\n",
    "\n",
    "実行結果例：\n",
    "> ```\n",
    "> $ yum info example\n",
    "> Loaded plugins: fastestmirror\n",
    "> Determining fastest mirrors\n",
    ">  * base: www.ftp.ne.jp\n",
    ">  * extras: www.ftp.ne.jp\n",
    ">  * updates: www.ftp.ne.jp\n",
    "> Available Packages\n",
    "> Name        : example\n",
    "> Arch        : x86_64\n",
    "> Version     : 0.1.0\n",
    "> Release     : 1.el6\n",
    "> Size        : 1.7 k\n",
    "> Repo        : example\n",
    "> Summary     : example\n",
    "> License     : BSD\n",
    "> Description :\n",
    "> ```\n"
   ]
  },
  {
   "cell_type": "markdown",
   "metadata": {
    "run_control": {
     "marked": false
    }
   },
   "source": [
    "**Yumリポジトリを使ってインストールしてみる**\n",
    "\n",
    "yumコマンドで`example`パッケージをインストールしてみます。\n",
    "```\n",
    "$ sudo yum install -y example\n",
    "```\n",
    "\n",
    "実行結果例：\n",
    "> ```\n",
    "> $ sudo yum install -y example\n",
    "> Loaded plugins: fastestmirror\n",
    "> Setting up Install Process\n",
    "> Loading mirror speeds from cached hostfile\n",
    ">  * base: ftp.iij.ad.jp\n",
    ">  * extras: centos.usonyx.net\n",
    ">  * updates: centos.usonyx.net\n",
    "> Resolving Dependencies\n",
    "> --> Running transaction check\n",
    "> ---> Package example.x86_64 0:0.1.0-1.el6 will be installed\n",
    "> --> Finished Dependency Resolution\n",
    ">\n",
    "> Dependencies Resolved\n",
    ">\n",
    "> ================================================================================\n",
    ">  Package          Arch            Version                Repository        Size\n",
    "> ================================================================================\n",
    "> Installing:\n",
    ">  example          x86_64          0.1.0-1.el6            example          1.7 k\n",
    ">\n",
    "> Transaction Summary\n",
    "> ================================================================================\n",
    "> Install       1 Package(s)\n",
    ">\n",
    "> Total download size: 1.7 k\n",
    "> Installed size: 0\n",
    "> Downloading Packages:\n",
    "> example-0.1.0-1.el6.x86_64.rpm                           | 1.7 kB     00:00\n",
    "> Running rpm_check_debug\n",
    "> Running Transaction Test\n",
    "> Transaction Test Succeeded\n",
    "> Running Transaction\n",
    ">   Installing : example-0.1.0-1.el6.x86_64                                   1/1\n",
    ">   Verifying  : example-0.1.0-1.el6.x86_64                                   1/1\n",
    ">\n",
    "> Installed:\n",
    ">   example.x86_64 0:0.1.0-1.el6\n",
    ">\n",
    "> Complete!\n",
    ">\n",
    "> ```\n"
   ]
  },
  {
   "cell_type": "markdown",
   "metadata": {
    "run_control": {
     "marked": false
    }
   },
   "source": [
    "**次のセルで、上記のYumリポジトリを使ったパッケージインストール手順を実行して下さい。**"
   ]
  },
  {
   "cell_type": "code",
   "execution_count": null,
   "metadata": {
    "collapsed": true,
    "run_control": {
     "marked": false
    }
   },
   "outputs": [],
   "source": []
  },
  {
   "cell_type": "markdown",
   "metadata": {
    "run_control": {
     "marked": false
    }
   },
   "source": [
    "### スクリプト例"
   ]
  },
  {
   "cell_type": "code",
   "execution_count": null,
   "metadata": {
    "collapsed": false,
    "deletable": false,
    "locked": true,
    "run_control": {
     "marked": false
    }
   },
   "outputs": [],
   "source": [
    "# Task: yum-host-install-example-package\n",
    "# Evaluation Mode: provided-script\n",
    "\n",
    "# Check information and install the example package\n",
    "\n",
    "ssh -qi ../mykeypair root@10.0.2.100 <<'EOF'\n",
    "sudo yum makecache --disablerepo='*' --enablerepo='example'\n",
    "sudo yum info example\n",
    "sudo yum install -y example\n",
    "EOF"
   ]
  },
  {
   "cell_type": "markdown",
   "metadata": {
    "run_control": {
     "marked": false
    }
   },
   "source": [
    "### 確認\n",
    "次のセルを実行して、Yumリポジトリを使ったパッケージインストール手順が完了していることを確認して下さい。"
   ]
  },
  {
   "cell_type": "code",
   "execution_count": null,
   "metadata": {
    "collapsed": true,
    "deletable": false,
    "locked": true,
    "run_control": {
     "marked": false
    }
   },
   "outputs": [],
   "source": [
    "# Task: yum-host-install-example-package\n",
    "# Evaluation Mode: check"
   ]
  },
  {
   "cell_type": "markdown",
   "metadata": {
    "run_control": {
     "marked": false
    }
   },
   "source": [
    "# 複数バージョンrpmファイルの運用管理"
   ]
  },
  {
   "cell_type": "markdown",
   "metadata": {
    "run_control": {
     "marked": false
    }
   },
   "source": [
    "## 演習 : example-0.2.0のアーカイブファイルを作成する"
   ]
  },
  {
   "cell_type": "markdown",
   "metadata": {
    "run_control": {
     "marked": false
    }
   },
   "source": [
    "### 演習の内容"
   ]
  },
  {
   "cell_type": "markdown",
   "metadata": {
    "run_control": {
     "marked": false
    }
   },
   "source": [
    "**example-0.2.0を作成します**\n",
    "\n",
    "SOURCEディレクトリに移動して、example-0.1.0を変更し、example-0.2.0を作成します。\n",
    "```\n",
    "$ cd ${HOME}/rpmbuild/SOURCES/\n",
    "$ rsync -avx example-0.1.0/ example-0.2.0\n",
    "```\n",
    "\n",
    "実行結果例：\n",
    "\n",
    "> ```\n",
    "> $ rsync -avx example-0.1.0/ example-0.2.0\n",
    "> sending incremental file list\n",
    "> created directory example-0.2.0\n",
    "> ./\n",
    "> bin/\n",
    "> bin/example\n",
    ">\n",
    "> sent 128 bytes  received 38 bytes  332.00 bytes/sec\n",
    "> total size is 0  speedup is 0.00\n",
    "> ```\n"
   ]
  },
  {
   "cell_type": "markdown",
   "metadata": {
    "run_control": {
     "marked": false
    }
   },
   "source": [
    "**アーカイブファイルを作成します**\n",
    "\n",
    "```\n",
    "$ tar zcvf example-0.2.0.tar.gz example-0.2.0\n",
    "```\n",
    "\n",
    "実行結果例：\n",
    "\n",
    "> ```\n",
    "> $ tar zcvf example-0.2.0.tar.gz example-0.2.0\n",
    "> example-0.2.0/\n",
    "> example-0.2.0/bin/\n",
    "> example-0.2.0/bin/example\n",
    "> ```\n"
   ]
  },
  {
   "cell_type": "markdown",
   "metadata": {
    "run_control": {
     "marked": false
    }
   },
   "source": [
    "**次のセルで、上記のアーカイブファイル作成手順を実行して下さい。**"
   ]
  },
  {
   "cell_type": "code",
   "execution_count": null,
   "metadata": {
    "collapsed": true,
    "run_control": {
     "marked": false
    }
   },
   "outputs": [],
   "source": []
  },
  {
   "cell_type": "markdown",
   "metadata": {
    "run_control": {
     "marked": false
    }
   },
   "source": [
    "### スクリプト例"
   ]
  },
  {
   "cell_type": "code",
   "execution_count": null,
   "metadata": {
    "collapsed": false,
    "deletable": false,
    "locked": true,
    "run_control": {
     "marked": false
    }
   },
   "outputs": [],
   "source": [
    "# Task: yum-host-upgrade-version\n",
    "# Evaluation Mode: provided-script\n",
    "\n",
    "# Adding a new version\n",
    "\n",
    "ssh -qi ../mykeypair root@10.0.2.100 <<'EOF'\n",
    "cd ${HOME}/rpmbuild/SOURCES\n",
    "rsync -avx example-0.1.0/ example-0.2.0\n",
    "tar zcvf example-0.2.0.tar.gz example-0.2.0\n",
    "EOF"
   ]
  },
  {
   "cell_type": "markdown",
   "metadata": {
    "run_control": {
     "marked": false
    }
   },
   "source": [
    "### 確認\n",
    "次のセルを実行して、アーカイブファイル作成手順が完了していることを確認して下さい。"
   ]
  },
  {
   "cell_type": "code",
   "execution_count": null,
   "metadata": {
    "collapsed": true,
    "deletable": false,
    "locked": true,
    "run_control": {
     "marked": false
    }
   },
   "outputs": [],
   "source": [
    "# Task: yum-host-upgrade-version\n",
    "# Evaluation Mode: check"
   ]
  },
  {
   "cell_type": "markdown",
   "metadata": {
    "run_control": {
     "marked": false
    }
   },
   "source": [
    "## 演習 : rpmspecファイルを更新する"
   ]
  },
  {
   "cell_type": "markdown",
   "metadata": {
    "run_control": {
     "marked": false
    }
   },
   "source": [
    "### 演習の内容"
   ]
  },
  {
   "cell_type": "markdown",
   "metadata": {
    "run_control": {
     "marked": false
    }
   },
   "source": [
    "**rpmspecファイルを修正します**\n",
    "\n",
    "```\n",
    "$ cd ${HOME}/rpmbuild/SPECS/\n",
    "```\n",
    "\n",
    "作業前後の差分を確認する為に、rpmspecファイルのバックアップを作成します。\n",
    "\n",
    "```\n",
    "$ cp -pi example.spec example.spec.orig\n",
    "```\n",
    "\n",
    "**バージョン番号の更新**\n",
    "\n",
    "バージョンを`0.1.0`から`0.2.0`へ進めます。\n",
    "\n",
    "```\n",
    "$ sed -i 's,0.1.0,0.2.0,' example.spec\n",
    "```"
   ]
  },
  {
   "cell_type": "markdown",
   "metadata": {
    "run_control": {
     "marked": false
    }
   },
   "source": [
    "**更新を確認します**\n",
    "\n",
    "作業前後の差分を確認します。\n",
    "\n",
    "```\n",
    "$ diff example.spec.orig example.spec\n",
    "```\n",
    "\n",
    "実行結果例：\n",
    "\n",
    "> ```\n",
    "> $ diff example.spec.orig example.spec\n",
    ". 2c2\n",
    "> < Version: 0.1.0\n",
    "> ---\n",
    "> > Version: 0.2.0\n",
    "> ```\n"
   ]
  },
  {
   "cell_type": "markdown",
   "metadata": {
    "run_control": {
     "marked": false
    }
   },
   "source": [
    "**次のセルで、rpmspecファイルの修正手順を実行して下さい。**"
   ]
  },
  {
   "cell_type": "code",
   "execution_count": null,
   "metadata": {
    "collapsed": true,
    "run_control": {
     "marked": false
    }
   },
   "outputs": [],
   "source": []
  },
  {
   "cell_type": "markdown",
   "metadata": {
    "run_control": {
     "marked": false
    }
   },
   "source": [
    "### スクリプト例"
   ]
  },
  {
   "cell_type": "code",
   "execution_count": null,
   "metadata": {
    "collapsed": false,
    "deletable": false,
    "locked": true,
    "run_control": {
     "marked": false
    }
   },
   "outputs": [],
   "source": [
    "# Task: yum-host-upgrade-spec\n",
    "# Evaluation Mode: provided-script\n",
    "\n",
    "# Upgrade the information inside spec file\n",
    "\n",
    "ssh -qi ../mykeypair root@10.0.2.100 <<'EOF'\n",
    "cd ${HOME}/rpmbuild/SPECS/\n",
    "cp -pi example.spec example.spec.orig\n",
    "sed -i 's,0.1.0,0.2.0,' example.spec\n",
    "diff example.spec.orig example.spec\n",
    "EOF"
   ]
  },
  {
   "cell_type": "markdown",
   "metadata": {
    "run_control": {
     "marked": false
    }
   },
   "source": [
    "### 確認\n",
    "次のセルを実行して、rpmspecファイルの修正が完了していることを確認して下さい。"
   ]
  },
  {
   "cell_type": "code",
   "execution_count": null,
   "metadata": {
    "collapsed": true,
    "deletable": false,
    "locked": true,
    "run_control": {
     "marked": false
    }
   },
   "outputs": [],
   "source": [
    "# Task: yum-host-upgrade-spec\n",
    "# Evaluation Mode: check"
   ]
  },
  {
   "cell_type": "markdown",
   "metadata": {
    "run_control": {
     "marked": false
    }
   },
   "source": [
    "## 演習 : example-0.2.0のrpmをビルドする"
   ]
  },
  {
   "cell_type": "markdown",
   "metadata": {
    "run_control": {
     "marked": false
    }
   },
   "source": [
    "### 演習の内容"
   ]
  },
  {
   "cell_type": "markdown",
   "metadata": {
    "run_control": {
     "marked": false
    }
   },
   "source": [
    "**rpmをビルドします**\n",
    "\n",
    "```\n",
    "$ rpmbuild -bb example.spec\n",
    "```\n",
    "\n",
    "実行結果例：\n",
    "\n",
    "> ```\n",
    "> $ rpmbuild -bb example.spec\n",
    "> Executing(%prep): /bin/sh -e /var/tmp/rpm-tmp.R28MbM\n",
    "> + umask 022\n",
    "> + cd /home/vagrant/rpmbuild/BUILD\n",
    "> + LANG=C\n",
    "> + export LANG\n",
    "> + unset DISPLAY\n",
    "> + cd /home/vagrant/rpmbuild/BUILD\n",
    "> + rm -rf example-0.2.0\n",
    "> + /bin/tar -xf -\n",
    "> + /usr/bin/gzip -dc /home/vagrant/rpmbuild/SOURCES/example-0.2.0.tar.gz\n",
    "> + STATUS=0\n",
    "> + '[' 0 -ne 0 ']'\n",
    "> + cd example-0.2.0\n",
    "> + /bin/chmod -Rf a+rX,u+w,g-w,o-w .\n",
    "> + exit 0\n",
    "> Executing(%build): /bin/sh -e /var/tmp/rpm-tmp.kM1DG9\n",
    "> + umask 022\n",
    "> + cd /home/vagrant/rpmbuild/BUILD\n",
    "> + cd example-0.2.0\n",
    "> + LANG=C\n",
    "> + export LANG\n",
    "> + unset DISPLAY\n",
    "> + exit 0\n",
    "> Executing(%install): /bin/sh -e /var/tmp/rpm-tmp.iqJMbx\n",
    "> + umask 022\n",
    "> + cd /home/vagrant/rpmbuild/BUILD\n",
    "> + '[' /home/vagrant/rpmbuild/BUILDROOT/example-0.2.0-1.el6.x86_64 '!=' / ']'\n",
    "> + rm -rf /home/vagrant/rpmbuild/BUILDROOT/example-0.2.0-1.el6.x86_64\n",
    "> ++ dirname /home/vagrant/rpmbuild/BUILDROOT/example-0.2.0-1.el6.x86_64\n",
    "> + mkdir -p /home/vagrant/rpmbuild/BUILDROOT\n",
    "> + mkdir /home/vagrant/rpmbuild/BUILDROOT/example-0.2.0-1.el6.x86_64\n",
    "> + cd example-0.2.0\n",
    "> + LANG=C\n",
    "> + export LANG\n",
    "> + unset DISPLAY\n",
    "> + rm -rf /home/vagrant/rpmbuild/BUILDROOT/example-0.2.0-1.el6.x86_64\n",
    "> + mkdir -p /home/vagrant/rpmbuild/BUILDROOT/example-0.2.0-1.el6.x86_64\n",
    "> + rsync -avx ./ /home/vagrant/rpmbuild/BUILDROOT/example-0.2.0-1.el6.x86_64/\n",
    "> sending incremental file list\n",
    "> ./\n",
    "> bin/\n",
    "> bin/example\n",
    ">\n",
    "> sent 128 bytes  received 38 bytes  332.00 bytes/sec\n",
    "> total size is 0  speedup is 0.00\n",
    "> + /usr/lib/rpm/find-debuginfo.sh --strict-build-id /home/vagrant/rpmbuild/BUILD/example-0.2.0\n",
    "> + /usr/lib/rpm/check-buildroot\n",
    "> + /usr/lib/rpm/redhat/brp-compress\n",
    "> + /usr/lib/rpm/redhat/brp-strip-static-archive /usr/bin/strip\n",
    "> + /usr/lib/rpm/redhat/brp-strip-comment-note /usr/bin/strip /usr/bin/objdump\n",
    "> + /usr/lib/rpm/brp-python-bytecompile\n",
    "> + /usr/lib/rpm/redhat/brp-python-hardlink\n",
    "> + /usr/lib/rpm/redhat/brp-java-repack-jars\n",
    "> Processing files: example-0.2.0-1.el6.x86_64\n",
    "> Requires(rpmlib): rpmlib(CompressedFileNames) <= 3.0.4-1 rpmlib(FileDigests) <= 4.6.0-1 rpmlib(PayloadFilesHavePrefix) <= 4.0-1\n",
    "> Processing files: example-debuginfo-0.2.0-1.el6.x86_64\n",
    "> Checking for unpackaged file(s): /usr/lib/rpm/check-files /home/vagrant/rpmbuild/BUILDROOT/example-0.2.0-1.el6.x86_64\n",
    "> warning: Could not canonicalize hostname: vagrant-centos6\n",
    "> Wrote: /home/vagrant/rpmbuild/RPMS/x86_64/example-0.2.0-1.el6.x86_64.rpm\n",
    "> Wrote: /home/vagrant/rpmbuild/RPMS/x86_64/example-debuginfo-0.2.0-1.el6.x86_64.rpm\n",
    "> Executing(%clean): /bin/sh -e /var/tmp/rpm-tmp.CnU3m2\n",
    "> + umask 022\n",
    "> + cd /home/vagrant/rpmbuild/BUILD\n",
    "> + cd example-0.2.0\n",
    "> + rm -rf /home/vagrant/rpmbuild/BUILDROOT/example-0.2.0-1.el6.x86_64\n",
    "> + exit 0\n",
    "> ```\n",
    "\n",
    "**次のセルで、rpmビルドを実行して下さい。**"
   ]
  },
  {
   "cell_type": "code",
   "execution_count": null,
   "metadata": {
    "collapsed": true,
    "run_control": {
     "marked": false
    }
   },
   "outputs": [],
   "source": []
  },
  {
   "cell_type": "markdown",
   "metadata": {
    "run_control": {
     "marked": false
    }
   },
   "source": [
    "### スクリプト例"
   ]
  },
  {
   "cell_type": "code",
   "execution_count": null,
   "metadata": {
    "collapsed": false,
    "deletable": false,
    "locked": true,
    "run_control": {
     "marked": false
    }
   },
   "outputs": [],
   "source": [
    "# Task: yum-host-upgrade-rebuild-spec\n",
    "# Evaluation Mode: provided-script\n",
    "\n",
    "# Rebuild the spec file to be versoin 0.2.0\n",
    "\n",
    "ssh -qi ../mykeypair root@10.0.2.100 <<'EOF'\n",
    "cd ${HOME}/rpmbuild/SPECS/\n",
    "rpmbuild -bb example.spec\n",
    "EOF"
   ]
  },
  {
   "cell_type": "markdown",
   "metadata": {
    "run_control": {
     "marked": false
    }
   },
   "source": [
    "### 確認\n",
    "次のセルを実行して、rpmビルドが完了していることを確認して下さい。"
   ]
  },
  {
   "cell_type": "code",
   "execution_count": null,
   "metadata": {
    "collapsed": true,
    "deletable": false,
    "locked": true,
    "run_control": {
     "marked": false
    }
   },
   "outputs": [],
   "source": [
    "# Task: yum-host-upgrade-rebuild-spec\n",
    "# Evaluation Mode: check"
   ]
  },
  {
   "cell_type": "markdown",
   "metadata": {
    "run_control": {
     "marked": false
    }
   },
   "source": [
    "## 演習 : rpmを/var/www/html/pub/に配置する"
   ]
  },
  {
   "cell_type": "markdown",
   "metadata": {
    "run_control": {
     "marked": false
    }
   },
   "source": [
    "### 演習の内容"
   ]
  },
  {
   "cell_type": "markdown",
   "metadata": {
    "run_control": {
     "marked": false
    }
   },
   "source": [
    "example-0.2.0を`/var/www/html/pub/`に配置して行きます。\n",
    "\n",
    "```\n",
    "$ cd ${HOME}/rpmbuild/RPMS/\n",
    "```\n",
    "\n",
    "```\n",
    "$ sudo rsync -avx . /var/www/html/pub/\n",
    "```\n",
    "\n",
    "実行結果例：\n",
    "\n",
    "> ```\n",
    "> $ sudo rsync -avx . /var/www/html/pub/\n",
    "> sending incremental file list\n",
    "> ./\n",
    "> x86_64/\n",
    "> x86_64/example-0.2.0-1.el6.x86_64.rpm\n",
    "> x86_64/example-debuginfo-0.2.0-1.el6.x86_64.rpm\n",
    ">\n",
    "> sent 3929 bytes  received 57 bytes  7972.00 bytes/sec\n",
    "> total size is 5427  speedup is 1.36\n",
    "> ```\n",
    "\n",
    "配置先にrpmファイルがある事を確認します。\n",
    "\n",
    "```\n",
    "$ ls -l /var/www/html/pub/x86_64/example-0.2.0-1.el6.x86_64.rpm\n",
    "```\n",
    "\n",
    "実行結果例：\n",
    "\n",
    "> ```\n",
    "> $ ls -l /var/www/html/pub/x86_64/example-0.2.0-1.el6.x86_64.rpm\n",
    "> -rw-r--r-- 1 vagrant vagrant 2064 Apr 27 20:12 /var/www/html/pub/x86_64/example-0.2.0-1.el6.x86_64.rpm\n",
    "> ```\n",
    "\n",
    "**次のセルで、rpmファイルの配置を実行して下さい。**"
   ]
  },
  {
   "cell_type": "code",
   "execution_count": null,
   "metadata": {
    "collapsed": true,
    "run_control": {
     "marked": false
    }
   },
   "outputs": [],
   "source": []
  },
  {
   "cell_type": "markdown",
   "metadata": {
    "run_control": {
     "marked": false
    }
   },
   "source": [
    "### スクリプト名"
   ]
  },
  {
   "cell_type": "code",
   "execution_count": null,
   "metadata": {
    "collapsed": false,
    "deletable": false,
    "locked": true,
    "run_control": {
     "marked": false
    }
   },
   "outputs": [],
   "source": [
    "# Task: yum-host-upgrade-republish-spec\n",
    "# Evaluation Mode: provided-script\n",
    "\n",
    "# Publish new version on the webserver\n",
    "\n",
    "ssh -qi ../mykeypair root@10.0.2.100 <<'EOF'\n",
    "cd ${HOME}/rpmbuild/RPMS/\n",
    "sudo rsync -avx . /var/www/html/pub\n",
    "ls -l /var/www/html/pub/x86_64/example-0.2.0-1.el6.x86_64.\n",
    "EOF"
   ]
  },
  {
   "cell_type": "markdown",
   "metadata": {
    "run_control": {
     "marked": false
    }
   },
   "source": [
    "### 確認\n",
    "次のセルを実行して、rpmの配置が完了していることを確認して下さい。"
   ]
  },
  {
   "cell_type": "code",
   "execution_count": null,
   "metadata": {
    "collapsed": true,
    "deletable": false,
    "locked": true,
    "run_control": {
     "marked": false
    }
   },
   "outputs": [],
   "source": [
    "# Task: yum-host-upgrade-republish-spec\n",
    "# Evaluation Mode: check"
   ]
  },
  {
   "cell_type": "markdown",
   "metadata": {
    "run_control": {
     "marked": false
    }
   },
   "source": [
    "## 演習 : example-0.2.0を含めたYumリポジトリを構築する"
   ]
  },
  {
   "cell_type": "markdown",
   "metadata": {
    "run_control": {
     "marked": false
    }
   },
   "source": [
    "### 演習の内容"
   ]
  },
  {
   "cell_type": "markdown",
   "metadata": {
    "run_control": {
     "marked": false
    }
   },
   "source": [
    "example-0.2.0を含めたYumリポジトリを構築して行きます。\n",
    "\n",
    "```\n",
    "$ cd /var/www/html/pub\n",
    "```\n",
    "\n",
    "```\n",
    "$ sudo createrepo .\n",
    "```\n",
    "\n",
    "実行結果例：\n",
    "\n",
    "> ```\n",
    "> $ sudo createrepo .\n",
    "> Spawning worker 0 with 3 pkgs\n",
    "> Workers Finished\n",
    "> Gathering worker results\n",
    ">\n",
    "> Saving Primary metadata\n",
    "> Saving file lists metadata\n",
    "> Saving other metadata\n",
    "> Generating sqlite DBs\n",
    "> Sqlite DBs complete\n",
    "> ```\n",
    "\n",
    "**次のセルで、Yumリポジトリの構築を実行して下さい。**"
   ]
  },
  {
   "cell_type": "code",
   "execution_count": null,
   "metadata": {
    "collapsed": true,
    "run_control": {
     "marked": false
    }
   },
   "outputs": [],
   "source": []
  },
  {
   "cell_type": "markdown",
   "metadata": {
    "run_control": {
     "marked": false
    }
   },
   "source": [
    "### スクリプト例"
   ]
  },
  {
   "cell_type": "code",
   "execution_count": null,
   "metadata": {
    "collapsed": false,
    "deletable": false,
    "locked": true,
    "run_control": {
     "marked": false
    }
   },
   "outputs": [],
   "source": [
    "# Task: yum-host-upgrade-publish-repo\n",
    "# Evaluation Mode: provided-script\n",
    "\n",
    "ssh -qi ../mykeypair root@10.0.2.100 <<'EOF'\n",
    "cd /var/www/html/pub\n",
    "sudo createrepo .\n",
    "EOF"
   ]
  },
  {
   "cell_type": "markdown",
   "metadata": {
    "run_control": {
     "marked": false
    }
   },
   "source": [
    "### 確認\n",
    "次のセルを実行して、Yamリポジトリの構築が完了していることを確認して下さい。"
   ]
  },
  {
   "cell_type": "code",
   "execution_count": null,
   "metadata": {
    "collapsed": true,
    "deletable": false,
    "locked": true,
    "run_control": {
     "marked": false
    }
   },
   "outputs": [],
   "source": [
    "# Task: yum-host-upgrade-publish-repo\n",
    "# Evaluation Mode: check"
   ]
  },
  {
   "cell_type": "markdown",
   "metadata": {
    "run_control": {
     "marked": false
    }
   },
   "source": [
    "## 演習 : 新exampleパッケージが存在するか確認する"
   ]
  },
  {
   "cell_type": "markdown",
   "metadata": {
    "run_control": {
     "marked": false
    }
   },
   "source": [
    "### 演習の内容"
   ]
  },
  {
   "cell_type": "markdown",
   "metadata": {
    "run_control": {
     "marked": false
    }
   },
   "source": [
    "新Yumリポジトリに新exampleパッケージが存在するかどうかを確認します。\n",
    "\n",
    "```\n",
    "$ yum clean metadata\n",
    "$ yum info example\n",
    "```\n",
    "\n",
    "実行結果例：\n",
    "\n",
    "> ```\n",
    "> $ yum clean metadata\n",
    "> ...(省略)...\n",
    "> $ yum info example\n",
    "> Loaded plugins: fastestmirror\n",
    "> Loading mirror speeds from cached hostfile\n",
    ">  * base: www.ftp.ne.jp\n",
    ">  * extras: www.ftp.ne.jp\n",
    ">  * updates: www.ftp.ne.jp\n",
    "> Installed Packages\n",
    "> Name        : example\n",
    "> Arch        : x86_64\n",
    "> Version     : 0.1.0\n",
    "> Release     : 1.el6\n",
    "> Size        : 0.0\n",
    "> Repo        : installed\n",
    "> From repo   : example\n",
    "> Summary     : example\n",
    "> License     : BSD\n",
    "> Description :\n",
    ">\n",
    "> Available Packages\n",
    "> Name        : example\n",
    "> Arch        : x86_64\n",
    "> Version     : 0.2.0\n",
    "> Release     : 1.el6\n",
    "> Size        : 2.0 k\n",
    "> Repo        : example\n",
    "> Summary     : example\n",
    "> License     : BSD\n",
    "> Description :\n",
    ">\n",
    "> ```\n",
    "\n",
    "`0.2.0`が最新版である事が分かります。\n",
    "\n",
    "**次のセルで、新exampleパッケージの存在確認を実行して下さい。**"
   ]
  },
  {
   "cell_type": "code",
   "execution_count": null,
   "metadata": {
    "collapsed": true,
    "run_control": {
     "marked": false
    }
   },
   "outputs": [],
   "source": []
  },
  {
   "cell_type": "markdown",
   "metadata": {
    "run_control": {
     "marked": false
    }
   },
   "source": [
    "### スクリプト例"
   ]
  },
  {
   "cell_type": "code",
   "execution_count": null,
   "metadata": {
    "collapsed": false,
    "deletable": false,
    "locked": true,
    "run_control": {
     "marked": false
    }
   },
   "outputs": [],
   "source": [
    "# Task: yum-host-upgrade-reset-metadata\n",
    "# Evaluation Mode: provided-script\n",
    "\n",
    "ssh -qi ../mykeypair root@10.0.2.100 <<'EOF'\n",
    "yum clean metadata\n",
    "yum info example\n",
    "EOF"
   ]
  },
  {
   "cell_type": "markdown",
   "metadata": {
    "run_control": {
     "marked": false
    }
   },
   "source": [
    "### 確認\n",
    "次のセルを実行して、新パッケージの存在確認手順が完了していることを確認して下さい。"
   ]
  },
  {
   "cell_type": "code",
   "execution_count": null,
   "metadata": {
    "collapsed": true,
    "deletable": false,
    "locked": true,
    "run_control": {
     "marked": false
    }
   },
   "outputs": [],
   "source": [
    "# Task: yum-host-upgrade-reset-metadata\n",
    "# Evaluation Mode: check"
   ]
  },
  {
   "cell_type": "markdown",
   "metadata": {
    "run_control": {
     "marked": false
    }
   },
   "source": [
    "## 演習 : パッケージをアップデートしてみる"
   ]
  },
  {
   "cell_type": "markdown",
   "metadata": {
    "run_control": {
     "marked": false
    }
   },
   "source": [
    "### 演習の内容"
   ]
  },
  {
   "cell_type": "markdown",
   "metadata": {
    "run_control": {
     "marked": false
    }
   },
   "source": [
    "インストールされたパッケージの情報を確認してみます。\n",
    "\n",
    "```\n",
    "$ rpm -qi example\n",
    "```\n",
    "\n",
    "実行結果例：\n",
    "\n",
    "> ```\n",
    "> $ rpm -qi example\n",
    "> Name        : example                      Relocations: (not relocatable)\n",
    "> Version     : 0.2.0                             Vendor: (none)\n",
    "> Release     : 1.el6                         Build Date: Mon 27 Apr 2015 08:12:16 PM JST\n",
    "> Install Date: Mon 27 Apr 2015 08:23:15 PM JST      Build Host: vagrant-centos6\n",
    "> Group       : Unspecified                   Source RPM: example-0.2.0-1.el6.src.rpm\n",
    "> Size        : 0                                License: BSD\n",
    "> Signature   : (none)\n",
    "> Summary     : example\n",
    "> Description :\n",
    "> ```\n",
    "\n",
    "example-0.2.0がインストールされた事を確認出来ました。\n",
    "\n",
    "**次のセルで、上記のパッケージアップデート手順を実行して下さい。**"
   ]
  },
  {
   "cell_type": "code",
   "execution_count": null,
   "metadata": {
    "collapsed": true,
    "run_control": {
     "marked": false
    }
   },
   "outputs": [],
   "source": []
  },
  {
   "cell_type": "markdown",
   "metadata": {
    "run_control": {
     "marked": false
    }
   },
   "source": [
    "### スクリプト例"
   ]
  },
  {
   "cell_type": "code",
   "execution_count": null,
   "metadata": {
    "collapsed": false,
    "deletable": false,
    "locked": true,
    "run_control": {
     "marked": false
    }
   },
   "outputs": [],
   "source": [
    "# Task: yum-host-upgrade-install\n",
    "# Evaluation Mode: provided-script\n",
    "\n",
    "ssh -qi ../mykeypair root@10.0.2.100 <<'EOF'\n",
    "sudo yum update -y example\n",
    "rpm -qi example\n",
    "EOF"
   ]
  },
  {
   "cell_type": "markdown",
   "metadata": {
    "run_control": {
     "marked": false
    }
   },
   "source": [
    "### 確認\n",
    "次のセルを実行して、パッケージアップデート手順が完了していることを確認して下さい。"
   ]
  },
  {
   "cell_type": "code",
   "execution_count": null,
   "metadata": {
    "collapsed": true,
    "deletable": false,
    "locked": true,
    "run_control": {
     "marked": false
    }
   },
   "outputs": [],
   "source": [
    "# Task: yum-host-upgrade-install\n",
    "# Evaluation Mode: check"
   ]
  },
  {
   "cell_type": "markdown",
   "metadata": {
    "run_control": {
     "marked": false
    }
   },
   "source": [
    "## ここまでのまとめ"
   ]
  },
  {
   "cell_type": "markdown",
   "metadata": {
    "run_control": {
     "marked": false
    }
   },
   "source": [
    "複数バージョンのrpmが混在する場合のYumリポジトリ構築を学びました。これ以降は、パッケージ内容を変更する度に、同じ手順で更新して行くだけです。手順を上手に整理すると、一連の作業を自動化可能です。"
   ]
  },
  {
   "cell_type": "markdown",
   "metadata": {
    "run_control": {
     "marked": false
    }
   },
   "source": [
    "# 複数台構成を意識した手順整理"
   ]
  },
  {
   "cell_type": "markdown",
   "metadata": {
    "run_control": {
     "marked": false
    }
   },
   "source": [
    "これまでに最小構成Yumリポジトリを作ってYumリポジトリ構築と更新を学びました。1台構成でしたが、通常は複数台構成です。複数台構成を意識した手順で整理します。\n",
    "\n",
    "役割：\n",
    "\n",
    "1. rpmビルドサーバ/Yumリポジトリ\n",
    "2. アプリケーションサーバ(パッケージインストール実施環境)\n",
    "\n",
    "それでは役割毎に手順を整理してみます。"
   ]
  },
  {
   "cell_type": "markdown",
   "metadata": {
    "run_control": {
     "marked": false
    }
   },
   "source": [
    "## rpmビルドサーバ / Yumリポジトリ"
   ]
  },
  {
   "cell_type": "markdown",
   "metadata": {
    "run_control": {
     "marked": false
    }
   },
   "source": [
    "### rpmのビルド"
   ]
  },
  {
   "cell_type": "markdown",
   "metadata": {
    "run_control": {
     "marked": false
    }
   },
   "source": [
    "```\n",
    "$ cd ${HOME}/rpmbuild/SPECS/\n",
    "$ rpmbuild -bb example.spec\n",
    "```"
   ]
  },
  {
   "cell_type": "markdown",
   "metadata": {
    "run_control": {
     "marked": false
    }
   },
   "source": [
    "### RPMSの配置"
   ]
  },
  {
   "cell_type": "markdown",
   "metadata": {
    "run_control": {
     "marked": false
    }
   },
   "source": [
    "```\n",
    "$ cd ${HOME}/rpmbuild/RPMS/\n",
    "$ sudo rsync -avx . /var/www/html/pub/\n",
    "```"
   ]
  },
  {
   "cell_type": "markdown",
   "metadata": {
    "run_control": {
     "marked": false
    }
   },
   "source": [
    "### Yumリポジトリの構築"
   ]
  },
  {
   "cell_type": "markdown",
   "metadata": {
    "run_control": {
     "marked": false
    }
   },
   "source": [
    "```\n",
    "$ cd /var/www/html/pub\n",
    "$ sudo createrepo .\n",
    "```"
   ]
  },
  {
   "cell_type": "markdown",
   "metadata": {
    "run_control": {
     "marked": false
    }
   },
   "source": [
    "## アプリケーションサーバ"
   ]
  },
  {
   "cell_type": "markdown",
   "metadata": {
    "run_control": {
     "marked": false
    }
   },
   "source": [
    "### repoファイルの配置"
   ]
  },
  {
   "cell_type": "markdown",
   "metadata": {
    "run_control": {
     "marked": false
    }
   },
   "source": [
    "baseurlに指定するIPアドレスを、ビルドサーバのIPアドレスにします。\n",
    "```\n",
    "$ sudo vi /etc/yum.repos.d/example.repo\n",
    "```"
   ]
  },
  {
   "cell_type": "markdown",
   "metadata": {
    "run_control": {
     "marked": false
    }
   },
   "source": [
    "### パッケージのインストール/更新"
   ]
  },
  {
   "cell_type": "markdown",
   "metadata": {
    "run_control": {
     "marked": false
    }
   },
   "source": [
    "初期インストールの場合：\n",
    "\n",
    "```\n",
    "$ sudo yum install -y package\n",
    "```\n",
    "\n",
    "更新インストールの場合：\n",
    "\n",
    "```\n",
    "$ sudo yum clean metadata\n",
    "$ sudo yum update -y package\n",
    "```"
   ]
  },
  {
   "cell_type": "markdown",
   "metadata": {
    "run_control": {
     "marked": false
    }
   },
   "source": [
    "# まとめ"
   ]
  },
  {
   "cell_type": "markdown",
   "metadata": {
    "run_control": {
     "marked": false
    }
   },
   "source": [
    "最小構成Yumリポジトリを作ってYumリポジトリ作成手順を学びました。"
   ]
  }
 ],
 "metadata": {
  "kernelspec": {
   "display_name": "Bash",
   "language": "bash",
   "name": "bash"
  },
  "language_info": {
   "codemirror_mode": "shell",
   "file_extension": ".sh",
   "mimetype": "text/x-sh",
   "name": "bash"
  },
  "toc": {
   "toc_cell": false,
   "toc_number_sections": true,
   "toc_threshold": 6,
   "toc_window_display": false
  }
 },
 "nbformat": 4,
 "nbformat_minor": 0
}
