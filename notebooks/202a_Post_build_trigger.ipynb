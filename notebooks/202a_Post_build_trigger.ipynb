{
 "cells": [
  {
   "cell_type": "code",
   "execution_count": 1,
   "metadata": {
    "collapsed": false,
    "deletable": false,
    "hide_input": true,
    "init_cell": true,
    "locked": true,
    "run_control": {
     "marked": false
    }
   },
   "outputs": [
    {
     "name": "stdout",
     "output_type": "stream",
     "text": [
      "Ready.\n",
      "Changing global mode to 'my-script'\n"
     ]
    }
   ],
   "source": [
    "source extend_bashkernel-2modes.source\n",
    "set-global-evaluation-mode 'my-script'"
   ]
  },
  {
   "cell_type": "code",
   "execution_count": null,
   "metadata": {
    "collapsed": false
   },
   "outputs": [],
   "source": [
    "set-global-evaluation-mode 'provided-script'"
   ]
  },
  {
   "cell_type": "markdown",
   "metadata": {
    "collapsed": true
   },
   "source": [
    "# パラメタ付きビルド\n",
    "\n",
    "# プロジェクトにビルドパラメータを指定\n",
    "\n",
    "例えばコマンドラインからコマンドに引数指定出来るように、プロジェクトビルド時に引数指定が可能です。Jenkinsでは「ビルドパラメータ」として実装されています。ビルド時にパラメタ指定すると、プロジェクト内からパラメタを参照する事が可能になります。例えばシェルスジョブからパラメタ参照が可能です。本書では、パラメタ設定方法とパラメタ指定ビルドをしてみます。\n",
    "\n",
    "## プロジェクトを作成します\n",
    "\n",
    "既存プロジェクトを使った設定も可能です。ここではプロジェクトを新規作成して説明して行きます。\n",
    "\n",
    "![jenkins](https://cloud.githubusercontent.com/assets/76867/7859583/6357f9dc-057d-11e5-8797-28db51b12779.png)\n",
    "\n",
    "## 「ビルドのパラメータ化」をチェックします\n",
    "\n",
    "プロジェクト設定画面の上部にある「ビルドのパラメータ化」をチェックします。\n",
    "\n",
    "![parameterise config jenkins](https://cloud.githubusercontent.com/assets/76867/7859620/8fc940a2-057d-11e5-9079-821f83871eb8.png)\n",
    "\n",
    "## 次に「パラメータの追加」を開きます\n",
    "\n",
    "チェック後、「パラメータの追加」セレクトボックスが出現するので、セレクトボックスを開きます。\n",
    "\n",
    "![parameterise config jenkins](https://cloud.githubusercontent.com/assets/76867/7859637/affd63b2-057d-11e5-86c8-36a9154d898e.png)\n",
    "\n",
    "## 「文字列」を指定します\n",
    "\n",
    "パラメータの種類を選択します。ここでは一番よく使われる「文字列」を選択して説明します。\n",
    "\n",
    "![parameterise config jenkins](https://cloud.githubusercontent.com/assets/76867/7859646/cfbd6580-057d-11e5-9491-6f7d2f9313c3.png)\n",
    "\n",
    "## パラメータの設定フォームが出現します\n",
    "\n",
    "パラメータの種類を選択すると、パラメータの設定フォームが出現します。\n",
    "\n",
    "![parameterise config jenkins](https://cloud.githubusercontent.com/assets/76867/7859657/ee61ad8e-057d-11e5-9827-e3dd389345fc.png)\n",
    "\n",
    "## 「名前」が入力必須項目です\n",
    "\n",
    "「名前」には`PARAM1`を指定します。「デフォルト値」と「説明」は省略可能です。\n",
    "\n",
    "![parameterise config jenkins](https://cloud.githubusercontent.com/assets/76867/7859673/129b8f76-057e-11e5-9aad-60941a240b5a.png)\n",
    "\n",
    "## パラメータを参照します\n",
    "\n",
    "設定したパラメータは、シェルスクリプト内から参照可能です。先程、パラメータ名に指定した「PARAM1」を参照出来る事を確認する為、echoコマンドで標準出力させます。\n",
    "\n",
    "```\n",
    "echo PARAM1=$PARAM1\n",
    "```\n",
    "![parameterise config jenkins](https://cloud.githubusercontent.com/assets/76867/7859729/7cb9c224-057e-11e5-9a8c-50376eab1e0c.png)\n",
    "\n",
    "## 関連図\n",
    "\n",
    "![parameterise config jenkins](https://cloud.githubusercontent.com/assets/76867/7859713/52b99800-057e-11e5-84fe-b1d79961c4bc.png)\n",
    "\n",
    "## 「保存」すると、プロジェクト画面に「パラメータ付きビルド」\n",
    "\n",
    "パラメータ無しプロジェクトの場合は「ビルドの実行」でした。パラメータ設定ありプロジェクトの場合は、「パラメータ付ビルド」となっています。\n",
    "\n",
    "![parameterise jenkins](https://cloud.githubusercontent.com/assets/76867/7859751/9e6ec1a8-057e-11e5-8fbd-b89480940ade.png)\n",
    "\n",
    "## 「パラメータ付きビルド」すると、ビルド時にパラメータ入力を求めて来ます\n",
    "\n",
    "パラメータなしプロジェクトの場合は、直ぐに実行開始したビルドですが、パラメータ付きプロジェクトの場合はパラメータ入力値を問い合せて来ます。\n",
    "\n",
    "![jenkins](https://cloud.githubusercontent.com/assets/76867/7859778/b8461a40-057e-11e5-95e8-f34bf8f3fcd9.png)\n",
    "\n",
    "## パラメータを指定し、ビルドしてみます\n",
    "\n",
    "パラメータを指定したら、ビルドを開始します。\n",
    "\n",
    "![jenkins](https://cloud.githubusercontent.com/assets/76867/7859802/d6f62412-057e-11e5-865d-76abf491f85b.png)\n",
    "\n",
    "## ビルド後のコンソール出力を確認してみます\n",
    "\n",
    "ビルド時に指定したパラメータの内容が出力されました。\n",
    "\n",
    "![parameterise 1 console jenkins](https://cloud.githubusercontent.com/assets/76867/7859823/017ce338-057f-11e5-99cb-db0fecc17da5.png)\n",
    "\n",
    "## ここまでのまとめ\n",
    "\n",
    "この例ではシェルジョブから参照しましたが、他のジョブとの連携も可能です。パラメータ付きビルドを上手く利用すると、ビルドの柔軟性が増すので是非活用してみて下さい。\n",
    "\n",
    "# 下流プロジェクトにビルドパラメータを渡す\n",
    "\n",
    "パラメータ付きプロジェクトとの連携においても、パラメータ指定が可能です。Jenkinsのコア機能では実現できませんが、プラグインをインストールすると実現出来ます。プラグインのインストール方法と、ビルドパラメータの引き渡し方法を設定してみます。\n",
    "\n",
    "## 「Parameterized Trigger Plugin」のインストール\n",
    "\n",
    "プラグインの管理から「Parameterized Trigger Plugin」を選択しインストールし、Jenkinsを再起動して下さい。\n",
    "\n",
    "![jenkins](https://cloud.githubusercontent.com/assets/76867/7858352/8e45ba90-0572-11e5-9c35-0977f7e547b3.png)\n",
    "\n",
    "## 下流プロジェクトの作成\n",
    "\n",
    "パラメータ付きプロジェクトを作成します。作成方法に関しては、先述の「プロジェクトにビルドパラメータを指定」手順に従って下さい。先述手順で作成したプロジェクトをそのまま使っても構いません。新規でプロジェクトを作成する場合は、パラメータ名には同じく「PARAM1」で設定して下さい。上流プロジェクトとの連携する際に、パラメータ名が重要な設定項目となります。\n",
    "\n",
    "## 上流プロジェクトの作成\n",
    "\n",
    "上流プロジェクトを作成します。上流プロジェクトは、パラメータ無しで良いです。「ビルド後の処理の追加」から「Trigger parameterized build on other projects」を選択します。\n",
    "\n",
    "![parent config jenkins](https://cloud.githubusercontent.com/assets/76867/7858993/ea68a044-0577-11e5-8454-a5785c9ee5ab.png)\n",
    "\n",
    "## 「ビルド後の処理」設定フォームが出現します\n",
    "\n",
    "![parent config jenkins](https://cloud.githubusercontent.com/assets/76867/7859021/1d5cefbe-0578-11e5-946e-ae8240ed8350.png)\n",
    "\n",
    "## 「Project to build」に下流プロジェクトを設定します\n",
    "\n",
    "「Project to build」にビルド対象のプロジェクトを設定します。\n",
    "\n",
    "![parent config jenkins](https://cloud.githubusercontent.com/assets/76867/7859053/5f68f948-0578-11e5-80e2-d1e5c92799cd.png)\n",
    "\n",
    "## 「Add Parameters」を開き「Predefined parameters」を選択します\n",
    "\n",
    "「Add Parameters」を設定すると、下流プロジェクトにパラメータを指定出来ます。指定可能なパラメータにはいくつかあります。今回は下流プロジェクトのパラメータ名「PARAM1」を設定する事が目的なので、「Predefined parameters」を選択します。\n",
    "\n",
    "![parent config jenkins](https://cloud.githubusercontent.com/assets/76867/7859090/addcbe7a-0578-11e5-9968-9cecabc2b892.png)\n",
    "\n",
    "## 「Predefined parameters」設定フォームが出現します\n",
    "\n",
    "「Predefined parameters」設定フォームが出現するので、パラメータを定義して行きます。`パラメータ名=値`でパラメータを定義可能です。\n",
    "\n",
    "```\n",
    "PARAM1=\"build by parent\"\n",
    "```\n",
    "\n",
    "![parent config jenkins](https://cloud.githubusercontent.com/assets/76867/7859163/4f438258-0579-11e5-97a7-0678de99045a.png)\n",
    "\n",
    "## 「保存」し、ビルド。ビルド結果を確認\n",
    "\n",
    "保存したらビルドします。ビルドが完了したら、コンソール出力を確認します。プロジェクト連携が成功している事が分かります。\n",
    "\n",
    "![parent 1 console jenkins](https://cloud.githubusercontent.com/assets/76867/7859219/d3bfa26e-0579-11e5-9a4d-734a61fac837.png)\n",
    "\n",
    "## 次に下流プロジェクトのビルド結果を確認します\n",
    "\n",
    "コンソール出力から2つの項目に注目します。1つは上流プロジェクトとビルド番号、2つ目はビルド結果に`PARAM1=\"build by parent\"`が出力されている事です。上流プロジェクトで設定した「Predefined parameters」により、下流プロジェクトはビルドパラメータとして受け取り、ビルドした事が分かります。\n",
    "\n",
    "![parameterise 2 console jenkins](https://cloud.githubusercontent.com/assets/76867/7859425/dff1faa8-057b-11e5-855a-e75d09fc0041.png)\n",
    "\n",
    "## ここまでのまとめ\n",
    "\n",
    "ビルドパラメータ付きプロジェクト連携によるビルドを行いました。2プロジェクト間の連携までですが、3つ以上のプロジェクトを連携させる事により、より複雑で柔軟なビルドパイプライン構築が可能です。ビルド対象に合わせた臨機応変な対応と共に是非挑戦してみて下さい。"
   ]
  },
  {
   "cell_type": "code",
   "execution_count": null,
   "metadata": {
    "collapsed": true
   },
   "outputs": [],
   "source": [
    "# Task: jenkins-setup-parameterized-trigger\n",
    "# Evaluation Mode: load\n",
    "# (hidden load cell)"
   ]
  },
  {
   "cell_type": "code",
   "execution_count": null,
   "metadata": {
    "collapsed": false,
    "deletable": false,
    "locked": true,
    "run_control": {
     "marked": false
    }
   },
   "outputs": [],
   "source": [
    "# Task: jenkins-setup-parameterized-trigger\n",
    "# Evaluation Mode: provided-script\n",
    "\n",
    "ssh -qi /home/centos/mykeypair root@10.0.2.100 <<EOF\n",
    "\n",
    "# Installs the plugins\n",
    "java -jar jenkins-cli.jar -s http://localhost:8080 install-plugin parameterized-trigger\n",
    "\n",
    "service jenkins restart\n",
    "\n",
    "while ! curl -I -s http://localhost:8080/ | grep -q \"200 OK\" ; do\n",
    "    echo \"Waiting for Jenkins...\"\n",
    "    sleep 3\n",
    "done\n",
    "echo \"Jenkins is ready\"\n",
    "EOF"
   ]
  },
  {
   "cell_type": "code",
   "execution_count": null,
   "metadata": {
    "collapsed": false,
    "locked": true,
    "run_control": {
    "marked": false
    }
   },
   "outputs": [],
   "source": [
    "# Task: jenkins-setup-parameterized-trigger\n",
    "# Evaluation Mode: check"
   ]
  }
 ],
 "metadata": {
  "kernelspec": {
   "display_name": "Bash",
   "language": "bash",
   "name": "bash"
  },
  "language_info": {
   "codemirror_mode": "shell",
   "file_extension": ".sh",
   "mimetype": "text/x-sh",
   "name": "bash"
  },
  "toc": {
   "toc_cell": false,
   "toc_number_sections": true,
   "toc_threshold": 6,
   "toc_window_display": false
  }
 },
 "nbformat": 4,
 "nbformat_minor": 0
}
