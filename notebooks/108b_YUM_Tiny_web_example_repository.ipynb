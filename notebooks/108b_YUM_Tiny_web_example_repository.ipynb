{
 "cells": [
  {
   "cell_type": "code",
   "execution_count": 1,
   "metadata": {
    "collapsed": false,
    "deletable": false,
    "hide_input": true,
    "hide_output": false,
    "init_cell": true,
    "locked": true,
    "run_control": {
     "marked": false
    }
   },
   "outputs": [
    {
     "name": "stdout",
     "output_type": "stream",
     "text": [
      "Ready.\n",
      "Changing global mode to 'my-script'\n"
     ]
    }
   ],
   "source": [
    "source extend_bashkernel-2modes.source\n",
    "set-global-evaluation-mode \"my-script\"\n",
    "# (initialization cell, input hidden)"
   ]
  },
  {
   "cell_type": "code",
   "execution_count": null,
   "metadata": {
    "collapsed": false,
    "run_control": {
     "marked": false
    }
   },
   "outputs": [],
   "source": [
    "set-global-evaluation-mode \"my-script\""
   ]
  },
  {
   "cell_type": "markdown",
   "metadata": {
    "run_control": {
     "marked": false
    }
   },
   "source": [
    "# Tiny_web_exampleのYUMリポジトリ作成ジョブ"
   ]
  },
  {
   "cell_type": "markdown",
   "metadata": {
    "run_control": {
     "marked": false
    }
   },
   "source": [
    "## はじめに"
   ]
  },
  {
   "cell_type": "markdown",
   "metadata": {
    "run_control": {
     "marked": false
    }
   },
   "source": [
    "「YUMリポジトリ」の項では、最小構成のyumリポジトリを作成する手順を学びました。ここではTiny_web_exampleをサンプルとして、rpmを配布するyumリポジトリを作成するJenkinsジョブの作成手順について学んでいきます。"
   ]
  },
  {
   "cell_type": "markdown",
   "metadata": {
    "run_control": {
     "marked": false
    }
   },
   "source": [
    "## 演習について"
   ]
  },
  {
   "cell_type": "markdown",
   "metadata": {
    "run_control": {
     "marked": false
    }
   },
   "source": [
    "* 各演習の最後に「確認」セルが配置されています。演習で実行、設定した内容が正しいかどうかの確認できますので、必ず実行して下さい。"
   ]
  },
  {
   "cell_type": "markdown",
   "metadata": {
    "run_control": {
     "marked": false
    }
   },
   "source": [
    "# ジョブを作成する"
   ]
  },
  {
   "cell_type": "markdown",
   "metadata": {
    "run_control": {
     "marked": false
    }
   },
   "source": [
    "## 準備"
   ]
  },
  {
   "cell_type": "markdown",
   "metadata": {
    "run_control": {
     "marked": false
    }
   },
   "source": [
    "### yumリポジトリ作成ジョブの削除"
   ]
  },
  {
   "cell_type": "markdown",
   "metadata": {
    "run_control": {
     "marked": false
    }
   },
   "source": [
    "既に本編の演習を実施済みで、あらためて演習を実施する場合は、前回の演習で作成したyumリポジトリ作成ジョブを削除して下さい。本編の演習を初めて実施する場合は必要ありません。\n",
    "\n",
    "ジョブの削除は、JenkinsのGUIで実施して下さい。"
   ]
  },
  {
   "cell_type": "code",
   "execution_count": null,
   "metadata": {
    "collapsed": true,
    "deletable": false,
    "hide_input": true,
    "hide_output": true,
    "locked": true,
    "run_control": {
     "marked": false
    }
   },
   "outputs": [],
   "source": [
    "# Task: rspec-reset-job\n",
    "# Evaluation Mode: load\n",
    "# (hidden load cell)\n",
    "ssh -i ../mykeypair root@10.0.2.100\n",
    "\n",
    "# Call to jenkins-cli client to delete the job.\n",
    "java -jar jenkins-cli.jar -s http://localhost:8080/ delete-job tiny_web.rspec"
   ]
  },
  {
   "cell_type": "code",
   "execution_count": null,
   "metadata": {
    "collapsed": false,
    "deletable": false,
    "hide_input": true,
    "hide_output": true,
    "locked": true,
    "run_control": {
     "marked": false
    }
   },
   "outputs": [],
   "source": [
    "# Task: rpmpublish-reset-job\n",
    "# Evaluation Mode: load\n",
    "# (hidden load cell)\n",
    "ssh -i ../mykeypair root@10.0.2.100\n",
    "\n",
    "# Call to jenkins-cli client to delete the job.\n",
    "java -jar jenkins-cli.jar -s http://localhost:8080/ delete-job tiny_web.rpmpublish"
   ]
  },
  {
   "cell_type": "markdown",
   "metadata": {
    "run_control": {
     "marked": false
    }
   },
   "source": [
    "### 確認\n",
    "次のセルを実行して、yumリポジトリ作成ジョブの削除が完了していることを確認して下さい。"
   ]
  },
  {
   "cell_type": "code",
   "execution_count": null,
   "metadata": {
    "collapsed": false,
    "deletable": false,
    "hide_input": false,
    "hide_output": false,
    "locked": true,
    "run_control": {
     "marked": false
    }
   },
   "outputs": [],
   "source": [
    "# Task: rpmpublish-reset-job\n",
    "# Evaluation Mode: check"
   ]
  },
  {
   "cell_type": "markdown",
   "metadata": {
    "run_control": {
     "marked": false
    }
   },
   "source": [
    "## 演習 : 新規ジョブを作成する"
   ]
  },
  {
   "cell_type": "markdown",
   "metadata": {
    "run_control": {
     "marked": false
    }
   },
   "source": [
    "### 演習の内容"
   ]
  },
  {
   "cell_type": "markdown",
   "metadata": {
    "run_control": {
     "marked": false
    }
   },
   "source": [
    "Tiny_web_exampleのyumリポジトリを作成する新規ジョブを作成します。 ジョブ名は「tiny_web.rpmpublish」とします。\n",
    "\n",
    "[103_jenkins_job_execution_script](./103_jenkins_job_execution_script.ipynb)を参考にして、ジョブを作成して下さい。"
   ]
  },
  {
   "cell_type": "code",
   "execution_count": null,
   "metadata": {
    "collapsed": false,
    "deletable": false,
    "hide_input": true,
    "hide_output": true,
    "locked": true,
    "run_control": {
     "marked": false
    }
   },
   "outputs": [],
   "source": [
    "# Task: rpmpublish-create-job\n",
    "# Evaluation Mode: load\n",
    "# (hidden load cell)\n",
    "ssh -i ../mykeypair root@10.0.2.100\n",
    "\n",
    "# Call to jenkins-cli client to create an empty job.\n",
    "java -jar jenkins-cli.jar -s http://localhost:8080/ create-job tiny_web.rpmpublish < ~/templates/config.xml"
   ]
  },
  {
   "cell_type": "code",
   "execution_count": null,
   "metadata": {
    "collapsed": false,
    "deletable": false,
    "hide_input": true,
    "hide_output": true,
    "locked": true,
    "run_control": {
     "marked": false
    }
   },
   "outputs": [],
   "source": [
    "# Task: rpmpublish-create-job\n",
    "# Evaluation Mode: provided-script\n",
    "\n",
    "ssh -i ../mykeypair root@10.0.2.100\n",
    "\n",
    "# Call to jenkins-cli client to create an empty job.\n",
    "java -jar jenkins-cli.jar -s http://localhost:8080/ create-job tiny_web.rpmpublish < ~/templates/config.xml"
   ]
  },
  {
   "cell_type": "markdown",
   "metadata": {
    "run_control": {
     "marked": false
    }
   },
   "source": [
    "### 確認\n",
    "次のセルを実行して、yumリポジトリ作成ジョブの作成が完了していることを確認して下さい。"
   ]
  },
  {
   "cell_type": "code",
   "execution_count": null,
   "metadata": {
    "collapsed": false,
    "deletable": false,
    "hide_input": false,
    "hide_output": false,
    "locked": true,
    "run_control": {
     "marked": false
    }
   },
   "outputs": [],
   "source": [
    "# Task: rpmpublish-create-job\n",
    "# Evaluation Mode: check"
   ]
  },
  {
   "cell_type": "code",
   "execution_count": null,
   "metadata": {
    "collapsed": false,
    "deletable": false,
    "hide_input": true,
    "hide_output": true,
    "locked": true,
    "run_control": {
     "marked": false
    }
   },
   "outputs": [],
   "source": [
    "# Task: rpmpublish-configure-git\n",
    "# Evaluation Mode: load\n",
    "# (hidden load cell)"
   ]
  },
  {
   "cell_type": "markdown",
   "metadata": {
    "run_control": {
     "marked": false
    }
   },
   "source": [
    "## 演習 : HipChatへの通知設定を行う"
   ]
  },
  {
   "cell_type": "markdown",
   "metadata": {
    "run_control": {
     "marked": false
    }
   },
   "source": [
    "### 演習の内容"
   ]
  },
  {
   "cell_type": "markdown",
   "metadata": {
    "run_control": {
     "marked": false
    }
   },
   "source": [
    "HipChatへyumリポジトリの作成状況を通知するための設定を行います。\n",
    "* [105_HipChat_reports](./105_HipChat_reports.ipynb)を参考にして設定して下さい。\n",
    "* hipchatプラグインは既に導入済みなので、「HipChatに発言させてみる」からが参考になります。\n",
    "* 次の通知ができるように設定して下さい。\n",
    "  + ビルド開始\n",
    "  + ビルド成功\n",
    "  + ビルド失敗"
   ]
  },
  {
   "cell_type": "code",
   "execution_count": null,
   "metadata": {
    "collapsed": false,
    "deletable": false,
    "hide_input": true,
    "hide_output": true,
    "locked": true,
    "run_control": {
     "marked": false
    }
   },
   "outputs": [],
   "source": [
    "# Task: rpmpublish-configure-hipchat\n",
    "# Evaluation Mode: load\n",
    "# (hidden load cell)"
   ]
  },
  {
   "cell_type": "code",
   "execution_count": null,
   "metadata": {
    "collapsed": false,
    "deletable": false,
    "hide_input": true,
    "hide_output": true,
    "locked": true,
    "run_control": {
     "marked": false
    }
   },
   "outputs": [],
   "source": [
    "# Task: rpmpublish-configure-hipchat\n",
    "# Evaluation Mode: provided-script"
   ]
  },
  {
   "cell_type": "markdown",
   "metadata": {
    "run_control": {
     "marked": false
    }
   },
   "source": [
    "### 確認\n",
    "次のセルを実行して、HipChatへの通知設定が完了していることを確認して下さい。"
   ]
  },
  {
   "cell_type": "code",
   "execution_count": null,
   "metadata": {
    "collapsed": false,
    "deletable": false,
    "locked": true,
    "run_control": {
     "marked": false
    }
   },
   "outputs": [],
   "source": [
    "# Task: rpmpublish-configure-hipchat\n",
    "# Evaluation Mode: check"
   ]
  },
  {
   "cell_type": "markdown",
   "metadata": {
    "run_control": {
     "marked": false
    }
   },
   "source": [
    "# yumリポジトリ作成スクリプトを設定する"
   ]
  },
  {
   "cell_type": "markdown",
   "metadata": {
    "run_control": {
     "marked": false
    }
   },
   "source": [
    "## 演習 : ジョブに「シェルの実行」を追加する"
   ]
  },
  {
   "cell_type": "markdown",
   "metadata": {
    "run_control": {
     "marked": false
    }
   },
   "source": [
    "### 演習の内容"
   ]
  },
  {
   "cell_type": "markdown",
   "metadata": {
    "run_control": {
     "marked": false
    }
   },
   "source": [
    "yumリポジトリ作成ジョブに「シェルの実行」を追加します。後でこの欄にyumリポジトリ作成スクリプトを記述します。\n",
    "\n",
    "[103_jenkins_job_execution_script](./103_jenkins_job_execution_script.ipynb)を参考にして下さい。"
   ]
  },
  {
   "cell_type": "code",
   "execution_count": null,
   "metadata": {
    "collapsed": false,
    "deletable": false,
    "hide_input": true,
    "hide_output": true,
    "locked": true,
    "run_control": {
     "marked": false
    }
   },
   "outputs": [],
   "source": [
    "# Task: rpmpublish-configure-rbenv\n",
    "# Evaluation Mode: load\n",
    "# (hidden load cell)"
   ]
  },
  {
   "cell_type": "code",
   "execution_count": null,
   "metadata": {
    "collapsed": false,
    "deletable": false,
    "hide_input": true,
    "hide_output": true,
    "locked": true,
    "run_control": {
     "marked": false
    }
   },
   "outputs": [],
   "source": [
    "# Task: rpmpublish-add-build-script\n",
    "# Evaluation Mode: provided-script"
   ]
  },
  {
   "cell_type": "markdown",
   "metadata": {
    "run_control": {
     "marked": false
    }
   },
   "source": [
    "### 確認\n",
    "次のセルを実行して、「シェルの実行」が追加済みであることを確認して下さい。"
   ]
  },
  {
   "cell_type": "code",
   "execution_count": null,
   "metadata": {
    "collapsed": false,
    "deletable": false,
    "locked": true,
    "run_control": {
     "marked": false
    }
   },
   "outputs": [],
   "source": [
    "# Task: rpmpublish-add-build-script\n",
    "# Evaluation Mode: check"
   ]
  },
  {
   "cell_type": "markdown",
   "metadata": {
    "run_control": {
     "marked": false
    }
   },
   "source": [
    "## yumリポジトリ作成スクリプトを設定する"
   ]
  },
  {
   "cell_type": "markdown",
   "metadata": {
    "run_control": {
     "marked": false
    }
   },
   "source": [
    "### 演習の内容"
   ]
  },
  {
   "cell_type": "markdown",
   "metadata": {
    "run_control": {
     "marked": false
    }
   },
   "source": [
    "次のyumリポジトリ作成スクリプトのテンプレートをコピーし、上記で追加した「シェルの実行」欄へペーストして下さい。\n",
    "yumリポジトリ作成スクリプトは、まだ未完成です。次の４つのタスクが不足しています。この項目に続いて各タスクの説明がありますので、タスクを追加してスクリプトを完成させて下さい。\n",
    "* TASK: Install httpd server\n",
    "* TASK: Create public directory\n",
    "* TASK: Publish repo\n",
    "* TASK: Build repo\n",
    "\n",
    "解らない事があれば、[108a_preparing_yum_repository](./108a_preparing_yum_repository.ipynb)を参照しながら進めて下さい。"
   ]
  },
  {
   "cell_type": "markdown",
   "metadata": {
    "run_control": {
     "marked": false
    }
   },
   "source": [
    "#### yumリポジトリ作成スクリプトのテンプレート"
   ]
  },
  {
   "cell_type": "markdown",
   "metadata": {
    "collapsed": false,
    "deletable": false,
    "hide_input": false,
    "hide_output": false,
    "locked": true,
    "run_control": {
     "marked": false
    }
   },
   "source": [
    "```\n",
    "#!/bin/bash\n",
    "#\n",
    "#\n",
    "set -e\n",
    "set -x\n",
    "set -o pipefail\n",
    "\n",
    "# check\n",
    "\n",
    "# TASK: Install and start httpd server\n",
    "\n",
    "# TASK: Create public directory\n",
    "\n",
    "# TASK: Publish repo\n",
    "\n",
    "# TASK: Build repo\n",
    "```"
   ]
  },
  {
   "cell_type": "markdown",
   "metadata": {
    "run_control": {
     "marked": false
    }
   },
   "source": [
    "### Task: Install and start httpd server"
   ]
  },
  {
   "cell_type": "markdown",
   "metadata": {
    "run_control": {
     "marked": false
    }
   },
   "source": [
    "yumリポジトリのフロントエンドにはhttpdを使用します。<br>\n",
    "httpdをインストールして起動するコマンドを、スクリプトの「# TASK: Install and start httpd server」の位置に追加して下さい。<br>\n",
    "パッケージはyumコマンドでインストールします。\n",
    "```\n",
    "yum install -y packagename\n",
    "```"
   ]
  },
  {
   "cell_type": "code",
   "execution_count": null,
   "metadata": {
    "collapsed": true,
    "deletable": false,
    "hide_input": true,
    "hide_output": true,
    "locked": true,
    "run_control": {
     "marked": false
    }
   },
   "outputs": [],
   "source": [
    "# Task: rpmpublish-script-install-package\n",
    "# Evaluation Mode: load\n",
    "# (hidden load cell)"
   ]
  },
  {
   "cell_type": "code",
   "execution_count": null,
   "metadata": {
    "collapsed": false,
    "deletable": false,
    "hide_input": true,
    "hide_output": true,
    "locked": true,
    "run_control": {
     "marked": false
    }
   },
   "outputs": [],
   "source": [
    "# Task: rpmpublish-script-install-package\n",
    "# Evaluation Mode: provided-script"
   ]
  },
  {
   "cell_type": "markdown",
   "metadata": {
    "run_control": {
     "marked": false
    }
   },
   "source": [
    "#### 確認\n",
    "次のセルを実行して、スクリプトにhttpdのインストールと起動コマンドが追加されていることを確認して下さい。"
   ]
  },
  {
   "cell_type": "code",
   "execution_count": null,
   "metadata": {
    "collapsed": true,
    "deletable": false,
    "locked": true,
    "run_control": {
     "marked": false
    }
   },
   "outputs": [],
   "source": [
    "# Task: rpmpublish-script-install-package\n",
    "# Evaluation Mode: check"
   ]
  },
  {
   "cell_type": "markdown",
   "metadata": {
    "run_control": {
     "marked": false
    }
   },
   "source": [
    "### Task: Create public directory"
   ]
  },
  {
   "cell_type": "markdown",
   "metadata": {
    "run_control": {
     "marked": false
    }
   },
   "source": [
    "rpmの公開用ディレクトリを作成するコマンドを「Task: Create public directory」の位置に追加して下さい。 \n",
    "ディレクトリが存在しない場合のみ作成するようにしましょう。"
   ]
  },
  {
   "cell_type": "code",
   "execution_count": null,
   "metadata": {
    "collapsed": true,
    "deletable": false,
    "hide_input": true,
    "hide_output": true,
    "locked": true,
    "run_control": {
     "marked": false
    }
   },
   "outputs": [],
   "source": [
    "# Task: rpmpublish-script-create-repo-dir\n",
    "# Evaluation Mode: load\n",
    "# (hidden load cell)"
   ]
  },
  {
   "cell_type": "code",
   "execution_count": null,
   "metadata": {
    "collapsed": false,
    "deletable": false,
    "hide_input": true,
    "hide_output": true,
    "locked": true,
    "run_control": {
     "marked": false
    }
   },
   "outputs": [],
   "source": [
    "# Task: rpmpublish-script-create-repo-dir\n",
    "# Evaluation Mode: provided-script"
   ]
  },
  {
   "cell_type": "markdown",
   "metadata": {
    "run_control": {
     "marked": false
    }
   },
   "source": [
    "####  確認\n",
    "次のセルを実行して、公開用ディレクトリの作成コマンドが追加されていることを確認して下さい。"
   ]
  },
  {
   "cell_type": "code",
   "execution_count": null,
   "metadata": {
    "collapsed": true,
    "deletable": false,
    "locked": true,
    "run_control": {
     "marked": false
    }
   },
   "outputs": [],
   "source": [
    "# Task: rpmpublish-script-create-repo-dir\n",
    "# Evaluation Mode: check"
   ]
  },
  {
   "cell_type": "markdown",
   "metadata": {
    "run_control": {
     "marked": false
    }
   },
   "source": [
    "## Task: Publish repo"
   ]
  },
  {
   "cell_type": "markdown",
   "metadata": {
    "run_control": {
     "marked": false
    }
   },
   "source": [
    "rpmファイルを公開用ディレクトリに配置するコマンドを「Task: Publish repo」に追加して下さい。\n",
    "\n",
    "rpmファイルがあるディレクトリに移動して、rsyncコマンドを実行します。\n",
    "```\n",
    "rsync -avx from to\n",
    "```"
   ]
  },
  {
   "cell_type": "code",
   "execution_count": null,
   "metadata": {
    "collapsed": true,
    "deletable": false,
    "hide_input": true,
    "hide_output": true,
    "locked": true,
    "run_control": {
     "marked": false
    }
   },
   "outputs": [],
   "source": [
    "# Task: rpmpublish-script-publish-repo\n",
    "# Evaluation Mode: load\n",
    "# (hidden load cell)"
   ]
  },
  {
   "cell_type": "code",
   "execution_count": null,
   "metadata": {
    "collapsed": true,
    "hide_input": true,
    "hide_output": true,
    "run_control": {
     "marked": false
    }
   },
   "outputs": [],
   "source": [
    "# Task: rpmpublish-script-publish-repo\n",
    "# Evaluation Mode: provided-script"
   ]
  },
  {
   "cell_type": "markdown",
   "metadata": {
    "run_control": {
     "marked": false
    }
   },
   "source": [
    "####  確認\n",
    "次のセルを実行して、rpmファイルを公開用ディレクトリに配置するコマンドが追加されていることを確認して下さい。"
   ]
  },
  {
   "cell_type": "code",
   "execution_count": null,
   "metadata": {
    "collapsed": true,
    "deletable": false,
    "locked": true,
    "run_control": {
     "marked": false
    }
   },
   "outputs": [],
   "source": [
    "# Task: rpmpublish-script-publish-repo\n",
    "# Evaluation Mode: check"
   ]
  },
  {
   "cell_type": "markdown",
   "metadata": {
    "run_control": {
     "marked": false
    }
   },
   "source": [
    "## Task: Build repo"
   ]
  },
  {
   "cell_type": "markdown",
   "metadata": {
    "run_control": {
     "marked": false
    }
   },
   "source": [
    "公開用ディレクトリにyumリポジトリを作成するコマンドを「Task: Build repo」の位置に追加して下さい。\n",
    "\n",
    "公開用ディレクトリに移動して、createrepoコマンドを実行します。"
   ]
  },
  {
   "cell_type": "code",
   "execution_count": null,
   "metadata": {
    "collapsed": true,
    "deletable": false,
    "hide_input": true,
    "hide_output": true,
    "locked": true,
    "run_control": {
     "marked": false
    }
   },
   "outputs": [],
   "source": [
    "# Task: rpmpublish-script-build-repo\n",
    "# Evaluation Mode: load\n",
    "# (hidden load cell)"
   ]
  },
  {
   "cell_type": "code",
   "execution_count": null,
   "metadata": {
    "collapsed": true,
    "hide_input": true,
    "hide_output": true,
    "run_control": {
     "marked": false
    }
   },
   "outputs": [],
   "source": [
    "# Task: rpmpublish-script-build-repo\n",
    "# Evaluation Mode: provided-script"
   ]
  },
  {
   "cell_type": "markdown",
   "metadata": {
    "run_control": {
     "marked": false
    }
   },
   "source": [
    "#### 確認\n",
    "次のセルを実行して、yumリポジトリを作成するコマンドが追加されていることを確認して下さい。"
   ]
  },
  {
   "cell_type": "code",
   "execution_count": null,
   "metadata": {
    "collapsed": false,
    "deletable": false,
    "locked": true,
    "run_control": {
     "marked": false
    }
   },
   "outputs": [],
   "source": [
    "# Task: rpmpublish-script-build-repo\n",
    "# Evaluation Mode: check"
   ]
  },
  {
   "cell_type": "markdown",
   "metadata": {
    "run_control": {
     "marked": false
    }
   },
   "source": [
    "# 作成したジョブでyumリポジトリを作成してみる"
   ]
  },
  {
   "cell_type": "markdown",
   "metadata": {
    "run_control": {
     "marked": false
    }
   },
   "source": [
    "最後に、作成したyumリポジトリ作成ジョブを実行してみましょう。\n",
    "[103_jenkins_job_execution_script](./103_jenkins_job_execution_script.ipynb)を参考にして作成したジョブを実行して下さい。"
   ]
  }
 ],
 "metadata": {
  "kernelspec": {
   "display_name": "Bash",
   "language": "bash",
   "name": "bash"
  },
  "language_info": {
   "codemirror_mode": "shell",
   "file_extension": ".sh",
   "mimetype": "text/x-sh",
   "name": "bash"
  },
  "toc": {
   "toc_cell": false,
   "toc_number_sections": true,
   "toc_threshold": 6,
   "toc_window_display": false
  }
 },
 "nbformat": 4,
 "nbformat_minor": 0
}
