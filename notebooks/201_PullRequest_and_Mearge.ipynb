{
 "cells": [
  {
   "cell_type": "markdown",
   "metadata": {
    "collapsed": true
   },
   "source": [
    "# プルリクエストを使ったマージ手順\n",
    "\n",
    "fork元リポジトリの内容を、forkした手元のリポジトリに反映する手順を説明して行きます。\n",
    "\n",
    "## 緑の矢印ボタンをクリックします\n",
    "\n",
    "![hansode tiny_web_example](https://cloud.githubusercontent.com/assets/76867/7791877/0259bf2c-02e3-11e5-87bc-9165ded36562.png)\n",
    "\n",
    "## 「Comparing changes」画面が開きます\n",
    "\n",
    "![comparing axsh master hansode master axsh tiny_web_example](https://cloud.githubusercontent.com/assets/76867/7791889/3c3c2702-02e3-11e5-985b-e5b8c531964f.png)\n",
    "\n",
    "## 左側のセレクトボックスを開き、マージ対象リポジトリを選択します\n",
    "\n",
    "![comparing axsh master hansode master axsh tiny_web_example](https://cloud.githubusercontent.com/assets/76867/7791896/566b185e-02e3-11e5-9de0-a97ef7691a23.png)\n",
    "\n",
    "## リポジトリを選択すると2つのリポジトリの差分が表示されます\n",
    "\n",
    "![comparing hansode master axsh master hansode tiny_web_example](https://cloud.githubusercontent.com/assets/76867/7791908/8e2f7ca8-02e3-11e5-91eb-2881e2e88abd.png)\n",
    "\n",
    "## 「Create pull request」ボタンを押します\n",
    "\n",
    "![comparing hansode master axsh master hansode tiny_web_example](https://cloud.githubusercontent.com/assets/76867/7791913/9ec64934-02e3-11e5-8b73-abf84139d2f2.png)\n",
    "\n",
    "## 「Open a pull request」画面が開きます\n",
    "\n",
    "![comparing hansode master axsh master hansode tiny_web_example](https://cloud.githubusercontent.com/assets/76867/7791918/b100a270-02e3-11e5-9921-5c359a86f3dd.png)\n",
    "\n",
    "## タイトルを入力し、「Create pull request」をクリックします\n",
    "\n",
    "ここでは「Merge upstream」としています。タイトルに入力する文字列に規則や制約などは有りません。\n",
    "\n",
    "![comparing hansode master axsh master hansode tiny_web_example](https://cloud.githubusercontent.com/assets/76867/7791926/cf0fc8ea-02e3-11e5-8c69-75b40efb5416.png)\n",
    "\n",
    "## 作成されたプルリクエストページが開きます\n",
    "\n",
    "![merge upstream by hansode pull request 3 hansode tiny_web_example](https://cloud.githubusercontent.com/assets/76867/7791930/de0b47f2-02e3-11e5-9e00-da1baab25c6f.png)\n",
    "\n",
    "## ページ後半の「Merge pull request」ボタンをクリックします\n",
    "\n",
    "![merge upstream by hansode pull request 3 hansode tiny_web_example](https://cloud.githubusercontent.com/assets/76867/7791935/f8077f36-02e3-11e5-81ea-c02fcfa81711.png)\n",
    "\n",
    "## 確認画面が開きます。問題が無ければ「Confirm merge」ボタンをクリックします\n",
    "\n",
    "![merge upstream by hansode pull request 3 hansode tiny_web_example](https://cloud.githubusercontent.com/assets/76867/7791939/0bf346ba-02e4-11e5-8d51-1012297b8c8f.png)\n",
    "\n",
    "## Mergeが完了しました\n",
    "\n",
    "![merge upstream by hansode pull request 3 hansode tiny_web_example](https://cloud.githubusercontent.com/assets/76867/7791942/22592c3a-02e4-11e5-82f0-65f069168b69.png)"
   ]
  }
 ],
 "metadata": {
  "kernelspec": {
   "display_name": "Bash",
   "language": "bash",
   "name": "bash"
  },
  "language_info": {
   "codemirror_mode": "shell",
   "file_extension": ".sh",
   "mimetype": "text/x-sh",
   "name": "bash"
  },
  "toc": {
   "toc_cell": false,
   "toc_number_sections": true,
   "toc_threshold": 6,
   "toc_window_display": false
  }
 },
 "nbformat": 4,
 "nbformat_minor": 0
}
