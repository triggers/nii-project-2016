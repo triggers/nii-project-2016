{
 "cells": [
  {
   "cell_type": "code",
   "execution_count": 1,
   "metadata": {
    "collapsed": false,
    "deletable": true,
    "hide_input": true,
    "init_cell": true,
    "locked": false,
    "run_control": {
     "marked": true
    }
   },
   "outputs": [
    {
     "name": "stdout",
     "output_type": "stream",
     "text": [
      "Ready.\n"
     ]
    }
   ],
   "source": [
    "source extend_bashkernel.source"
   ]
  },
  {
   "cell_type": "markdown",
   "metadata": {},
   "source": [
    "## Install mussel\n",
    "\n",
    "Install the mussel client by cloning the wakame-vdc repository into /opt/axsh on the instance running jenkins."
   ]
  },
  {
   "cell_type": "code",
   "execution_count": 3,
   "metadata": {
    "collapsed": false,
    "run_control": {
     "marked": false
    }
   },
   "outputs": [
    {
     "name": "stdout",
     "output_type": "stream",
     "text": [
      "Mussel is installed.\n"
     ]
    }
   ],
   "source": [
    "# (tiny-web-install-mussel)\n",
    "# Evaluation mode: doit"
   ]
  },
  {
   "cell_type": "code",
   "execution_count": null,
   "metadata": {
    "collapsed": true
   },
   "outputs": [],
   "source": [
    "# (tiny-web-install-mussel)\n",
    "# Evaluation mode: check"
   ]
  },
  {
   "cell_type": "markdown",
   "metadata": {
    "run_control": {
     "marked": false
    }
   },
   "source": [
    "## Setup jenkins\n",
    "\n",
    "To make sure the enviroment is clean go to the main page in the jenkins gui and make sure there are no jobs there, if there are delete them."
   ]
  },
  {
   "cell_type": "code",
   "execution_count": null,
   "metadata": {
    "collapsed": false,
    "run_control": {
     "marked": false
    }
   },
   "outputs": [],
   "source": [
    "# (tiny-web-reset-jenkins)\n",
    "# Evaluation mode: doit"
   ]
  },
  {
   "cell_type": "code",
   "execution_count": null,
   "metadata": {
    "collapsed": true
   },
   "outputs": [],
   "source": [
    "# (tiny-web-reset-jenkins)\n",
    "# Evaluation mode: check"
   ]
  },
  {
   "cell_type": "markdown",
   "metadata": {},
   "source": [
    "## Install plugins\n",
    "\n",
    "Make sure the plugins rbenv, git, git-client and parameterized trigger are installed. If not install them as described in the preivous files."
   ]
  },
  {
   "cell_type": "code",
   "execution_count": 2,
   "metadata": {
    "collapsed": false,
    "run_control": {
     "marked": false
    }
   },
   "outputs": [
    {
     "name": "stdout",
     "output_type": "stream",
     "text": [
      "All plugins installed.\n"
     ]
    }
   ],
   "source": [
    "# (tiny-web-install-plugins)\n",
    "# Evaluation mode: doit"
   ]
  },
  {
   "cell_type": "code",
   "execution_count": null,
   "metadata": {
    "collapsed": true
   },
   "outputs": [],
   "source": [
    "# (tiny-web-install-plugins)\n",
    "# Evaluation mode: check"
   ]
  },
  {
   "cell_type": "markdown",
   "metadata": {},
   "source": [
    "## Wait-for-jenkins\n",
    "\n",
    "When new plugins have been installed, jenkins has to be restarted before they are useable. Execute the following cell \n",
    "to confirm that jenkins is ready to be used."
   ]
  },
  {
   "cell_type": "code",
   "execution_count": null,
   "metadata": {
    "collapsed": false,
    "deletable": true,
    "locked": false,
    "run_control": {
     "marked": false
    }
   },
   "outputs": [],
   "source": [
    "# (tiny-web-wait-for-jenkins)\n",
    "# Evaluation mode: doit"
   ]
  },
  {
   "cell_type": "markdown",
   "metadata": {},
   "source": [
    "## Setup github\n",
    "\n",
    "Type in your github username and the repository to build for."
   ]
  },
  {
   "cell_type": "code",
   "execution_count": null,
   "metadata": {
    "collapsed": false,
    "run_control": {
     "marked": false
    }
   },
   "outputs": [],
   "source": [
    "# Set github details\n",
    "set-github-user \"foo\"\n",
    "set-github-repo \"tiny_web_example\""
   ]
  },
  {
   "cell_type": "markdown",
   "metadata": {},
   "source": [
    "## Creating the jobs in jenkins.\n",
    "\n",
    "We need to create five jobs for the complete enviroment, he following cells will have extra evaulation modes specific to the tasks of creating the jobs.\n",
    "\n",
    "* **show-template**, loads in a template with instructions on what to do in certain places.\n",
    "* **eval-script**, checks if the inputed script file does what the job requires it to do.\n",
    "\n",
    "Before executing the cell specify the job for which the template "
   ]
  },
  {
   "cell_type": "markdown",
   "metadata": {
    "heading_collapsed": true
   },
   "source": [
    "#### rspec job\n",
    "\n",
    "Create a job and add script for running the unit tests."
   ]
  },
  {
   "cell_type": "code",
   "execution_count": null,
   "metadata": {
    "collapsed": true
   },
   "outputs": [],
   "source": [
    "# (tiny-web-rspec-job)\n",
    "# Evaluation mode: doit"
   ]
  },
  {
   "cell_type": "code",
   "execution_count": 2,
   "metadata": {
    "collapsed": false
   },
   "outputs": [
    {
     "name": "stdout",
     "output_type": "stream",
     "text": [
      "OK\n"
     ]
    }
   ],
   "source": [
    "set-jenkins-job-name \"type in the job name\"\n",
    "# (tiny-web-rspec-job)\n",
    "# Evaluation mode: load-template"
   ]
  },
  {
   "cell_type": "markdown",
   "metadata": {
    "heading_collapsed": true
   },
   "source": [
    "#### rpmbuild job\n",
    "\n",
    "Create a job and add script that builds the rpm."
   ]
  },
  {
   "cell_type": "code",
   "execution_count": null,
   "metadata": {
    "collapsed": false,
    "run_control": {
     "marked": false
    }
   },
   "outputs": [],
   "source": [
    "# (tiny-web-rpmbuild-job)\n",
    "# Evaluation mode: doit"
   ]
  },
  {
   "cell_type": "code",
   "execution_count": null,
   "metadata": {
    "collapsed": true
   },
   "outputs": [],
   "source": [
    "set-jenkins-job-name \"type in the job name\"\n",
    "# (tiny-web-rpmbuild-job)\n",
    "# Evaluation mode: load-template"
   ]
  },
  {
   "cell_type": "markdown",
   "metadata": {
    "heading_collapsed": true
   },
   "source": [
    "#### rpmpublish job\n",
    "\n",
    "Create a job and add script that will setup the yum repository and publish the rpm."
   ]
  },
  {
   "cell_type": "code",
   "execution_count": null,
   "metadata": {
    "collapsed": false,
    "run_control": {
     "marked": false
    }
   },
   "outputs": [],
   "source": [
    "# (tiny-web-rpmpublish-job)\n",
    "# Evaluation mode: doit"
   ]
  },
  {
   "cell_type": "code",
   "execution_count": null,
   "metadata": {
    "collapsed": true
   },
   "outputs": [],
   "source": [
    "set-jenkins-job-name \"type in the job name\"\n",
    "# (tiny-web-rpmpublish-job)\n",
    "# Evaluation mode: load-template"
   ]
  },
  {
   "cell_type": "markdown",
   "metadata": {},
   "source": [
    "#### imagebuild job\n",
    "\n",
    "Create a job and add script that builds the images required for the database and applicatoin."
   ]
  },
  {
   "cell_type": "code",
   "execution_count": null,
   "metadata": {
    "collapsed": false,
    "run_control": {
     "marked": false
    },
    "scrolled": true
   },
   "outputs": [],
   "source": [
    "# (tiny-web-imagebuild-job)\n",
    "# Evaluation mode: doit"
   ]
  },
  {
   "cell_type": "code",
   "execution_count": null,
   "metadata": {
    "collapsed": true
   },
   "outputs": [],
   "source": [
    "# (tiny-web-imagebuild-job)\n",
    "# Evaluation mode: load-template"
   ]
  },
  {
   "cell_type": "markdown",
   "metadata": {},
   "source": [
    "#### integration test job\n",
    "\n",
    "Create a job and add script that runs the integration tests by using the images built in the previous step."
   ]
  },
  {
   "cell_type": "code",
   "execution_count": null,
   "metadata": {
    "collapsed": false,
    "run_control": {
     "marked": false
    }
   },
   "outputs": [],
   "source": [
    "# (tiny-web-integration-job)\n",
    "# Evaluation mode: doit"
   ]
  },
  {
   "cell_type": "code",
   "execution_count": null,
   "metadata": {
    "collapsed": true
   },
   "outputs": [],
   "source": [
    "set-jenkins-job-name \"type in the job name\"\n",
    "# (tiny-web-integration-job)\n",
    "# Evaluation mode: load-template"
   ]
  }
 ],
 "metadata": {
  "kernelspec": {
   "display_name": "Bash",
   "language": "bash",
   "name": "bash"
  },
  "language_info": {
   "codemirror_mode": "shell",
   "file_extension": ".sh",
   "mimetype": "text/x-sh",
   "name": "bash"
  },
  "toc": {
   "toc_cell": false,
   "toc_number_sections": true,
   "toc_threshold": 6,
   "toc_window_display": false
  }
 },
 "nbformat": 4,
 "nbformat_minor": 0
}
