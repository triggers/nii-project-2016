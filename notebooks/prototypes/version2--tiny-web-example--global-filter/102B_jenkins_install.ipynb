{
 "cells": [
  {
   "cell_type": "markdown",
   "metadata": {},
   "source": [
    "# Introduction\n",
    "\n",
    "Follow the instructions for each task below.  \n",
    "\n",
    "Either complete the task by using a web page graphical user interface, or by typing shell code in the special Jupyter cell that follows the instruction and then evaluating it in \"shell\" mode.  **Do not delete the comments at the top of the special cells.**\n",
    "\n",
    "Other than \"shell\" mode, the following evaluation modes are possible:\n",
    "\n",
    " * **shell**: Evaluation will pipe the cell contents through a new bash process.\n",
    "\n",
    " * **hint**: Evaluation will output a hint for how to complete the task.\n",
    "\n",
    " * **check**: Evaluation will check whether the task has been completed by\n",
    "examining the system state.\n",
    "\n",
    " * **doit**: Evaluation will show and execute shell commands that can do the task.\n",
    " But first, it will check whether previous tasks have been completed and will also check that it has not already been done. \n",
    " "
   ]
  },
  {
   "cell_type": "markdown",
   "metadata": {},
   "source": [
    "# Initialization\n"
   ]
  },
  {
   "cell_type": "markdown",
   "metadata": {},
   "source": [
    "## Set up extra Jupyter functionality\n",
    "\n",
    "Evaluation of the next cell is required.  However, before doing so please change the values of the environment variables to the correct values for your accounts.\n"
   ]
  },
  {
   "cell_type": "code",
   "execution_count": null,
   "metadata": {
    "collapsed": false
   },
   "outputs": [],
   "source": [
    "export HIPCHAT_ID=\"change to actual id\"\n",
    "source extend_bashkernel-global-filter.source"
   ]
  },
  {
   "cell_type": "markdown",
   "metadata": {},
   "source": [
    "## Set Global Evaluation Mode\n",
    "\n",
    "A global evaluation mode can be set in the next cell.  The default is \"none\".  If it is changed to **hint**, **check**, or **doit**, all other cells in this notebook will be evaluated in that mode.  This feature can be used with Jupyter's \"Run All\", \"Run All Above\", and \"Run All Below\" features to globally check or reset state to any place in the exercise."
   ]
  },
  {
   "cell_type": "code",
   "execution_count": null,
   "metadata": {
    "collapsed": false
   },
   "outputs": [],
   "source": [
    "set-global-evaluation-mode \"doit\""
   ]
  },
  {
   "cell_type": "markdown",
   "metadata": {},
   "source": [
    "## Reset Wakame-vdc\n",
    "\n",
    "The first task is to terminate any Wakame-vdc instances that are currently running.  (Doing this task is not necessary if this Jupyter notebook has not been run yet and no instances are currently running.)  Connect to the Wakame-vdc Web GUI, check if there are any instances running, and terminate them, if so."
   ]
  },
  {
   "cell_type": "markdown",
   "metadata": {},
   "source": [
    "### Doit"
   ]
  },
  {
   "cell_type": "code",
   "execution_count": null,
   "metadata": {
    "collapsed": false
   },
   "outputs": [],
   "source": [
    "# Task: install-jenkins-reset-task\n",
    "# Evaluation Mode: doit\n"
   ]
  },
  {
   "cell_type": "markdown",
   "metadata": {},
   "source": [
    "### Check"
   ]
  },
  {
   "cell_type": "code",
   "execution_count": null,
   "metadata": {
    "collapsed": false
   },
   "outputs": [],
   "source": [
    "# Task: install-jenkins-reset-task\n",
    "# Evaluation Mode: check\n"
   ]
  },
  {
   "cell_type": "markdown",
   "metadata": {},
   "source": [
    "# Start up Wakame-vdc Instance"
   ]
  },
  {
   "cell_type": "markdown",
   "metadata": {},
   "source": [
    "## Create Wakame-vdc Instance\n",
    "\n",
    "Using the Wakame-vdc Web GUI, start a Wakame-vdc instance from the **wmi-centos1d64** machine image. Choose **vz.xlarge** for the instance spec, and **ssh-cicddemo** and **sg-cicddemo** for the SSH key pair and Security group.  Connect eth0 to the **demo1** network."
   ]
  },
  {
   "cell_type": "markdown",
   "metadata": {},
   "source": [
    "### Doit"
   ]
  },
  {
   "cell_type": "code",
   "execution_count": null,
   "metadata": {
    "collapsed": false,
    "scrolled": true
   },
   "outputs": [],
   "source": [
    "# Task: install-jenkins-launch-instance\n",
    "# Evaluation Mode: doit\n"
   ]
  },
  {
   "cell_type": "markdown",
   "metadata": {},
   "source": [
    "### Check"
   ]
  },
  {
   "cell_type": "code",
   "execution_count": null,
   "metadata": {
    "collapsed": false,
    "scrolled": true
   },
   "outputs": [],
   "source": [
    "# Task: install-jenkins-launch-instance\n",
    "# Evaluation Mode: check\n"
   ]
  },
  {
   "cell_type": "markdown",
   "metadata": {},
   "source": [
    "## Wait for ssh to be ready\n",
    "\n",
    "After confirming that the instance is running in the Wakame-vdc Web GUI, use the ssh command in the following cell to confirm that the instance is running correctly.  Be sure to confirm that the IP address matches the one assigned to the instance by Wakame-vdc."
   ]
  },
  {
   "cell_type": "markdown",
   "metadata": {},
   "source": [
    "### Doit"
   ]
  },
  {
   "cell_type": "code",
   "execution_count": null,
   "metadata": {
    "collapsed": false
   },
   "outputs": [],
   "source": [
    "# Task: install-jenkins-wait-for-ssh\n",
    "# Evaluation Mode: doit\n"
   ]
  },
  {
   "cell_type": "markdown",
   "metadata": {},
   "source": [
    "### Check"
   ]
  },
  {
   "cell_type": "code",
   "execution_count": null,
   "metadata": {
    "collapsed": false
   },
   "outputs": [],
   "source": [
    "# Task: install-jenkins-wait-for-ssh\n",
    "# Evaluation Mode: check\n",
    "\n",
    "# ssh -qi ../mykeypair root@10.0.2.100 uptime"
   ]
  },
  {
   "cell_type": "markdown",
   "metadata": {},
   "source": [
    "# Install Packages"
   ]
  },
  {
   "cell_type": "markdown",
   "metadata": {},
   "source": [
    "## repoファイルのインストール\n",
    "\n",
    "jenkins用yumリポジトリを追加します。 Download the file at http://pkg.jenkins-ci.org/redhat/jenkins.repo and put it at /etc/yum.repos.d/jenkins.repo inside the instance.\n"
   ]
  },
  {
   "cell_type": "markdown",
   "metadata": {},
   "source": [
    "### Doit"
   ]
  },
  {
   "cell_type": "code",
   "execution_count": null,
   "metadata": {
    "collapsed": false
   },
   "outputs": [],
   "source": [
    "# Task: install-jenkins-repo-file\n",
    "# Evaluation Mode: doit\n"
   ]
  },
  {
   "cell_type": "markdown",
   "metadata": {},
   "source": [
    "### Check"
   ]
  },
  {
   "cell_type": "code",
   "execution_count": null,
   "metadata": {
    "collapsed": false
   },
   "outputs": [],
   "source": [
    "# Task: install-jenkins-repo-file\n",
    "# Evaluation Mode: check\n"
   ]
  },
  {
   "cell_type": "markdown",
   "metadata": {},
   "source": [
    "## 公開鍵のインポート"
   ]
  },
  {
   "cell_type": "markdown",
   "metadata": {},
   "source": [
    "### Doit"
   ]
  },
  {
   "cell_type": "code",
   "execution_count": null,
   "metadata": {
    "collapsed": false
   },
   "outputs": [],
   "source": [
    "# Task: install-jenkins-import-public-key\n",
    "# Evaluation Mode: doit\n"
   ]
  },
  {
   "cell_type": "markdown",
   "metadata": {},
   "source": [
    "### Check"
   ]
  },
  {
   "cell_type": "code",
   "execution_count": null,
   "metadata": {
    "collapsed": false
   },
   "outputs": [],
   "source": [
    "# Task: install-jenkins-import-public-key\n",
    "# Evaluation Mode: check\n"
   ]
  },
  {
   "cell_type": "markdown",
   "metadata": {},
   "source": [
    "## java実行環境のインストール"
   ]
  },
  {
   "cell_type": "markdown",
   "metadata": {},
   "source": [
    "### Doit"
   ]
  },
  {
   "cell_type": "code",
   "execution_count": null,
   "metadata": {
    "collapsed": false
   },
   "outputs": [],
   "source": [
    "# Task: install-jenkins-install-java\n",
    "# Evaluation Mode: doit\n"
   ]
  },
  {
   "cell_type": "markdown",
   "metadata": {},
   "source": [
    "### Check"
   ]
  },
  {
   "cell_type": "code",
   "execution_count": null,
   "metadata": {
    "collapsed": false
   },
   "outputs": [],
   "source": [
    "# Task: install-jenkins-install-java\n",
    "# Evaluation Mode: check\n"
   ]
  },
  {
   "cell_type": "markdown",
   "metadata": {},
   "source": [
    "## jenkins coreのインストール"
   ]
  },
  {
   "cell_type": "markdown",
   "metadata": {},
   "source": [
    "### Doit"
   ]
  },
  {
   "cell_type": "code",
   "execution_count": null,
   "metadata": {
    "collapsed": false
   },
   "outputs": [],
   "source": [
    "# Task: install-jenkins-install-jenkins\n",
    "# Evaluation Mode: doit\n"
   ]
  },
  {
   "cell_type": "markdown",
   "metadata": {},
   "source": [
    "### Check"
   ]
  },
  {
   "cell_type": "code",
   "execution_count": null,
   "metadata": {
    "collapsed": false
   },
   "outputs": [],
   "source": [
    "# Task: install-jenkins-install-jenkins\n",
    "# Evaluation Mode: check\n"
   ]
  },
  {
   "cell_type": "markdown",
   "metadata": {},
   "source": [
    "## 関連するビルドツールのインストール"
   ]
  },
  {
   "cell_type": "markdown",
   "metadata": {},
   "source": [
    "### Doit"
   ]
  },
  {
   "cell_type": "code",
   "execution_count": null,
   "metadata": {
    "collapsed": false
   },
   "outputs": [],
   "source": [
    "# Task: install-jenkins-install-others\n",
    "# Evaluation Mode: doit\n"
   ]
  },
  {
   "cell_type": "markdown",
   "metadata": {},
   "source": [
    "### Check"
   ]
  },
  {
   "cell_type": "code",
   "execution_count": null,
   "metadata": {
    "collapsed": false
   },
   "outputs": [],
   "source": [
    "# Task: install-jenkins-install-others\n",
    "# Evaluation Mode: check\n"
   ]
  },
  {
   "cell_type": "markdown",
   "metadata": {},
   "source": [
    "# Configuration"
   ]
  },
  {
   "cell_type": "markdown",
   "metadata": {},
   "source": [
    "## sudo権限の付与"
   ]
  },
  {
   "cell_type": "markdown",
   "metadata": {},
   "source": [
    "### Doit"
   ]
  },
  {
   "cell_type": "code",
   "execution_count": null,
   "metadata": {
    "collapsed": false
   },
   "outputs": [],
   "source": [
    "# Task: install-jenkins-sudo-config\n",
    "# Evaluation Mode: doit\n"
   ]
  },
  {
   "cell_type": "markdown",
   "metadata": {},
   "source": [
    "### Check"
   ]
  },
  {
   "cell_type": "code",
   "execution_count": null,
   "metadata": {
    "collapsed": false
   },
   "outputs": [],
   "source": [
    "# Task: install-jenkins-sudo-config\n",
    "# Evaluation Mode: check\n"
   ]
  },
  {
   "cell_type": "markdown",
   "metadata": {},
   "source": [
    "## tty設定の変更"
   ]
  },
  {
   "cell_type": "markdown",
   "metadata": {},
   "source": [
    "### Doit"
   ]
  },
  {
   "cell_type": "code",
   "execution_count": null,
   "metadata": {
    "collapsed": false
   },
   "outputs": [],
   "source": [
    "# Task: install-jenkins-sudo-notty\n",
    "# Evaluation Mode: doit\n"
   ]
  },
  {
   "cell_type": "markdown",
   "metadata": {},
   "source": [
    "### Check"
   ]
  },
  {
   "cell_type": "code",
   "execution_count": null,
   "metadata": {
    "collapsed": false
   },
   "outputs": [],
   "source": [
    "# Task: install-jenkins-sudo-notty\n",
    "# Evaluation Mode: check\n"
   ]
  },
  {
   "cell_type": "markdown",
   "metadata": {},
   "source": [
    "# jenkinsの起動\n"
   ]
  },
  {
   "cell_type": "markdown",
   "metadata": {},
   "source": [
    "### Doit"
   ]
  },
  {
   "cell_type": "code",
   "execution_count": null,
   "metadata": {
    "collapsed": false
   },
   "outputs": [],
   "source": [
    "# Task: install-jenkins-start-service\n",
    "# Evaluation Mode: doit\n"
   ]
  },
  {
   "cell_type": "markdown",
   "metadata": {},
   "source": [
    "### Check"
   ]
  },
  {
   "cell_type": "code",
   "execution_count": null,
   "metadata": {
    "collapsed": false
   },
   "outputs": [],
   "source": [
    "# Task: install-jenkins-start-service\n",
    "# Evaluation Mode: check\n"
   ]
  }
 ],
 "metadata": {
  "kernelspec": {
   "display_name": "Bash",
   "language": "bash",
   "name": "bash"
  },
  "language_info": {
   "codemirror_mode": "shell",
   "file_extension": ".sh",
   "mimetype": "text/x-sh",
   "name": "bash"
  },
  "toc": {
   "toc_cell": false,
   "toc_number_sections": true,
   "toc_threshold": 6,
   "toc_window_display": false
  }
 },
 "nbformat": 4,
 "nbformat_minor": 0
}
