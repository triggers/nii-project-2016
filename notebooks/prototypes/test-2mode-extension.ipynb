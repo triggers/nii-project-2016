{
 "cells": [
  {
   "cell_type": "markdown",
   "metadata": {},
   "source": [
    "# Notes:"
   ]
  },
  {
   "cell_type": "markdown",
   "metadata": {},
   "source": [
    "This is a simple notebook to test the 2-mode strategy."
   ]
  },
  {
   "cell_type": "markdown",
   "metadata": {},
   "source": [
    "## design summary"
   ]
  },
  {
   "cell_type": "markdown",
   "metadata": {},
   "source": [
    "### Two modes: my-script/provided-script (or student/system??  manual/automatic??)  "
   ]
  },
  {
   "cell_type": "markdown",
   "metadata": {},
   "source": [
    "### Five cell types: script(blank), load, system, check, template."
   ]
  },
  {
   "cell_type": "markdown",
   "metadata": {},
   "source": [
    "**my-script** is the where the student enters bash scripts to be directly executed to do the task.\n",
    "\n",
    "**load** is a hidden (read-only) locked cell that is only executed when the user does Jupyter \"Run All\" commands.  It restores user edits to (Jenkins) scripts and configurations.\n",
    "\n",
    "**provided-script** is a read-only locked cell that contains a bash script to do the task.  If the task has a **my-script** cell, then it should be possible to copy/paste (some) of the contents and have a correct solution. If there is no script cell, the provided script may just (magically?) call a hidden script, or it may show some details if would be good for the student to see them.\n",
    "\n",
    "**check** is a read-only locked cell that contains enough information to call a script that checks if the task is done.  **PLUS**, if the result did not come from provided-script make a backup of the current progress.\n",
    "\n",
    "**template** is a read-only locked cell that is similar to the **load** cell.  The differences are that it is visible, because it must be possible for the student to select and run the cell, and it restores a template that does not contain any user edits."
   ]
  },
  {
   "cell_type": "markdown",
   "metadata": {},
   "source": [
    "### Three types of task sections:"
   ]
  },
  {
   "cell_type": "markdown",
   "metadata": {},
   "source": [
    "#### my-script, provided-script(full), check"
   ]
  },
  {
   "cell_type": "markdown",
   "metadata": {},
   "source": [
    "#### (gui)(editing or non-editing), provided-script(full or called), load, check"
   ]
  },
  {
   "cell_type": "markdown",
   "metadata": {},
   "source": [
    "#### template, check\n",
    "(The check can report if the template is not loaded, has been loaded, and furthermore if it has been edited.)"
   ]
  },
  {
   "cell_type": "markdown",
   "metadata": {},
   "source": [
    "### In my-script mode: \n",
    "```\n",
    "my-script: doit\n",
    "  or\n",
    "load: if saved diff/script/config, restore to system\n",
    "  or\n",
    "template: doit\n",
    "\n",
    "provided-script: skip\n",
    "check: doit, and re-save diff/script/config\n",
    "```"
   ]
  },
  {
   "cell_type": "markdown",
   "metadata": {},
   "source": [
    "### In provided-script mode: \n",
    "```\n",
    "my-script: skip\n",
    "  or\n",
    "load: skip\n",
    "  or\n",
    "template: doit (results may get overwritten by next provided script)\n",
    "\n",
    "provided-script: doit\n",
    "check: doit, and but DO NOT re-save diff/script/config\n",
    "```"
   ]
  },
  {
   "cell_type": "markdown",
   "metadata": {},
   "source": [
    "# Load bash_kernel extension"
   ]
  },
  {
   "cell_type": "code",
   "execution_count": null,
   "metadata": {
    "collapsed": false
   },
   "outputs": [],
   "source": [
    "source extend_bashkernel-2modes.source"
   ]
  },
  {
   "cell_type": "markdown",
   "metadata": {},
   "source": [
    "Set Mode: Choose \"my-script\" or \"provided-script\":"
   ]
  },
  {
   "cell_type": "code",
   "execution_count": null,
   "metadata": {
    "collapsed": false
   },
   "outputs": [],
   "source": [
    "set-global-evaluation-mode \"my-script\""
   ]
  },
  {
   "cell_type": "markdown",
   "metadata": {},
   "source": [
    "# Test 1: my-script task"
   ]
  },
  {
   "cell_type": "markdown",
   "metadata": {},
   "source": [
    "## Task: output date\n",
    "Write a script to output the date a new file at /tmp/thedate."
   ]
  },
  {
   "cell_type": "code",
   "execution_count": null,
   "metadata": {
    "collapsed": true
   },
   "outputs": [],
   "source": [
    "# Enter your script here:"
   ]
  },
  {
   "cell_type": "markdown",
   "metadata": {},
   "source": [
    "## Example"
   ]
  },
  {
   "cell_type": "markdown",
   "metadata": {},
   "source": [
    "### Hint"
   ]
  },
  {
   "cell_type": "markdown",
   "metadata": {},
   "source": [
    "Use the **date** command and file redirection."
   ]
  },
  {
   "cell_type": "markdown",
   "metadata": {},
   "source": [
    "### Full script"
   ]
  },
  {
   "cell_type": "code",
   "execution_count": null,
   "metadata": {
    "collapsed": false,
    "deletable": false,
    "hide_input": false,
    "hide_output": false,
    "locked": true,
    "run_control": {
     "marked": false
    }
   },
   "outputs": [],
   "source": [
    "# Task: two-mode-test-myscript-task\n",
    "# Evaluation Mode: provided-script\n",
    "# (If copying, only copy the lines below this line.)\n",
    "date >/tmp/thedate"
   ]
  },
  {
   "cell_type": "markdown",
   "metadata": {},
   "source": [
    "## Check"
   ]
  },
  {
   "cell_type": "code",
   "execution_count": null,
   "metadata": {
    "collapsed": false,
    "deletable": false,
    "hide_input": false,
    "hide_output": false,
    "locked": true,
    "run_control": {
     "marked": false
    }
   },
   "outputs": [],
   "source": [
    "# Task: two-mode-test-myscript-task\n",
    "# Evaluation Mode: check"
   ]
  },
  {
   "cell_type": "markdown",
   "metadata": {},
   "source": [
    "# Test 2: Non-editing gui task"
   ]
  },
  {
   "cell_type": "markdown",
   "metadata": {
    "heading_collapsed": true
   },
   "source": [
    "## Task: create empty file using terminal\n",
    "Open the terminal and do \"echo >/tmp/afile\""
   ]
  },
  {
   "cell_type": "markdown",
   "metadata": {},
   "source": [
    "## Example"
   ]
  },
  {
   "cell_type": "markdown",
   "metadata": {},
   "source": [
    "### Full script"
   ]
  },
  {
   "cell_type": "code",
   "execution_count": null,
   "metadata": {
    "collapsed": false,
    "deletable": false,
    "locked": true,
    "run_control": {
     "marked": false
    }
   },
   "outputs": [],
   "source": [
    "# Task: two-mode-test-gui-task\n",
    "# Evaluation Mode: provided-script\n",
    "echo -n >/tmp/afile"
   ]
  },
  {
   "cell_type": "markdown",
   "metadata": {},
   "source": [
    "## Check"
   ]
  },
  {
   "cell_type": "code",
   "execution_count": null,
   "metadata": {
    "collapsed": false,
    "deletable": false,
    "hide_input": true,
    "hide_output": true,
    "locked": true,
    "run_control": {
     "marked": true
    }
   },
   "outputs": [],
   "source": [
    "# Task: two-mode-test-gui-task\n",
    "# Evaluation Mode: load\n",
    "# ((This cell should be hidden))\n",
    "# ((There is no editing in this task, so this \n",
    "#   load cell will do nothing and could be deleted, \n",
    "#   although for consistency with other gui tasks,\n",
    "#   maybe it should stay here))"
   ]
  },
  {
   "cell_type": "code",
   "execution_count": null,
   "metadata": {
    "collapsed": false,
    "deletable": false,
    "hide_input": false,
    "hide_output": false,
    "locked": true,
    "run_control": {
     "marked": false
    }
   },
   "outputs": [],
   "source": [
    "# Task: two-mode-test-gui-task\n",
    "# Evaluation Mode: check"
   ]
  },
  {
   "cell_type": "markdown",
   "metadata": {},
   "source": [
    "# Test 3: Template task"
   ]
  },
  {
   "cell_type": "markdown",
   "metadata": {},
   "source": [
    "## Run the cell below to initialize contents of /tmp/afile to a predefined template\n"
   ]
  },
  {
   "cell_type": "code",
   "execution_count": null,
   "metadata": {
    "collapsed": false,
    "deletable": false,
    "locked": true,
    "run_control": {
     "marked": false
    }
   },
   "outputs": [],
   "source": [
    "# Task: two-mode-test-template-task\n",
    "# Evaluation Mode: template"
   ]
  },
  {
   "cell_type": "markdown",
   "metadata": {},
   "source": [
    "## Check"
   ]
  },
  {
   "cell_type": "code",
   "execution_count": null,
   "metadata": {
    "collapsed": false,
    "deletable": false,
    "locked": true,
    "run_control": {
     "marked": false
    }
   },
   "outputs": [],
   "source": [
    "# Task: two-mode-test-template-task\n",
    "# Evaluation Mode: check"
   ]
  },
  {
   "cell_type": "markdown",
   "metadata": {},
   "source": [
    "# Test 4: Editing gui task"
   ]
  },
  {
   "cell_type": "markdown",
   "metadata": {
    "heading_collapsed": true
   },
   "source": [
    "## Task: edit /tmp/afile to change \"name goes here\" to your name.\n",
    "Open the terminal and do \"vi /tmp/afile\".  Good luck!"
   ]
  },
  {
   "cell_type": "markdown",
   "metadata": {},
   "source": [
    "## Example"
   ]
  },
  {
   "cell_type": "markdown",
   "metadata": {},
   "source": [
    "### Full script"
   ]
  },
  {
   "cell_type": "code",
   "execution_count": null,
   "metadata": {
    "collapsed": false,
    "deletable": false,
    "locked": true,
    "run_control": {
     "marked": false
    }
   },
   "outputs": [],
   "source": [
    "# Task: two-mode-test-editing-gui-task\n",
    "# Evaluation Mode: provided-script\n",
    "# (The script below can do the task, but normally using a GUI tool is used.)\n",
    "sed -i 's/name goes here/John Doe/' /tmp/afile"
   ]
  },
  {
   "cell_type": "markdown",
   "metadata": {},
   "source": [
    "## Check"
   ]
  },
  {
   "cell_type": "code",
   "execution_count": null,
   "metadata": {
    "collapsed": false,
    "deletable": false,
    "hide_input": true,
    "hide_output": true,
    "locked": true,
    "run_control": {
     "marked": true
    }
   },
   "outputs": [],
   "source": [
    "# Task: two-mode-test-editing-gui-task\n",
    "# Evaluation Mode: load\n",
    "# ((This cell should be hidden))\n",
    "# ((Because this is an editing task, if run in my-script mode\n",
    "#   this cell try to restore previous user edits))"
   ]
  },
  {
   "cell_type": "code",
   "execution_count": null,
   "metadata": {
    "collapsed": false,
    "deletable": false,
    "locked": true,
    "run_control": {
     "marked": false
    }
   },
   "outputs": [],
   "source": [
    "# Task: two-mode-test-editing-gui-task\n",
    "# Evaluation Mode: check\n",
    "# ((Because this is an editing task, if run in my-script mode\n",
    "#   this cell will save a copy us whatever user edits were done))"
   ]
  }
 ],
 "metadata": {
  "kernelspec": {
   "display_name": "Bash",
   "language": "bash",
   "name": "bash"
  },
  "language_info": {
   "codemirror_mode": "shell",
   "file_extension": ".sh",
   "mimetype": "text/x-sh",
   "name": "bash"
  },
  "toc": {
   "toc_cell": false,
   "toc_number_sections": true,
   "toc_threshold": 6,
   "toc_window_display": false
  },
  "toc_position": {
   "height": "392px",
   "left": "1056.98962402344px",
   "right": "20px",
   "top": "114.000007629395px",
   "width": "448px"
  }
 },
 "nbformat": 4,
 "nbformat_minor": 0
}
