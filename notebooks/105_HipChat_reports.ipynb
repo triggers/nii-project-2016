{
 "cells": [
  {
   "cell_type": "code",
   "execution_count": 1,
   "metadata": {
    "collapsed": false,
    "deletable": false,
    "hide_input": true,
    "init_cell": true,
    "locked": true,
    "run_control": {
     "marked": false
    }
   },
   "outputs": [
    {
     "name": "stdout",
     "output_type": "stream",
     "text": [
      "Ready.\n",
      "Changing global mode to 'my-script'\n"
     ]
    }
   ],
   "source": [
    "source extend_bashkernel-2modes.source\n",
    "set-global-evaluation-mode \"my-script\""
   ]
  },
  {
   "cell_type": "code",
   "execution_count": null,
   "metadata": {
    "collapsed": true,
    "run_control": {
     "marked": false
    }
   },
   "outputs": [],
   "source": [
    "set-global-evaluation-mode \"my-script\""
   ]
  },
  {
   "cell_type": "markdown",
   "metadata": {
    "heading_collapsed": true,
    "level": 1,
    "run_control": {
     "marked": false
    }
   },
   "source": [
    "# Jenkins HipChatへのレポート\n",
    "\n",
    "# jenkinsプラグインのインストール\n",
    "\n",
    "[104_jenkins_github_operation.ipynb](./104_jenkins_github_operation.ipynb)を参考にして、HipChat Pluginをインストールしてください。"
   ]
  },
  {
   "cell_type": "markdown",
   "metadata": {
    "heading_collapsed": false,
    "level": 1,
    "run_control": {
     "marked": false
    }
   },
   "source": [
    "# HipChatへの通知設定\n",
    "\n",
    "## 左メニューから「Jenkinsの管理」\n",
    "\n",
    "![](https://cloud.githubusercontent.com/assets/76867/6633848/5f70d68a-c992-11e4-87b9-9d56abd3b441.png)\n",
    "\n",
    "## 「システムの設定」\n",
    "\n",
    "![](https://cloud.githubusercontent.com/assets/76867/6633855/73f52584-c992-11e4-8dc4-c1a2dab3de96.png)\n",
    "\n",
    "## 下までスクロールしてHipChat設定項目を入力\n",
    "\n",
    "3つの設定項目を設定します。\n",
    "\n",
    "1. `Use v2 API`: HipChatAPIversion2を使用する\n",
    "2. `API Token`:  [101_HipChat_setup.ipynb](./101_HipChat_setup.ipynb)で取得したRoom Notification Tokenを使用する\n",
    "3. `Room`: [101_HipChat_setup.ipynb](./101_HipChat_setup.ipynb)で取得したRoomのAPIIDを使用する\n",
    "\n",
    "![](https://cloud.githubusercontent.com/assets/380254/15172448/0d607442-1791-11e6-9c09-8a076961fb1f.png)\n",
    "\n",
    "## 入力完了後、「保存」\n",
    "\n",
    "![](https://cloud.githubusercontent.com/assets/380254/15172541/a3dcf6f2-1791-11e6-8e83-07b3596d4a7e.png)"
   ]
  },
  {
   "cell_type": "markdown",
   "metadata": {
    "run_control": {
     "marked": false
    }
   },
   "source": [
    "![](https://cloud.githubusercontent.com/assets/76867/6633880/15180efe-c993-11e4-9305-bcee5990cec6.png)\n",
    "\n",
    "# HipChatに発言させてみる\n",
    "\n",
    "HipChatプラグインの機能性質上、\"Hello world\"を発言させる様な簡易機能は存在しません。JenkinsからHipChatに発言させるには、ビルドが関連します。\n",
    "\n",
    "## ジョブを新規作成します\n",
    "\n",
    "![jenkins](https://cloud.githubusercontent.com/assets/76867/7626597/09b7d528-fa47-11e4-8b60-51410d22ebc5.png)\n",
    "\n",
    "## 左メニューから「新規ジョブ作成」\n",
    "\n",
    "![jenkins](https://cloud.githubusercontent.com/assets/76867/7626603/19921ea4-fa47-11e4-9feb-3693587e2cae.png)\n",
    "\n",
    "## ジョブ名とプロジェクトの種類を選択\n",
    "\n",
    "![jenkins](https://cloud.githubusercontent.com/assets/76867/7626622/474a13e2-fa47-11e4-9f05-5edbbd3c64f8.png)\n",
    "\n",
    "## ジョブ名入力と選択完了後、「OK」\n",
    "\n",
    "![jenkins](https://cloud.githubusercontent.com/assets/76867/7626632/5bd5c4f0-fa47-11e4-9f02-63b9ceea061e.png)\n",
    "\n",
    "## プロジェクトの設定画面が表示されます\n",
    "\n",
    "![test notification config jenkins](https://cloud.githubusercontent.com/assets/76867/7626641/6d1846c0-fa47-11e4-9a99-75253b0088cf.png)\n",
    "\n",
    "## 下へスクロールし、「ビルド後の処理の追加」をクリックします\n",
    "\n",
    "![test notification config jenkins](https://cloud.githubusercontent.com/assets/76867/7626656/9d25a380-fa47-11e4-9ff6-60cd12ffde75.png)\n",
    "\n",
    "## 「HipChat Notifications」を選択\n",
    "\n",
    "![test notification config jenkins](https://cloud.githubusercontent.com/assets/76867/7626666/b308855a-fa47-11e4-9a2f-3c20e2cc7f1b.png)\n",
    "\n",
    "## 「HipChat Notifications」の設定項目が表示されます\n",
    "\n",
    "![test notification config jenkins](https://cloud.githubusercontent.com/assets/380254/15172668/43ef4fbe-1792-11e6-9bcb-d4acecda0f44.png)\n",
    "\n",
    "## 「Add」をクリック\n",
    "\n",
    "![test notification config jenkins](https://cloud.githubusercontent.com/assets/380254/15172688/6b3501ae-1792-11e6-963f-b1c607c27c8a.png)\n",
    "\n",
    "## 「Build started」を選択\n",
    "\n",
    "![test notification config jenkins](https://cloud.githubusercontent.com/assets/380254/15172742/c44f0b0e-1792-11e6-8037-ecdfc5b92c3e.png)\n",
    "\n",
    "## 「Notify Room」をチェックします\n",
    "\n",
    "![test notification config jenkins](https://cloud.githubusercontent.com/assets/380254/15172778/0c5fbd4e-1793-11e6-9a4d-780fcc105f6d.png)\n",
    "\n",
    "## 「保存」をクリック\n",
    "\n",
    "![test notification config jenkins](https://cloud.githubusercontent.com/assets/380254/15172795/2087322a-1793-11e6-846f-80ddeb2aec8a.png)\n",
    "\n"
   ]
  },
  {
   "cell_type": "markdown",
   "metadata": {
    "heading_collapsed": false,
    "level": 2,
    "run_control": {
     "marked": false
    }
   },
   "source": [
    "## プロジェクト画面が表示されます\n",
    "\n",
    "![test notification jenkins](https://cloud.githubusercontent.com/assets/76867/7626694/1dd6c554-fa48-11e4-8e5a-d2ebabfc1c9b.png)\n",
    "\n",
    "## 左メニューから「ビルド実行」をクリックします\n",
    "\n",
    "![test notification jenkins](https://cloud.githubusercontent.com/assets/76867/7626699/36f858ae-fa48-11e4-8f28-2724f50de605.png)\n",
    "\n",
    "## ビルドが完了した事を確認しました\n",
    "\n",
    "![test notification jenkins](https://cloud.githubusercontent.com/assets/76867/7626713/556882b4-fa48-11e4-8b99-601586865fb2.png)\n",
    "\n",
    "## HipChatに通知されました\n",
    "\n",
    "![hipchat](https://cloud.githubusercontent.com/assets/76867/7626732/7d3b173e-fa48-11e4-9b2d-9cf4734e8f74.png)"
   ]
  },
  {
   "cell_type": "code",
   "execution_count": null,
   "metadata": {
    "collapsed": false,
    "hide_input": true,
    "hide_output": true,
    "level": 7,
    "run_control": {
     "marked": false
    }
   },
   "outputs": [],
   "source": [
    "# Task: jenkins-setup-hipchat\n",
    "# Evaluation mode: load"
   ]
  },
  {
   "cell_type": "code",
   "execution_count": null,
   "metadata": {
    "collapsed": false,
    "hide_input": true,
    "hide_output": true,
    "run_control": {
     "marked": true
    }
   },
   "outputs": [],
   "source": [
    "# Task: jenkins-setup-hipchat\n",
    "# Evaluation mode: provided-script"
   ]
  },
  {
   "cell_type": "markdown",
   "metadata": {},
   "source": [
    "## 確認\n",
    "\n",
    "次のセルを実行してHipChat pluginがインストールされていることとHipChatの設定が完了していることを確認してください。"
   ]
  },
  {
   "cell_type": "code",
   "execution_count": null,
   "metadata": {
    "collapsed": false,
    "run_control": {
     "marked": false
    },
    "scrolled": true
   },
   "outputs": [],
   "source": [
    "# Task: jenkins-setup-hipchat\n",
    "# Evaluation mode: check"
   ]
  }
 ],
 "metadata": {
  "kernelspec": {
   "display_name": "Bash",
   "language": "bash",
   "name": "bash"
  },
  "language_info": {
   "codemirror_mode": "shell",
   "file_extension": ".sh",
   "mimetype": "text/x-sh",
   "name": "bash"
  },
  "toc": {
   "toc_cell": false,
   "toc_number_sections": false,
   "toc_section_display": "block",
   "toc_threshold": 6,
   "toc_window_display": false
  },
  "toc_position": {
   "left": "737.765625px",
   "right": "20px",
   "top": "120px",
   "width": "420px"
  }
 },
 "nbformat": 4,
 "nbformat_minor": 0
}
