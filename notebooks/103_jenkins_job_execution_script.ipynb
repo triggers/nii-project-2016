{
 "cells": [
  {
   "cell_type": "code",
   "execution_count": 1,
   "metadata": {
    "ExecuteTime": {
     "end_time": "2016-02-24T18:40:14.250956",
     "start_time": "2016-02-24T18:40:13.728604"
    },
    "collapsed": false,
    "deletable": true,
    "hide_input": true,
    "hide_output": false,
    "init_cell": true,
    "locked": false,
    "run_control": {
     "marked": true
    }
   },
   "outputs": [
    {
     "name": "stdout",
     "output_type": "stream",
     "text": [
      "Ready.\n"
     ]
    }
   ],
   "source": [
    "source extend_bashkernel.source"
   ]
  },
  {
   "cell_type": "markdown",
   "metadata": {
    "hide_input": true,
    "hide_output": false,
    "level": 1,
    "run_control": {
     "marked": true
    }
   },
   "source": [
    "# Jenkins 任意のスクリプト実行ジョブ\n",
    "\n",
    "# はじめてのジョブ作成\n",
    "\n",
    "Jenkinsインストール後の最初の作業は、ジョブ作成です。まずはジョブ作成を行います。\n",
    "\n",
    "## Jenkinsのトップページを開きます\n",
    "\n",
    "[102_Jenkins_setup.ipynb](./102_Jenkins_setup.ipynb)で作成したJenkinsVMにブラウザからアクセスしてください。これはJenkins用インスタンスが、1台目のインスタンスとして起動している事を想定しています。もしも2台目以降のインスタンスとして起動している場合は、IPアドレスを読み替えて対応して下さい。\n",
    "\n",
    "![jenkins](https://cloud.githubusercontent.com/assets/76867/7634122/c3c389a2-fa93-11e4-8bcf-13ae4c137967.png)\n",
    "\n",
    "## 左メニューから「新規ジョブ作成」\n",
    "\n",
    "![jenkins](https://cloud.githubusercontent.com/assets/76867/7634165/01267e6c-fa94-11e4-9e81-45b626117732.png)\n",
    "\n",
    "## ジョブの名前と種類を設定\n",
    "\n",
    "+ `ジョブ名`：厳しい制限はありませんが、半角英数字だけで生成した方が良です(※半角スペースを含めないようにして下さい)\n",
    "+ `フリースタイルジョブのビルド`: 一般的なジョブはフリースタイルに分類されます\n",
    "\n",
    "![jenkins](https://cloud.githubusercontent.com/assets/76867/7634191/2bdd1ce2-fa94-11e4-98c8-e121d4d0e834.png)\n",
    "\n",
    "## 入力完了後、「保存」\n",
    "\n",
    "![jenkins](https://cloud.githubusercontent.com/assets/76867/7634204/49d627d4-fa94-11e4-9577-b1085cde615c.png)\n",
    "\n",
    "## プロジェクト設定画面が開きます\n",
    "\n",
    "![sample config jenkins](https://cloud.githubusercontent.com/assets/76867/7635180/6a8feec8-fa9a-11e4-97e5-43c30d5725a0.png)\n",
    "\n",
    "## 画面下部の「保存」\n",
    "\n",
    "![sample config jenkins](https://cloud.githubusercontent.com/assets/76867/7635219/aca03836-fa9a-11e4-8dbc-7f27330f8a35.png)\n"
   ]
  },
  {
   "cell_type": "markdown",
   "metadata": {
    "heading_collapsed": false,
    "hide_input": true,
    "hide_output": false,
    "level": 2,
    "run_control": {
     "marked": true
    }
   },
   "source": [
    "## プロジェクト画面が表示されます\n",
    "\n",
    "![sample jenkins](https://cloud.githubusercontent.com/assets/76867/7634261/a5a6062e-fa94-11e4-830e-0fb9c181b461.png)\n",
    "\n",
    "プロジェクトの登録は以上です。中身のないプロジェクトを登録したので、これ以降の作業でジョブの内容を充実させて行きます。\n",
    "\n",
    "# ジョブに「シェルの実行」を追加\n",
    "\n",
    "ジョブに任意のコマンドを定義して行きます。プロジェクトによってビルドさせたいコマンドは変わって来ます。この「シェルの実行」を使う事により、任意のコマンドを実行させられるようになります。\n",
    "\n",
    "## ダッシュボードからジョブを選択\n",
    "\n",
    "![jenkins](https://cloud.githubusercontent.com/assets/76867/7635283/0bb5b698-fa9b-11e4-8bb7-08ab7da3f565.png)\n",
    "\n",
    "## 左メニューから「設定」\n",
    "\n",
    "![sample jenkins](https://cloud.githubusercontent.com/assets/76867/7635330/4d045816-fa9b-11e4-91ca-8834cde13406.png)\n",
    "\n",
    "## 設定画面から「ビルド手順の追加」\n",
    "\n",
    "![sample config jenkins](https://cloud.githubusercontent.com/assets/76867/7635372/868066d4-fa9b-11e4-84c3-306dece94773.png)\n",
    "\n",
    "## セレクトボックスから「シェルの実行」を選択\n",
    "\n",
    "![sample config jenkins](https://cloud.githubusercontent.com/assets/76867/7635391/a97d783e-fa9b-11e4-8afa-87b803ad0f5d.png)\n",
    "\n",
    "## 「シェルの実行」テキストフォームが出現\n",
    "\n",
    "![sample config jenkins](https://cloud.githubusercontent.com/assets/76867/7635424/d1b7843e-fa9b-11e4-89c5-2ba542d5cfb9.png)\n",
    "\n",
    "## テキストフォームに、実行させたいコマンドを定義し、保存\n",
    "\n",
    "![sample config jenkins](https://cloud.githubusercontent.com/assets/76867/7635436/f1ef6488-fa9b-11e4-950a-0fbd21882e20.png)\n",
    "\n"
   ]
  },
  {
   "cell_type": "markdown",
   "metadata": {
    "heading_collapsed": false,
    "hide_input": true,
    "hide_output": false,
    "level": 2,
    "run_control": {
     "marked": true
    }
   },
   "source": [
    "## プロジェクト画面が表示されます\n",
    "\n",
    "![sample jenkins](https://cloud.githubusercontent.com/assets/76867/7635462/226a30e8-fa9c-11e4-87b2-c59283291059.png)\n",
    "\n",
    "## 左メニューから「ビルド実行」\n",
    "\n",
    "![sample jenkins](https://cloud.githubusercontent.com/assets/76867/7635483/3ea59784-fa9c-11e4-83d4-136edebfc27f.png)\n",
    "\n",
    "## ビルド完了を確認\n",
    "\n",
    "![sample jenkins](https://cloud.githubusercontent.com/assets/76867/7635516/66e29d64-fa9c-11e4-924d-4144401945d4.png)\n",
    "\n",
    "## 左メニューから「コンソール出力」\n",
    "\n",
    "![sample 1 jenkins](https://cloud.githubusercontent.com/assets/76867/7635537/884809e4-fa9c-11e4-9298-ed3a90451483.png)\n",
    "\n",
    "## ビルドログの内容を確認\n",
    "\n",
    "![sample 1 console jenkins](https://cloud.githubusercontent.com/assets/76867/7635636/1526bbda-fa9d-11e4-9e22-ddc3f81a2b76.png)\n",
    "\n",
    "\n",
    "# ジョブ連携\n",
    "\n",
    "Jenkinsにはジョブ連携機能があります。ジョブAが成功/失敗したら、ジョブBを実行する機能があります。例えばジョブAにはパッケージビルドを、ジョブBではパッケージインストールを定義します。パッケージビルドとパッケージインストールは関係があり、更に処理順序を気にする必要があります。こうした順序定義する場合に、ジョブ連携が活躍します。\n",
    "\n",
    "## 左メニューから「新規ジョブ作成」\n",
    "\n",
    "![jenkins](https://cloud.githubusercontent.com/assets/76867/7764695/2aba8b86-0090-11e5-9dd5-88ec0c116758.png)\n",
    "\n",
    "## ジョブの名前と種類を設定\n",
    "\n",
    "+ `ジョブ名`：厳しい制限はありませんが、半角英数字だけで生成した方が良です(※半角スペースを含めないようにして下さい)\n",
    "+ `フリースタイルジョブのビルド`: 一般的なジョブはフリースタイルに分類されます\n",
    "\n",
    "![jenkins](https://cloud.githubusercontent.com/assets/76867/7764710/56ca01f2-0090-11e5-83bd-c0359eefba34.png)\n",
    "\n",
    "## 入力完了後、「保存」\n",
    "\n",
    "![jenkins](https://cloud.githubusercontent.com/assets/76867/7764723/7b10d89c-0090-11e5-9d68-61ae89bacf66.png)\n",
    "\n",
    "## プロジェクト設定画面が開きます\n",
    "\n",
    "![sample2 config jenkins](https://cloud.githubusercontent.com/assets/76867/7764733/9b31d270-0090-11e5-9d04-42dd8a58f685.png)\n",
    "\n",
    "## 「ビルド後の処理の追加」をクリックします\n",
    "\n",
    "![sample2 config jenkins](https://cloud.githubusercontent.com/assets/76867/7764747/cd4b408e-0090-11e5-86f0-a4a7e0e626c5.png)\n",
    "\n",
    "## 「他のプロジェクトのビルド」をクリックします\n",
    "\n",
    "![sample2 config jenkins](https://cloud.githubusercontent.com/assets/76867/7764778/2309b9ce-0091-11e5-9657-9c299abfab8a.png)\n",
    "\n",
    "## 「他のプロジェクトのビルド」の設定画面が開きます\n",
    "\n",
    "![sample2 config jenkins](https://cloud.githubusercontent.com/assets/76867/7764791/5108c284-0091-11e5-932d-c692e681ce9e.png)\n",
    "\n",
    "## 対象プロジェクトとビルド条件を定義します\n",
    "\n",
    "+ 対象プロジェクト：呼び出したいプロジェクトを定義します\n",
    "+ ビルド条件：ビルド条件を選びます。ここでは「安定している場合のみ起動」を選択します\n",
    "\n",
    "![sample2 config jenkins](https://cloud.githubusercontent.com/assets/76867/7764805/8ae082f8-0091-11e5-8b7f-79959b90b424.png)\n",
    "\n",
    "## 画面下部の「保存」\n",
    "\n",
    "![sample2 config jenkins](https://cloud.githubusercontent.com/assets/76867/7764835/e43ee5ce-0091-11e5-8bc1-b3135b8b685c.png)"
   ]
  },
  {
   "cell_type": "markdown",
   "metadata": {
    "heading_collapsed": false,
    "hide_input": true,
    "hide_output": false,
    "level": 2,
    "run_control": {
     "marked": true
    }
   },
   "source": [
    "## プロジェクト画面が表示されます\n",
    "\n",
    "![sample2 jenkins](https://cloud.githubusercontent.com/assets/76867/7764844/fdc2b6ec-0091-11e5-897b-b120508a77f6.png)\n",
    "\n",
    "## 左メニューから「ビルド実行」\n",
    "\n",
    "![sample2 jenkins](https://cloud.githubusercontent.com/assets/76867/7764867/4732952c-0092-11e5-8418-c2315955b47c.png)\n",
    "\n",
    "## ビルド完了を確認\n",
    "\n",
    "![sample2 jenkins](https://cloud.githubusercontent.com/assets/76867/7764908/9e37cbee-0092-11e5-9b28-59c8b0ccd9db.png)\n",
    "\n",
    "## 左メニューから「コンソール出力」\n",
    "\n",
    "![sample2 1 jenkins](https://cloud.githubusercontent.com/assets/76867/7764923/d854e4ec-0092-11e5-851d-7a852e25bc88.png)\n",
    "\n",
    "## ビルドログの内容を確認\n",
    "\n",
    "`Triggering a new build of sample`となっている事に注目します。これは「他のプロジェクトのビルド」で設定した内容が反映されている事を意味しています。\n",
    "\n",
    "![sample2 1 console jenkins](https://cloud.githubusercontent.com/assets/76867/7764941/02577e12-0093-11e5-8b21-45ca29e9ede4.png)\n",
    "\n",
    "## 連携ジョブを確認します\n",
    "\n",
    "![sample2 1 console jenkins](https://cloud.githubusercontent.com/assets/76867/7764982/52e9ca06-0093-11e5-9a9d-fb49f021a5eb.png)\n",
    "\n",
    "## ビルド履歴を確認します\n",
    "\n",
    "![sample jenkins](https://cloud.githubusercontent.com/assets/76867/7764993/837f5ac8-0093-11e5-8f9f-50d7038bd7e1.png)\n",
    "\n",
    "## 最新の履歴を確認します\n",
    "\n",
    "`上流プロジェクトsample2の#1が実行`となっている事に注目します。sampleを指定したビルドの場合、この様なメッセージは表示されません。ジョブ連携によるビルド実行が行われた場合に表示されます。\n",
    "\n",
    "![sample 4 jenkins](https://cloud.githubusercontent.com/assets/76867/7765018/de24f938-0093-11e5-8d48-21b2a35ee0e5.png)\n",
    "\n",
    "ジョブ連携は以上です。今回は成功時の連携だけでしたが、失敗時の連携も可能です。失敗時は失敗原因調査ジョブなどを登録して連携するなどの応用編も可能です。ジョブの特性によって必要な連携が異なるので、臨機応変に対応して下さい。"
   ]
  }
 ],
 "metadata": {
  "kernelspec": {
   "display_name": "Bash",
   "language": "bash",
   "name": "bash"
  },
  "language_info": {
   "codemirror_mode": "shell",
   "file_extension": ".sh",
   "mimetype": "text/x-sh",
   "name": "bash"
  },
  "toc": {
   "toc_cell": false,
   "toc_number_sections": true,
   "toc_threshold": 6,
   "toc_window_display": false
  }
 },
 "nbformat": 4,
 "nbformat_minor": 0
}
