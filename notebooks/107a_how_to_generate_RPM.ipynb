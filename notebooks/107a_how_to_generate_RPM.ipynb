{
 "cells": [
  {
   "cell_type": "code",
   "execution_count": 2,
   "metadata": {
    "collapsed": false,
    "deletable": false,
    "hide_input": true,
    "init_cell": true,
    "locked": true,
    "run_control": {
     "marked": false
    },
    "scrolled": true
   },
   "outputs": [
    {
     "name": "stdout",
     "output_type": "stream",
     "text": [
      "Changing global mode to 'my-script'\n"
     ]
    }
   ],
   "source": [
    "source extend_bashkernel-2modes.source\n",
    "set-global-evaluation-mode \"my-script\""
   ]
  },
  {
   "cell_type": "code",
   "execution_count": null,
   "metadata": {
    "collapsed": false,
    "run_control": {
     "marked": false
    }
   },
   "outputs": [],
   "source": [
    "set-global-evaluation-mode \"my-script\""
   ]
  },
  {
   "cell_type": "markdown",
   "metadata": {
    "run_control": {
     "marked": false
    }
   },
   "source": [
    "# RPM 生成方法"
   ]
  },
  {
   "cell_type": "markdown",
   "metadata": {
    "run_control": {
     "marked": false
    }
   },
   "source": [
    "## はじめに"
   ]
  },
  {
   "cell_type": "markdown",
   "metadata": {
    "run_control": {
     "marked": false
    }
   },
   "source": [
    "rpm作成手順を学ぶためには、最小構成のrpmを作ってみる事が一番の近道です。本章では、実際に最小構成rpmを作りながらrpm作成の基礎を学んで行きます。\n",
    "\n",
    "今回、演習用のサンプルプログラムでは、rpmファイルを作成するためのspecファイル(tiny_web_example/rpmbuild/SPECS/tiny-web-example.spec)はあらかじめ準備されています。以下のセクションでは、そのspecファイルをスクラッチから作る方法を紹介しています。そのため、今回の演習用に、rpmファイルを生成するだけであれば、「2 rpmbuild環境の構築」完了後に、サンプルプログラムのspecファイルを使ってrpmファイルを生成してみてください。"
   ]
  },
  {
   "cell_type": "markdown",
   "metadata": {
    "run_control": {
     "marked": false
    }
   },
   "source": [
    "## 演習について"
   ]
  },
  {
   "cell_type": "markdown",
   "metadata": {
    "run_control": {
     "marked": false
    }
   },
   "source": [
    "* コマンドは全てsshを利用してJenkinsが稼働するマシンで実行します。\n",
    "* スクリプト例に記載されているコードは実際に実行できます。課題をどう解決したら良いか解らなくなったら参考にして下さい。"
   ]
  },
  {
   "cell_type": "markdown",
   "metadata": {
    "run_control": {
     "marked": false
    }
   },
   "source": [
    "# rpmbuild環境の構築"
   ]
  },
  {
   "cell_type": "markdown",
   "metadata": {
    "run_control": {
     "marked": false
    }
   },
   "source": [
    "## 演習 : 必要なパッケージをインストールする"
   ]
  },
  {
   "cell_type": "markdown",
   "metadata": {
    "run_control": {
     "marked": false
    }
   },
   "source": [
    "### 演習の内容"
   ]
  },
  {
   "cell_type": "markdown",
   "metadata": {
    "run_control": {
     "marked": false
    }
   },
   "source": [
    "rpmビルドに必要なパッケージをインストールします。以下のパッケージが必要です。\n",
    "* git\n",
    "* rpm-build\n",
    "* rpmlint\n",
    "\n",
    "インストールにはyumコマンドを利用します。\n",
    "```\n",
    "$ sudo yum install -y git rpm-build rpmlint\n",
    "```\n",
    "実行結果例：\n",
    "\n",
    "> ```\n",
    "> $ sudo yum install -y git rpm-build rpmlint\n",
    "> Loaded plugins: fastestmirror\n",
    "> Setting up Install Process\n",
    "> Determining fastest mirrors\n",
    ">  * base: ftp.riken.jp\n",
    ">  * extras: ftp.riken.jp\n",
    ">  * updates: ftp.riken.jp\n",
    "> ...(省略)...\n",
    "> Complete!\n",
    "> ```\n",
    "\n",
    "**次のセルで、パッケージのインストールを実行して下さい。**"
   ]
  },
  {
   "cell_type": "code",
   "execution_count": null,
   "metadata": {
    "collapsed": false,
    "run_control": {
     "marked": false
    }
   },
   "outputs": [],
   "source": []
  },
  {
   "cell_type": "markdown",
   "metadata": {
    "run_control": {
     "marked": false
    }
   },
   "source": [
    "### スクリプト例"
   ]
  },
  {
   "cell_type": "code",
   "execution_count": null,
   "metadata": {
    "collapsed": false,
    "deletable": false,
    "locked": true,
    "run_control": {
     "marked": false
    }
   },
   "outputs": [],
   "source": [
    "# Task: create-rpm-install-packages\n",
    "# Evaluation Mode: provided-script\n",
    "\n",
    "# Install required packages\n",
    "\n",
    "IP=\"$(< /home/centos/jenkins-instance-ip)\"\n",
    "ssh -qi /home/centos/mykeypair root@\"$IP\" \"sudo yum install -y git rpm-build rpmlint\""
   ]
  },
  {
   "cell_type": "markdown",
   "metadata": {
    "run_control": {
     "marked": false
    }
   },
   "source": [
    "### 確認\n",
    "次のセルを実行して、必要なパッケージのインストールが完了していることを確認して下さい。"
   ]
  },
  {
   "cell_type": "code",
   "execution_count": null,
   "metadata": {
    "collapsed": false,
    "deletable": false,
    "locked": true,
    "run_control": {
     "marked": false
    }
   },
   "outputs": [],
   "source": [
    "# Task: create-rpm-install-packages\n",
    "# Evaluation Mode: check"
   ]
  },
  {
   "cell_type": "markdown",
   "metadata": {
    "run_control": {
     "marked": false
    }
   },
   "source": [
    "## 演習 : rpmbuildディレクトリを作成する"
   ]
  },
  {
   "cell_type": "markdown",
   "metadata": {
    "run_control": {
     "marked": false
    }
   },
   "source": [
    "### 演習の内容"
   ]
  },
  {
   "cell_type": "markdown",
   "metadata": {
    "run_control": {
     "marked": false
    }
   },
   "source": [
    "rpmbuildコマンドが使用するディレクトリを作成します。\n",
    "rpmbuildコマンドを動作させるには、特定のディレクトリ構造が必要です。\n",
    "次のディレクトリを作成します。\n",
    "```\n",
    "${HOME}/rpmbuild/BUILD\n",
    "${HOME}/rpmbuild/BUILDROOT\n",
    "${HOME}/rpmbuild/RPMS\n",
    "${HOME}/rpmbuild/SOURCES\n",
    "${HOME}/rpmbuild/SPECS\n",
    "${HOME}/rpmbuild/SRPMS\n",
    "```\n",
    "\n",
    "ディレクトリの作成には``mkdir``コマンドを使用します。\n",
    "```\n",
    "$ mkdir -p \\\n",
    " ${HOME}/rpmbuild/{BUILD,BUILDROOT,RPMS,SOURCES,SPECS,SRPMS}\n",
    "```\n",
    "\n",
    "**次のセルで、ディレクトリを作成して下さい。**"
   ]
  },
  {
   "cell_type": "code",
   "execution_count": null,
   "metadata": {
    "collapsed": false,
    "run_control": {
     "marked": false
    }
   },
   "outputs": [],
   "source": []
  },
  {
   "cell_type": "markdown",
   "metadata": {
    "run_control": {
     "marked": false
    }
   },
   "source": [
    "### スクリプト例"
   ]
  },
  {
   "cell_type": "code",
   "execution_count": null,
   "metadata": {
    "collapsed": false,
    "deletable": false,
    "locked": true,
    "run_control": {
     "marked": false
    }
   },
   "outputs": [],
   "source": [
    "# Task: create-rpm-create-folders\n",
    "# Evaluation Mode: provided-script\n",
    "\n",
    "# Create the folders used by rpmbuild\n",
    "\n",
    "IP=\"$(< /home/centos/jenkins-instance-ip)\"\n",
    "ssh -qi /home/centos/mykeypair root@\"$IP\" 'mkdir -p ${HOME}/rpmbuild/{BUILD,BUILDROOT,RPMS,SOURCES,SPECS,SRPMS}'"
   ]
  },
  {
   "cell_type": "markdown",
   "metadata": {
    "run_control": {
     "marked": false
    }
   },
   "source": [
    "### 確認\n",
    "次のセルを実行して、ディレクトリ生成が完了していることを確認して下さい。"
   ]
  },
  {
   "cell_type": "code",
   "execution_count": null,
   "metadata": {
    "collapsed": false,
    "deletable": false,
    "locked": true,
    "run_control": {
     "marked": false
    }
   },
   "outputs": [],
   "source": [
    "# Task: create-rpm-create-folders\n",
    "# Evaluation Mode: check"
   ]
  },
  {
   "cell_type": "markdown",
   "metadata": {
    "run_control": {
     "marked": false
    }
   },
   "source": [
    "# example-0.1.0.rpmの作成"
   ]
  },
  {
   "cell_type": "markdown",
   "metadata": {
    "run_control": {
     "marked": false
    }
   },
   "source": [
    "## rpm作成へ向けた情報整理"
   ]
  },
  {
   "cell_type": "markdown",
   "metadata": {
    "run_control": {
     "marked": false
    }
   },
   "source": [
    "「何のrpmを作るのか？」は「exampleのrpmを作る」と言う所までは決めていました。しかし、基になるパッケージや、そのバージョンが決まっていません。これらの未決定情報を整理して行きます。"
   ]
  },
  {
   "cell_type": "markdown",
   "metadata": {
    "run_control": {
     "marked": false
    }
   },
   "source": [
    "### パッケージ情報の整理"
   ]
  },
  {
   "cell_type": "markdown",
   "metadata": {
    "run_control": {
     "marked": false
    }
   },
   "source": [
    "rpmを作るには、事前に幾つかの情報を整理しておく必要があります。\n",
    "\n",
    "1. パッケージ名\n",
    "2. パッケージのバージョン\n",
    "\n",
    "今回は、以下のようにします。\n",
    "\n",
    "1. パッケージ名：`example`\n",
    "2. バージョン：`0.1.0`\n",
    "\n",
    "すると、期待するファイル名は`example-0.1.0.rpm`と言う事になります。"
   ]
  },
  {
   "cell_type": "markdown",
   "metadata": {
    "run_control": {
     "marked": false
    }
   },
   "source": [
    "### 必須ファイルの準備"
   ]
  },
  {
   "cell_type": "markdown",
   "metadata": {
    "run_control": {
     "marked": false
    }
   },
   "source": [
    "rpmを作るには、2つのファイルが必要です。\n",
    "\n",
    "1. rpmspecファイル\n",
    "2. ソースコードのアーカイブファイル\n",
    "\n",
    "本書では、コンパイル不要なソースコードを使用します。コンパイルが必要なソースコードをビルドするには、ビルド手順を記述する必要があります。これは、どちらかと言うと応用編です。最小構成rpm作りを目的としている本書では、触れません。\n",
    "\n",
    "2つのファイルを作成して行きます。"
   ]
  },
  {
   "cell_type": "markdown",
   "metadata": {
    "run_control": {
     "marked": false
    }
   },
   "source": [
    "## 演習 : rpmspecファイルを作成する"
   ]
  },
  {
   "cell_type": "markdown",
   "metadata": {
    "run_control": {
     "marked": false
    }
   },
   "source": [
    "### 演習の内容"
   ]
  },
  {
   "cell_type": "markdown",
   "metadata": {
    "run_control": {
     "marked": false
    }
   },
   "source": [
    "rpmspecには2つのルールがあります。\n",
    "\n",
    "1. rpmspecファイルの配置場所は、${HOME}/rpmbuild/SPECS\n",
    "2. rpmspecファイル名は、パッケージ名.spec\n",
    "\n",
    "これを踏まえてrpmspecファイルを作成して行きます。\n",
    "\n",
    "rpmspecファイルは、example.specと言う事になります。ここで事前に整理した情報を使います。\n",
    "* パッケージ名：example\n",
    "* バージョン：0.1.0\n",
    "\n",
    "上記情報をrpmspecのタグで読み替えます。\n",
    "* Name: example\n",
    "* Version: 0.1.0\n",
    "\n",
    "**example.sepc**\n",
    "```\n",
    "Name:    example\n",
    "Version: 0.1.0\n",
    "Release: 1%{?dist}\n",
    "Summary: example\n",
    "License: BSD\n",
    "Source:  %{name}-%{version}.tar.gz\n",
    "\n",
    "%description\n",
    "\n",
    "%prep\n",
    "%setup -q\n",
    "\n",
    "%build\n",
    "\n",
    "%install\n",
    "rm   -rf $RPM_BUILD_ROOT\n",
    "mkdir -p $RPM_BUILD_ROOT\n",
    "rsync -avx ./ $RPM_BUILD_ROOT/\n",
    "\n",
    "%clean\n",
    "rm -rf $RPM_BUILD_ROOT\n",
    "\n",
    "%files\n",
    "%defattr(-,root,root,-)\n",
    "/\n",
    "%doc\n",
    "\n",
    "%changelog```\n",
    "\n",
    "\n",
    "**<項目の補足説明>**\n",
    "\n",
    "%install\n",
    "* アーカイブツリー全てを仮想ルートツリーへ配置します\n",
    "\n",
    "%files\n",
    "* /配下全てをパッケージング対象に入れます\n"
   ]
  },
  {
   "cell_type": "markdown",
   "metadata": {
    "run_control": {
     "marked": false
    }
   },
   "source": [
    "**次のセルで、example.sepcを作成して下さい。**\n",
    "\n",
    "**[ヒント]** リモートでのファイル作成には、ヒアドキュメントを利用します。"
   ]
  },
  {
   "cell_type": "code",
   "execution_count": null,
   "metadata": {
    "collapsed": true,
    "run_control": {
     "marked": false
    }
   },
   "outputs": [],
   "source": []
  },
  {
   "cell_type": "markdown",
   "metadata": {
    "run_control": {
     "marked": false
    }
   },
   "source": [
    "### スクリプト例"
   ]
  },
  {
   "cell_type": "code",
   "execution_count": null,
   "metadata": {
    "collapsed": false,
    "deletable": false,
    "locked": true,
    "run_control": {
     "marked": false
    }
   },
   "outputs": [],
   "source": [
    "# Task: create-rpm-create-spec-file\n",
    "# Evaluation Mode: provided-script\n",
    "\n",
    "# Create the spec file\n",
    "\n",
    "IP=\"$(< /home/centos/jenkins-instance-ip)\"\n",
    "ssh -qi /home/centos/mykeypair root@\"$IP\" <<'EOS'\n",
    "cat <<'EOF' > ${HOME}/rpmbuild/SPECS/example.spec\n",
    "Name:    example\n",
    "Version: 0.1.0\n",
    "Release: 1%{?dist}\n",
    "Summary: example\n",
    "License: BSD\n",
    "Source:  %{name}-%{version}.tar.gz\n",
    "\n",
    "%description\n",
    "\n",
    "%prep\n",
    "%setup -q\n",
    "\n",
    "%build\n",
    "\n",
    "%install\n",
    "rm   -rf $RPM_BUILD_ROOT\n",
    "mkdir -p $RPM_BUILD_ROOT\n",
    "rsync -avx ./ $RPM_BUILD_ROOT/\n",
    "\n",
    "%clean\n",
    "rm -rf $RPM_BUILD_ROOT\n",
    "\n",
    "%files\n",
    "%defattr(-,root,root,-)\n",
    "/\n",
    "%doc\n",
    "\n",
    "%changelog\n",
    "EOF\n",
    "EOS"
   ]
  },
  {
   "cell_type": "markdown",
   "metadata": {
    "run_control": {
     "marked": false
    }
   },
   "source": [
    "### 確認\n",
    "次のセルを実行して、rpmspecファイル（example.sepc）の生成が完了していることを確認して下さい。"
   ]
  },
  {
   "cell_type": "code",
   "execution_count": null,
   "metadata": {
    "collapsed": false,
    "deletable": false,
    "locked": true,
    "run_control": {
     "marked": false
    }
   },
   "outputs": [],
   "source": [
    "# Task: create-rpm-create-spec-file\n",
    "# Evaluation Mode: check"
   ]
  },
  {
   "cell_type": "markdown",
   "metadata": {
    "run_control": {
     "marked": false
    }
   },
   "source": [
    "## 演習 : rpmsepcファイルの内容を確認する"
   ]
  },
  {
   "cell_type": "markdown",
   "metadata": {
    "run_control": {
     "marked": false
    }
   },
   "source": [
    "### 演習の内容"
   ]
  },
  {
   "cell_type": "markdown",
   "metadata": {
    "run_control": {
     "marked": false
    }
   },
   "source": [
    "作成したrpmspecファイルに必須項目が含まれているかどうかをrpmlintコマンドで確認します。\n",
    "もしもrpmspecファイルに問題がある場合は、rpmlintコマンドが警告してくれます。\n",
    "\n",
    "実行結果例：\n",
    "> ```\n",
    "> $ rpmlint example.spec\n",
    "> example.spec: W: no-buildroot-tag\n",
    "> example.spec: W: invalid-url Source0: example-0.1.0.tar.gz\n",
    "> 0 packages and 1 specfiles checked; 0 errors, 2 warnings.\n",
    "> ```\n",
    "\n",
    "**次のセルで、rpmlintを実行して下さい。**"
   ]
  },
  {
   "cell_type": "code",
   "execution_count": null,
   "metadata": {
    "collapsed": true,
    "run_control": {
     "marked": false
    }
   },
   "outputs": [],
   "source": []
  },
  {
   "cell_type": "markdown",
   "metadata": {
    "run_control": {
     "marked": false
    }
   },
   "source": [
    "### スクリプト例"
   ]
  },
  {
   "cell_type": "code",
   "execution_count": null,
   "metadata": {
    "collapsed": false,
    "deletable": false,
    "locked": true,
    "run_control": {
     "marked": false
    }
   },
   "outputs": [],
   "source": [
    "# Task: create-rpm-check-required-fields\n",
    "# Evaluation Mode: provided-script\n",
    "\n",
    "# Check required fields\n",
    "\n",
    "IP=\"$(< /home/centos/jenkins-instance-ip)\"\n",
    "ssh -qi /home/centos/mykeypair root@\"$IP\" <<'EOF'\n",
    "cd ${HOME}/rpmbuild/SPECS/\n",
    "rpmlint example.spec\n",
    "EOF"
   ]
  },
  {
   "cell_type": "markdown",
   "metadata": {
    "run_control": {
     "marked": false
    }
   },
   "source": [
    "### Check"
   ]
  },
  {
   "cell_type": "code",
   "execution_count": null,
   "metadata": {
    "collapsed": false,
    "deletable": false,
    "hide_input": false,
    "locked": true,
    "run_control": {
     "marked": false
    }
   },
   "outputs": [],
   "source": [
    "# Task: create-rpm-check-required-fields\n",
    "# Evaluation Mode: check\n",
    "# (Uncertain if check is needed or not)"
   ]
  },
  {
   "cell_type": "markdown",
   "metadata": {
    "run_control": {
     "marked": false
    }
   },
   "source": [
    "## 演習 : ソースコードファイルを配置する"
   ]
  },
  {
   "cell_type": "markdown",
   "metadata": {
    "run_control": {
     "marked": false
    }
   },
   "source": [
    "### 演習の内容"
   ]
  },
  {
   "cell_type": "markdown",
   "metadata": {
    "run_control": {
     "marked": false
    }
   },
   "source": [
    "次の手順でアーカイブするソースコードファイルをrpmbuild配下に配置します。\n",
    "\n",
    "**ディレクトリ example-0.1.0 を作成します**\n",
    "* アーカイブファイル名には規則性があり、`パッケージ名-バージョン`という名前のディレクトリをアーカイブした、`パッケージ名-バージョン.tar.gz`と言うファイル名にする必要があります。\n",
    "* まず、`${HOME}/rpmbuild/SOURCES`配下に、名前が\"パッケージ名-バージョン\"のディレクトリを作成します。\n",
    "```\n",
    "$ cd ${HOME}/rpmbuild/SOURCES\n",
    "$ mkdir example-0.1.0\n",
    "```\n",
    "\n",
    "**example-0.1.0 配下にアーカイブするソースコードファイルを配置します**\n",
    "* 次にパッケージングするファイルを配置します。既存RPMと重複しないファイルであれば良いので、今回は`/bin/example`という空のファイルとします。\n",
    "```\n",
    "$ mkdir example-0.1.0/bin\n",
    "$ touch example-0.1.0/bin/example\n",
    "```"
   ]
  },
  {
   "cell_type": "markdown",
   "metadata": {
    "run_control": {
     "marked": false
    }
   },
   "source": [
    "**ディレクトリ配下のファイル確認します**\n",
    "```\n",
    "$ find example-0.1.0 -type f\n",
    "```\n",
    "\n",
    "実行結果例：\n",
    "> ```\n",
    "> $ find example-0.1.0 -type f\n",
    "> example-0.1.0/bin/example\n",
    "> ```\n",
    "\n",
    "これはrpm化された時に期待するファイルリストです。\n",
    "\n"
   ]
  },
  {
   "cell_type": "markdown",
   "metadata": {
    "run_control": {
     "marked": false
    }
   },
   "source": [
    "**次のセルで、上記のアーカイブ手順を実行して下さい。**\n",
    "\n",
    "**[ヒント]** リモートで複数のコマンドを実行するには、ヒアドキュメントを利用します。"
   ]
  },
  {
   "cell_type": "code",
   "execution_count": null,
   "metadata": {
    "collapsed": true,
    "run_control": {
     "marked": false
    }
   },
   "outputs": [],
   "source": []
  },
  {
   "cell_type": "markdown",
   "metadata": {
    "run_control": {
     "marked": false
    }
   },
   "source": [
    "### スクリプト例"
   ]
  },
  {
   "cell_type": "code",
   "execution_count": null,
   "metadata": {
    "collapsed": false,
    "deletable": false,
    "locked": true,
    "run_control": {
     "marked": false
    }
   },
   "outputs": [],
   "source": [
    "# Task: create-rpm-prepare-contents\n",
    "# Evaluation Mode: provided-script\n",
    "\n",
    "# Prepare the contents and create a package\n",
    "\n",
    "IP=\"$(< /home/centos/jenkins-instance-ip)\"\n",
    "ssh -qi /home/centos/mykeypair root@\"$IP\" <<'EOF'\n",
    "cd ${HOME}/rpmbuild/SOURCES\n",
    "mkdir example-0.1.0\n",
    "mkdir example-0.1.0/bin\n",
    "touch example-0.1.0/bin/example\n",
    "find example-0.1.0 -type f\n",
    "EOF"
   ]
  },
  {
   "cell_type": "markdown",
   "metadata": {
    "run_control": {
     "marked": false
    }
   },
   "source": [
    "### 確認\n",
    "次のセルを実行して、ソースコードアーカイブの準備が完了していることを確認して下さい。"
   ]
  },
  {
   "cell_type": "code",
   "execution_count": null,
   "metadata": {
    "collapsed": false,
    "deletable": false,
    "locked": true,
    "run_control": {
     "marked": false
    }
   },
   "outputs": [],
   "source": [
    "# Task: create-rpm-prepare-contents\n",
    "# Evaluation Mode: check"
   ]
  },
  {
   "cell_type": "markdown",
   "metadata": {
    "run_control": {
     "marked": false
    }
   },
   "source": [
    "## 演習 : アーカイブファイルを作成する"
   ]
  },
  {
   "cell_type": "markdown",
   "metadata": {
    "run_control": {
     "marked": false
    }
   },
   "source": [
    "### 演習の内容"
   ]
  },
  {
   "cell_type": "markdown",
   "metadata": {
    "run_control": {
     "marked": false
    }
   },
   "source": [
    "tarコマンドを使用してアーカイブファイルを作成します。アーカイブファイル名は、必ず`パッケージ名-バージョン.tar.gz`とします。\n",
    "```\n",
    "$ tar zcvf example-0.1.0.tar.gz example-0.1.0\n",
    "```\n",
    "\n",
    "実行結果例：\n",
    "\n",
    "> ```\n",
    "> $ tar zcvf example-0.1.0.tar.gz example-0.1.0\n",
    "> example-0.1.0/\n",
    "> example-0.1.0/bin/\n",
    "> example-0.1.0/bin/example\n",
    "> ```\n",
    "\n",
    "**次のセルで、アーカイブを作成して下さい。**"
   ]
  },
  {
   "cell_type": "code",
   "execution_count": null,
   "metadata": {
    "collapsed": true
   },
   "outputs": [],
   "source": []
  },
  {
   "cell_type": "markdown",
   "metadata": {
    "run_control": {
     "marked": false
    }
   },
   "source": [
    "### スクリプト例"
   ]
  },
  {
   "cell_type": "code",
   "execution_count": null,
   "metadata": {
    "collapsed": false,
    "run_control": {
     "marked": false
    }
   },
   "outputs": [],
   "source": [
    "# Task: create-rpm-create-tar\n",
    "# Evaluation Mode: provided-script\n",
    "\n",
    "# Prepare the contents and create a package\n",
    "\n",
    "IP=\"$(< /home/centos/jenkins-instance-ip)\"\n",
    "ssh -qi /home/centos/mykeypair root@\"$IP\" <<'EOF'\n",
    "cd ${HOME}/rpmbuild/SOURCES\n",
    "tar zcvf example-0.1.0.tar.gz example-0.1.0\n",
    "EOF"
   ]
  },
  {
   "cell_type": "markdown",
   "metadata": {
    "run_control": {
     "marked": false
    }
   },
   "source": [
    "### 確認\n",
    "次のセルを実行して、アーカイブファイルの作成が完了していることを確認して下さい。"
   ]
  },
  {
   "cell_type": "code",
   "execution_count": null,
   "metadata": {
    "collapsed": false,
    "deletable": false,
    "locked": true,
    "run_control": {
     "marked": false
    }
   },
   "outputs": [],
   "source": [
    "# Task: create-rpm-create-tar\n",
    "# Evaluation Mode: check"
   ]
  },
  {
   "cell_type": "markdown",
   "metadata": {
    "run_control": {
     "marked": false
    }
   },
   "source": [
    "## 演習 : rpmを作成する"
   ]
  },
  {
   "cell_type": "markdown",
   "metadata": {
    "run_control": {
     "marked": false
    }
   },
   "source": [
    "### 演習の内容"
   ]
  },
  {
   "cell_type": "markdown",
   "metadata": {
    "run_control": {
     "marked": false
    }
   },
   "source": [
    "`rpmbuild`コマンドを使ってrpmを作成します。\n",
    "\n",
    "```\n",
    "$ rpmbuild -bb example.spec\n",
    "```\n",
    "\n",
    "実行結果例：\n",
    "\n",
    "> ```\n",
    "> $ rpmbuild -bb example.spec\n",
    "> Executing(%prep): /bin/sh -e /var/tmp/rpm-tmp.thSbon\n",
    "> + umask 022\n",
    "> + cd /home/vagrant/rpmbuild/BUILD\n",
    "> + cd /home/vagrant/rpmbuild/BUILD\n",
    "> + rm -rf example-0.1.0\n",
    "> + /bin/tar -xf -\n",
    "> + /usr/bin/gzip -dc /home/vagrant/rpmbuild/SOURCES/example-0.1.0.tar.gz\n",
    "> + STATUS=0\n",
    "> + '[' 0 -ne 0 ']'\n",
    "> + cd example-0.1.0\n",
    "> + /bin/chmod -Rf a+rX,u+w,g-w,o-w .\n",
    "> + exit 0\n",
    "> Executing(%build): /bin/sh -e /var/tmp/rpm-tmp.eYFskt\n",
    "> + umask 022\n",
    "> + cd /home/vagrant/rpmbuild/BUILD\n",
    "> + cd example-0.1.0\n",
    "> + exit 0\n",
    "> Executing(%install): /bin/sh -e /var/tmp/rpm-tmp.cwEehz\n",
    "> + umask 022\n",
    "> + cd /home/vagrant/rpmbuild/BUILD\n",
    "> + cd example-0.1.0\n",
    "> + rm -rf /home/vagrant/rpmbuild/BUILDROOT/example-0.1.0-1.el6.x86_64\n",
    "> + mkdir -p /home/vagrant/rpmbuild/BUILDROOT/example-0.1.0-1.el6.x86_64\n",
    "> + rsync -avx ./ /home/vagrant/rpmbuild/BUILDROOT/example-0.1.0-1.el6.x86_64/\n",
    "> sending incremental file list\n",
    "> ./\n",
    "> bin/\n",
    "> bin/example\n",
    ">\n",
    "> sent 128 bytes  received 38 bytes  332.00 bytes/sec\n",
    "> total size is 0  speedup is 0.00\n",
    "> + /usr/lib/rpm/brp-compress\n",
    "> + /usr/lib/rpm/brp-strip\n",
    "> + /usr/lib/rpm/brp-strip-static-archive\n",
    "> + /usr/lib/rpm/brp-strip-comment-note\n",
    "> Processing files: example-0.1.0-1.el6.x86_64\n",
    "> Requires(rpmlib): rpmlib(CompressedFileNames) <= 3.0.4-1 rpmlib(PayloadFilesHavePrefix) <= 4.0-1\n",
    "> Checking for unpackaged file(s): /usr/lib/rpm/check-files /home/vagrant/rpmbuild/BUILDROOT/example-0.1.0-1.el6.x86_64\n",
    "> warning: Could not canonicalize hostname: vagrant-centos6\n",
    "> Wrote: /home/vagrant/rpmbuild/RPMS/x86_64/example-0.1.0-1.el6.x86_64.rpm\n",
    "> Executing(%clean): /bin/sh -e /var/tmp/rpm-tmp.6TMilN\n",
    "> + umask 022\n",
    "> + cd /home/vagrant/rpmbuild/BUILD\n",
    "> + cd example-0.1.0\n",
    "> + rm -rf /home/vagrant/rpmbuild/BUILDROOT/example-0.1.0-1.el6.x86_64\n",
    "> + exit 0\n",
    "> ```\n",
    "\n",
    "**次のセルで、rpmbuildを実行して下さい。**"
   ]
  },
  {
   "cell_type": "code",
   "execution_count": null,
   "metadata": {
    "collapsed": true,
    "run_control": {
     "marked": false
    }
   },
   "outputs": [],
   "source": []
  },
  {
   "cell_type": "markdown",
   "metadata": {
    "run_control": {
     "marked": false
    }
   },
   "source": [
    "### スクリプト例"
   ]
  },
  {
   "cell_type": "code",
   "execution_count": null,
   "metadata": {
    "collapsed": false,
    "deletable": false,
    "locked": true,
    "run_control": {
     "marked": false
    }
   },
   "outputs": [],
   "source": [
    "# Task: create-rpm-build-rpm\n",
    "# Evaluation Mode: provided-script\n",
    "\n",
    "# Build the rpm file\n",
    "\n",
    "IP=\"$(< /home/centos/jenkins-instance-ip)\"\n",
    "ssh -qi /home/centos/mykeypair root@\"$IP\" <<'EOF'\n",
    "cd ${HOME}/rpmbuild/SPECS\n",
    "rpmbuild -bb example.spec\n",
    "EOF"
   ]
  },
  {
   "cell_type": "markdown",
   "metadata": {
    "run_control": {
     "marked": false
    }
   },
   "source": [
    "### 確認\n",
    "次のセルを実行して、rpm作成が完了していることを確認して下さい。"
   ]
  },
  {
   "cell_type": "code",
   "execution_count": null,
   "metadata": {
    "collapsed": false,
    "deletable": false,
    "locked": true,
    "run_control": {
     "marked": false
    }
   },
   "outputs": [],
   "source": [
    "# Task: create-rpm-build-rpm\n",
    "# Evaluation Mode: check"
   ]
  },
  {
   "cell_type": "markdown",
   "metadata": {
    "run_control": {
     "marked": false
    }
   },
   "source": [
    "## 演習 : 出来上がったrpmをインストールする"
   ]
  },
  {
   "cell_type": "markdown",
   "metadata": {
    "run_control": {
     "marked": false
    }
   },
   "source": [
    "### 演習の内容"
   ]
  },
  {
   "cell_type": "markdown",
   "metadata": {
    "run_control": {
     "marked": false
    }
   },
   "source": [
    "**rpmコマンドでインストールします**\n",
    "* rpmbuildの実行結果には、作成したrpmの配置場所が出力されています。\n",
    "```\n",
    "Wrote: /home/vagrant/rpmbuild/RPMS/x86_64/example-0.1.0-1.el6.x86_64.rpm \n",
    "```  \n",
    "* rpmコマンドを使って、生成したrpmパッケージをインストールします。\n",
    "```\n",
    "$ sudo rpm -ivh /home/vagrant/rpmbuild/RPMS/x86_64/example-0.1.0-1.el6.x86_64.rpm\n",
    "```\n",
    "  \n",
    "実行結果例：\n",
    "> ```\n",
    "> $ sudo rpm -ivh /home/vagrant/rpmbuild/RPMS/x86_64/example-0.1.0-1.el6.x86_64.rpm\n",
    "> Preparing...                ########################################### [100%]\n",
    ">    1:example                ########################################### [100%]\n",
    "> ```\n"
   ]
  },
  {
   "cell_type": "markdown",
   "metadata": {
    "run_control": {
     "marked": false
    }
   },
   "source": [
    "**インストールしたrpmの情報を確認します**\n",
    "```\n",
    "$ rpm -qi example\n",
    "```\n",
    "\n",
    "実行結果例：\n",
    "> ```\n",
    "> $ rpm -qi example\n",
    "> Name        : example                      Relocations: (not relocatable)\n",
    "> Version     : 0.1.0                             Vendor: (none)\n",
    "> Release     : 1.el6                         Build Date: Wed 15 Apr 2015 07:20:32 PM JST\n",
    "> Install Date: Wed 15 Apr 2015 07:21:59 PM JST      Build Host: vagrant-centos6\n",
    "> Group       : Unspecified                   Source RPM: example-0.1.0-1.el6.src.rpm\n",
    "> Size        : 0                                License: BSD\n",
    "> Signature   : (none)\n",
    "> Summary     : example\n",
    "> Description :\n",
    ">\n",
    "> ```\n",
    "\n",
    "**ファイルリストを確認します**\n",
    "```\n",
    "$ rpm -ql example\n",
    "```\n",
    "\n",
    "実行結果例：\n",
    "> ```\n",
    "> /\n",
    "> /bin\n",
    "> /bin/example\n",
    "> ```\n",
    "\n",
    "**実際にファイルが存在しているかどうかを確認します**\n",
    "```\n",
    "$ ls -l /bin/example\n",
    "```\n",
    "\n",
    "実行結果例：\n",
    "> ```\n",
    "> $ ls -l /bin/example\n",
    "> -rw-r--r-- 1 root root 0 Apr 15 19:18 /bin/example\n",
    "> ```\n"
   ]
  },
  {
   "cell_type": "markdown",
   "metadata": {
    "run_control": {
     "marked": false
    }
   },
   "source": [
    "**次のセルで、上記のインストール手順を実行して下さい。**"
   ]
  },
  {
   "cell_type": "code",
   "execution_count": null,
   "metadata": {
    "collapsed": true,
    "run_control": {
     "marked": false
    }
   },
   "outputs": [],
   "source": []
  },
  {
   "cell_type": "markdown",
   "metadata": {
    "run_control": {
     "marked": false
    }
   },
   "source": [
    "### スクリプト例"
   ]
  },
  {
   "cell_type": "code",
   "execution_count": null,
   "metadata": {
    "collapsed": false,
    "deletable": false,
    "locked": true,
    "run_control": {
     "marked": false
    }
   },
   "outputs": [],
   "source": [
    "# Task: create-rpm-install-from-rpm\n",
    "# Evaluation Mode: provided-script\n",
    "\n",
    "# Install and confirm the package contents/information\n",
    "\n",
    "IP=\"$(< /home/centos/jenkins-instance-ip)\"\n",
    "ssh -qi /home/centos/mykeypair root@\"$IP\" <<'EOF'\n",
    "sudo rpm -ivh /root/rpmbuild/RPMS/x86_64/example-0.1.0-1.el6.x86_64.rpm\n",
    "rpm -qi example\n",
    "rpm -ql example\n",
    "ls -l /bin/example\n",
    "EOF"
   ]
  },
  {
   "cell_type": "markdown",
   "metadata": {
    "run_control": {
     "marked": false
    }
   },
   "source": [
    "### 確認\n",
    "次のセルを実行して、パッケージのインストールが完了していることを確認して下さい。"
   ]
  },
  {
   "cell_type": "code",
   "execution_count": null,
   "metadata": {
    "collapsed": false,
    "deletable": false,
    "locked": true,
    "run_control": {
     "marked": false
    }
   },
   "outputs": [],
   "source": [
    "# Task: create-rpm-install-from-rpm\n",
    "# Evaluation Mode: check"
   ]
  },
  {
   "cell_type": "markdown",
   "metadata": {
    "run_control": {
     "marked": false
    }
   },
   "source": [
    "### 演習 : rpmが削除出来ることを確認する"
   ]
  },
  {
   "cell_type": "markdown",
   "metadata": {
    "run_control": {
     "marked": false
    }
   },
   "source": [
    "### 演習の内容"
   ]
  },
  {
   "cell_type": "markdown",
   "metadata": {
    "run_control": {
     "marked": false
    }
   },
   "source": [
    "次に正しくrpmが削除出来る事を確認します。\n",
    "\n",
    "**パッケージを削除します**\n",
    "\n",
    "正常に削除した場合は何も出力されません。\n",
    "```\n",
    "$ sudo rpm -e example\n",
    "```\n",
    "\n",
    "実行結果例：\n",
    "> ```\n",
    "> $ sudo rpm -e example\n",
    "> ```\n",
    "\n",
    "**インストールされてない事を確認します** \n",
    "```\n",
    "$ rpm -qi example\n",
    "```\n",
    "\n",
    "実行結果例：\n",
    "> ```\n",
    "> $ rpm -qi example\n",
    "> package example is not installed\n",
    "> ```\n",
    "\n",
    "**`/bin/example`が存在しない事を確認します**\n",
    "```\n",
    "$ ls -l /bin/example\n",
    "```\n",
    "\n",
    "実行結果例：\n",
    "> ```\n",
    "> $ ls -l /bin/example\n",
    "> ls: cannot access /bin/example: No such file or directory\n",
    "> ```\n"
   ]
  },
  {
   "cell_type": "markdown",
   "metadata": {
    "run_control": {
     "marked": false
    }
   },
   "source": [
    "**次のセルで、上記の削除手順を実行して下さい。**"
   ]
  },
  {
   "cell_type": "code",
   "execution_count": null,
   "metadata": {
    "collapsed": true,
    "run_control": {
     "marked": false
    }
   },
   "outputs": [],
   "source": []
  },
  {
   "cell_type": "markdown",
   "metadata": {
    "run_control": {
     "marked": false
    }
   },
   "source": [
    "### スクリプト例"
   ]
  },
  {
   "cell_type": "code",
   "execution_count": null,
   "metadata": {
    "collapsed": false,
    "deletable": false,
    "locked": true,
    "run_control": {
     "marked": false
    }
   },
   "outputs": [],
   "source": [
    "# Task: create-rpm-remove-package\n",
    "# Evaluation Mode: provided-script\n",
    "\n",
    "# Remove the package\n",
    "\n",
    "IP=\"$(< /home/centos/jenkins-instance-ip)\"\n",
    "ssh -qi /home/centos/mykeypair root@\"$IP\" 'sudo rpm -e example'"
   ]
  },
  {
   "cell_type": "markdown",
   "metadata": {
    "run_control": {
     "marked": false
    }
   },
   "source": [
    "### 確認\n",
    "次のセルを実行して、rpmの削除が完了していることを確認して下さい。"
   ]
  },
  {
   "cell_type": "code",
   "execution_count": null,
   "metadata": {
    "collapsed": true,
    "deletable": false,
    "hide_input": false,
    "locked": true,
    "run_control": {
     "marked": false
    }
   },
   "outputs": [],
   "source": [
    "# Task: create-rpm-remove-package\n",
    "# Evaluation Mode: check"
   ]
  },
  {
   "cell_type": "markdown",
   "metadata": {
    "run_control": {
     "marked": false
    }
   },
   "source": [
    "# まとめ"
   ]
  },
  {
   "cell_type": "markdown",
   "metadata": {
    "run_control": {
     "marked": false
    }
   },
   "source": [
    "最小構成rpmを作ってrpm作成手順を学びました。一般的なアーカイブは、ビルド手順を定義する必要が大半です。インストールパスも様々です。そうしたパッケージ特有の手順に合わせて、rpmspecファイルの`%build`セクションと`%install`セクションを記述する必要がありますが、RPMを作る為の手順は、最小構成RPMと同じです。是非、最小構成RPM作成を発展させた独自パッケージ作成に挑戦してみて下さい。"
   ]
  }
 ],
 "metadata": {
  "kernelspec": {
   "display_name": "Bash",
   "language": "bash",
   "name": "bash"
  },
  "language_info": {
   "codemirror_mode": "shell",
   "file_extension": ".sh",
   "mimetype": "text/x-sh",
   "name": "bash"
  },
  "toc": {
   "toc_cell": false,
   "toc_number_sections": true,
   "toc_threshold": 6,
   "toc_window_display": false
  }
 },
 "nbformat": 4,
 "nbformat_minor": 0
}
